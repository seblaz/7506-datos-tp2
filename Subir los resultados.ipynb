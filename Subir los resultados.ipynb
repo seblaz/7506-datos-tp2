{
 "cells": [
  {
   "cell_type": "markdown",
   "metadata": {},
   "source": [
    "# Subir los resultados a Kaggle\n",
    "\n",
    "El objetivo de este notebook es predecir la compra de los usuarios en el dataset *trocafone_kaggle_test.csv* y subir los resultados a kaggle. "
   ]
  },
  {
   "cell_type": "code",
   "execution_count": 2,
   "metadata": {},
   "outputs": [],
   "source": [
    "import pandas as pd\n",
    "import subprocess\n",
    "import os.path"
   ]
  },
  {
   "cell_type": "markdown",
   "metadata": {},
   "source": [
    "Los resultados se pueden subir a través de https://www.kaggle.com/c/trocafone/ o si se tiene instalada api de Kaggle:"
   ]
  },
  {
   "cell_type": "code",
   "execution_count": 4,
   "metadata": {},
   "outputs": [],
   "source": [
    "mensaje_de_submit = 'se precide con adaboost'"
   ]
  },
  {
   "cell_type": "code",
   "execution_count": 6,
   "metadata": {},
   "outputs": [
    {
     "name": "stdout",
     "output_type": "stream",
     "text": [
      "Warning: Your Kaggle API key is readable by otherusers on this system! To fix this, you can run'chmod 600 /home/seba/.kaggle/kaggle.json'\n",
      "Successfully submitted to Predicting user conversions \n"
     ]
    }
   ],
   "source": [
    "result = subprocess.run(['kaggle', 'competitions', 'submit', 'trocafone',\\\n",
    "                        '-f', 'predictions.csv', '-m', mensaje_de_submit],\\\n",
    "                        stdout=subprocess.PIPE, stderr=subprocess.PIPE)\n",
    "if result.returncode != 0:\n",
    "    raise ValueError(result.stderr.decode('utf-8'))\n",
    "else:\n",
    "    print(result.stdout.decode('utf-8'))"
   ]
  },
  {
   "cell_type": "markdown",
   "metadata": {},
   "source": [
    "Vemos que score obtuvimos:"
   ]
  },
  {
   "cell_type": "code",
   "execution_count": 7,
   "metadata": {},
   "outputs": [
    {
     "name": "stdout",
     "output_type": "stream",
     "text": [
      "fileName         date                 description                                                     status    publicScore  privateScore  \n",
      "---------------  -------------------  --------------------------------------------------------------  --------  -----------  ------------  \n",
      "predictions.csv  2018-11-29 18:16:50  se precide con adaboost                                         complete  0.88072      None          \n",
      "predictions.csv  2018-11-18 22:21:31  se precide con features de precios                              complete  0.85356      None          \n",
      "predictions.csv  2018-11-18 17:00:52  se precide con num_round=100                                    complete  0.86243      None          \n",
      "predictions.csv  2018-11-18 17:00:12  se precide con num_round=1000                                   complete  0.86243      None          \n",
      "predictions.csv  2018-11-18 16:53:34  se agregan los nuevos features de fran                          complete  0.86340      None          \n",
      "predictions.csv  2018-11-11 13:27:11  se suben los resultados de xgboost con mejores hiperparametros  complete  0.84554      None          \n",
      "predictions.csv  2018-11-06 17:47:37  se agregan los features de tiempo                               complete  0.84466      None          \n",
      "predictions.csv  2018-11-05 00:23:39  se agregan los features de fran                                 complete  0.83719      None          \n",
      "predictions.csv  2018-11-05 00:21:07  se agregan los features de fran                                 error     None         None          \n",
      "predictions.csv  2018-11-02 19:34:41  primera prediccion con xgboost                                  complete  0.82052      None          \n",
      "predictions.csv  2018-11-01 02:13:47  test con api de kaggle                                          complete  0.50000      None          \n",
      "predictions.csv  2018-11-01 01:48:58  test con ceros                                                  complete  0.50000      None          \n",
      "\n"
     ]
    }
   ],
   "source": [
    "result = subprocess.run(['kaggle', 'competitions', 'submissions', 'trocafone'],\\\n",
    "                        stdout=subprocess.PIPE, stderr=subprocess.PIPE)\n",
    "if result.returncode != 0:\n",
    "    raise ValueError(result.stderr.decode('utf-8'))\n",
    "else:\n",
    "    print(result.stdout.decode('utf-8'))"
   ]
  },
  {
   "cell_type": "markdown",
   "metadata": {},
   "source": [
    "Leaderboard:"
   ]
  },
  {
   "cell_type": "code",
   "execution_count": 3,
   "metadata": {},
   "outputs": [
    {
     "name": "stdout",
     "output_type": "stream",
     "text": [
      " teamId  teamName                   submissionDate       score    \n",
      "-------  -------------------------  -------------------  -------  \n",
      "2250774  Definitely NOT Trocafone   2018-11-27 15:45:11  0.88259  \n",
      "2321761  #27 - RandomName           2018-11-29 18:16:50  0.88072  \n",
      "2436185  Grupo 20                   2018-11-29 06:30:10  0.87890  \n",
      "2158013  Reduce Map Fast            2018-11-29 17:36:52  0.87486  \n",
      "2363956  Leo Dattioli               2018-11-29 18:54:40  0.86939  \n",
      "2160569  Datatouille                2018-11-29 06:44:42  0.86810  \n",
      "2333633  Zulma LoDato               2018-11-29 16:37:31  0.86734  \n",
      "2160612  Mistery Data               2018-11-29 12:33:43  0.86636  \n",
      "2382146  Criminal Data              2018-11-29 15:04:53  0.86444  \n",
      "2173330  dataPhone                  2018-11-29 00:13:12  0.86349  \n",
      "2414017  Datolar Blue               2018-11-24 03:51:18  0.86067  \n",
      "2376912  The beauty and the data    2018-11-29 18:19:17  0.86028  \n",
      "2441393  DataFlames                 2018-11-29 18:21:31  0.85904  \n",
      "2184689  Datazo#25                  2018-11-26 12:06:51  0.85874  \n",
      "2207726  G28                        2018-11-29 18:42:03  0.85613  \n",
      "2367270  Barplotters                2018-11-28 23:24:29  0.85524  \n",
      "2399528  Datata Frita               2018-11-29 04:46:40  0.85426  \n",
      "2413373  Grupo Datonga              2018-11-27 14:37:37  0.85415  \n",
      "2402840  Data Fondo                 2018-11-28 05:16:47  0.85385  \n",
      "2381312  AristoDatos                2018-11-29 16:14:21  0.85050  \n",
      "2201507  Danza con Datos            2018-11-29 11:36:17  0.84720  \n",
      "2408185  Grupo 37- RCU              2018-11-25 03:01:13  0.84549  \n",
      "2413049  Grupo 11                   2018-11-29 15:38:39  0.84402  \n",
      "2359614  Data wan Kenobi            2018-11-29 18:48:53  0.84402  \n",
      "2400295  Data Killers               2018-11-29 01:11:51  0.84107  \n",
      "2337086  Core Dumped                2018-11-25 13:30:35  0.83558  \n",
      "2432425  Grupo02                    2018-11-25 16:58:08  0.83494  \n",
      "2168339  Grupo 42                   2018-11-11 00:39:14  0.83137  \n",
      "2429093  OokinaData                 2018-11-25 02:11:37  0.83108  \n",
      "2305052  Data 21                    2018-11-29 18:51:31  0.82718  \n",
      "2435243  DaTeam                     2018-11-29 03:43:22  0.81046  \n",
      "2408029  Los de arriba son mejores  2018-11-29 00:23:41  0.78911  \n",
      "2400064  Rio de la data             2018-11-21 00:12:20  0.73341  \n",
      "2371865  grupo 39                   2018-11-29 05:06:03  0.61662  \n",
      "2439535  Datalia Datalia            2018-11-26 21:21:13  0.53744  \n",
      "2380637  yo soy tu datita           2018-11-29 18:54:57  0.52394  \n",
      "\n"
     ]
    }
   ],
   "source": [
    "result = subprocess.run(['kaggle', 'competitions', 'leaderboard', 'trocafone', '--show'],\\\n",
    "                        stdout=subprocess.PIPE, stderr=subprocess.PIPE)\n",
    "if result.returncode != 0:\n",
    "    raise ValueError(result.stderr.decode('utf-8'))\n",
    "else:\n",
    "    print(result.stdout.decode('utf-8'))"
   ]
  }
 ],
 "metadata": {
  "kernelspec": {
   "display_name": "Python 3",
   "language": "python",
   "name": "python3"
  },
  "language_info": {
   "codemirror_mode": {
    "name": "ipython",
    "version": 3
   },
   "file_extension": ".py",
   "mimetype": "text/x-python",
   "name": "python",
   "nbconvert_exporter": "python",
   "pygments_lexer": "ipython3",
   "version": "3.5.3"
  }
 },
 "nbformat": 4,
 "nbformat_minor": 2
}
