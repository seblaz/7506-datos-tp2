{
 "cells": [
  {
   "cell_type": "code",
   "execution_count": 1,
   "metadata": {},
   "outputs": [],
   "source": [
    "from sklearn.model_selection import RandomizedSearchCV, cross_val_score\n",
    "from sklearn.ensemble import RandomForestRegressor\n",
    "from scipy.stats import randint\n",
    "from sklearn.model_selection import GridSearchCV\n",
    "from sklearn.metrics import classification_report\n",
    "from time import time\n",
    "import pandas as pd\n",
    "import os\n",
    "from sklearn import datasets\n",
    "from sklearn.model_selection import train_test_split\n",
    "from sklearn.model_selection import GridSearchCV\n",
    "from sklearn.metrics import classification_report"
   ]
  },
  {
   "cell_type": "code",
   "execution_count": 2,
   "metadata": {},
   "outputs": [
    {
     "ename": "KeyboardInterrupt",
     "evalue": "La limpieza ya corrió en este Kernel",
     "output_type": "error",
     "traceback": [
      "\u001b[0;31m---------------------------------------------------------------------------\u001b[0m",
      "\u001b[0;31mKeyboardInterrupt\u001b[0m                         Traceback (most recent call last)",
      "\u001b[0;32m~/Descargas/Predicting-user-conversions/Features/../Limpieza.ipynb\u001b[0m in \u001b[0;36m<module>\u001b[0;34m\u001b[0m\n\u001b[1;32m      1\u001b[0m \u001b[0;32mif\u001b[0m \u001b[0;34m'limpieza_runned'\u001b[0m \u001b[0;32min\u001b[0m \u001b[0mlocals\u001b[0m\u001b[0;34m(\u001b[0m\u001b[0;34m)\u001b[0m\u001b[0;34m:\u001b[0m\u001b[0;34m\u001b[0m\u001b[0;34m\u001b[0m\u001b[0m\n\u001b[0;32m----> 2\u001b[0;31m     \u001b[0;32mraise\u001b[0m \u001b[0mKeyboardInterrupt\u001b[0m\u001b[0;34m(\u001b[0m\u001b[0;34m'La limpieza ya corrió en este Kernel'\u001b[0m\u001b[0;34m)\u001b[0m\u001b[0;34m\u001b[0m\u001b[0;34m\u001b[0m\u001b[0m\n\u001b[0m\u001b[1;32m      3\u001b[0m \u001b[0mlimpieza_runned\u001b[0m \u001b[0;34m=\u001b[0m \u001b[0;32mTrue\u001b[0m\u001b[0;34m\u001b[0m\u001b[0;34m\u001b[0m\u001b[0m\n",
      "\u001b[0;31mKeyboardInterrupt\u001b[0m: La limpieza ya corrió en este Kernel"
     ]
    },
    {
     "ename": "KeyboardInterrupt",
     "evalue": "La limpieza ya corrió en este Kernel",
     "output_type": "error",
     "traceback": [
      "\u001b[0;31m---------------------------------------------------------------------------\u001b[0m",
      "\u001b[0;31mKeyboardInterrupt\u001b[0m                         Traceback (most recent call last)",
      "\u001b[0;32m~/Descargas/Predicting-user-conversions/Features/../Limpieza.ipynb\u001b[0m in \u001b[0;36m<module>\u001b[0;34m\u001b[0m\n\u001b[1;32m      1\u001b[0m \u001b[0;32mif\u001b[0m \u001b[0;34m'limpieza_runned'\u001b[0m \u001b[0;32min\u001b[0m \u001b[0mlocals\u001b[0m\u001b[0;34m(\u001b[0m\u001b[0;34m)\u001b[0m\u001b[0;34m:\u001b[0m\u001b[0;34m\u001b[0m\u001b[0;34m\u001b[0m\u001b[0m\n\u001b[0;32m----> 2\u001b[0;31m     \u001b[0;32mraise\u001b[0m \u001b[0mKeyboardInterrupt\u001b[0m\u001b[0;34m(\u001b[0m\u001b[0;34m'La limpieza ya corrió en este Kernel'\u001b[0m\u001b[0;34m)\u001b[0m\u001b[0;34m\u001b[0m\u001b[0;34m\u001b[0m\u001b[0m\n\u001b[0m\u001b[1;32m      3\u001b[0m \u001b[0mlimpieza_runned\u001b[0m \u001b[0;34m=\u001b[0m \u001b[0;32mTrue\u001b[0m\u001b[0;34m\u001b[0m\u001b[0;34m\u001b[0m\u001b[0m\n",
      "\u001b[0;31mKeyboardInterrupt\u001b[0m: La limpieza ya corrió en este Kernel"
     ]
    },
    {
     "ename": "KeyboardInterrupt",
     "evalue": "La limpieza ya corrió en este Kernel",
     "output_type": "error",
     "traceback": [
      "\u001b[0;31m---------------------------------------------------------------------------\u001b[0m",
      "\u001b[0;31mKeyboardInterrupt\u001b[0m                         Traceback (most recent call last)",
      "\u001b[0;32m~/Descargas/Predicting-user-conversions/Features/../Limpieza.ipynb\u001b[0m in \u001b[0;36m<module>\u001b[0;34m\u001b[0m\n\u001b[1;32m      1\u001b[0m \u001b[0;32mif\u001b[0m \u001b[0;34m'limpieza_runned'\u001b[0m \u001b[0;32min\u001b[0m \u001b[0mlocals\u001b[0m\u001b[0;34m(\u001b[0m\u001b[0;34m)\u001b[0m\u001b[0;34m:\u001b[0m\u001b[0;34m\u001b[0m\u001b[0;34m\u001b[0m\u001b[0m\n\u001b[0;32m----> 2\u001b[0;31m     \u001b[0;32mraise\u001b[0m \u001b[0mKeyboardInterrupt\u001b[0m\u001b[0;34m(\u001b[0m\u001b[0;34m'La limpieza ya corrió en este Kernel'\u001b[0m\u001b[0;34m)\u001b[0m\u001b[0;34m\u001b[0m\u001b[0;34m\u001b[0m\u001b[0m\n\u001b[0m\u001b[1;32m      3\u001b[0m \u001b[0mlimpieza_runned\u001b[0m \u001b[0;34m=\u001b[0m \u001b[0;32mTrue\u001b[0m\u001b[0;34m\u001b[0m\u001b[0;34m\u001b[0m\u001b[0m\n",
      "\u001b[0;31mKeyboardInterrupt\u001b[0m: La limpieza ya corrió en este Kernel"
     ]
    }
   ],
   "source": [
    "if '__file__' in locals():\n",
    "    current_folder = os.path.dirname(os.path.abspath(__file__))\n",
    "else:\n",
    "    current_folder = os.getcwd()\n",
    "merge_features = '\"{}\"'.format(os.path.join(current_folder, '..', 'Features', 'Merge features.ipynb'))\n",
    "calcular_auc = '\"{}\"'.format(os.path.join(current_folder, '..', 'Calcular AUC.ipynb'))\n",
    "set_de_entrenamiento_testing_y_prediccion = '\"{}\"'.format(os.path.join(\n",
    "    current_folder,\n",
    "    '..',\n",
    "    'Set de entrenamiento, testing y predicción.ipynb'\n",
    "))\n",
    "hiperparametros_csv = os.path.join(current_folder, 'hiperparametros', 'random_forest.csv')\n",
    "\n",
    "pd.options.mode.chained_assignment = None\n",
    "%run $merge_features\n",
    "\n",
    "assert(df_features.shape[0] == df['person'].unique().shape[0])\n",
    "\n",
    "%run $set_de_entrenamiento_testing_y_prediccion\n",
    "\n",
    "labels_with_features = labels.merge(df_features, how='inner', on='person')\n",
    "data = labels_with_features.drop('label', axis=1)\n",
    "target = labels_with_features['label']\n",
    "\n",
    "param_dist = {\n",
    "    \"n_estimators\": list(range(2,200,5)),\n",
    "    \"max_depth\": list(range(5,100,5)),\n",
    "    #\"max_features\": randint(1, data.shape[1]),\n",
    "    \"min_samples_split\": list(range(3,30,3)),\n",
    "    \"min_samples_leaf\": list(range(2,30,2)),\n",
    "    \"bootstrap\": [True, False]\n",
    "}\n",
    "scores = ['precision', 'recall']\n",
    "\n",
    "cv_splits = 200# cantidad de splits en el cross validation\n",
    "n_iter_search = 150 # cantidad de puntos, en total splits*n_iter_search RF a probar\n",
    "\n",
    "regr = RandomForestRegressor()"
   ]
  },
  {
   "cell_type": "code",
   "execution_count": 3,
   "metadata": {},
   "outputs": [
    {
     "name": "stdout",
     "output_type": "stream",
     "text": [
      "# Tuning hyper-parameters for precision\n",
      "\n",
      "Best parameters set found on development set:\n",
      "\n",
      "{'n_estimators': 87, 'min_samples_split': 9, 'min_samples_leaf': 26, 'max_depth': 5, 'bootstrap': True}\n",
      "\n",
      "Grid scores on development set:\n",
      "\n",
      "0.748 (+/-0.031) for {'n_estimators': 112, 'min_samples_split': 9, 'min_samples_leaf': 28, 'max_depth': 15, 'bootstrap': False}\n",
      "0.876 (+/-0.016) for {'n_estimators': 87, 'min_samples_split': 9, 'min_samples_leaf': 26, 'max_depth': 5, 'bootstrap': True}\n",
      "0.782 (+/-0.037) for {'n_estimators': 162, 'min_samples_split': 6, 'min_samples_leaf': 14, 'max_depth': 10, 'bootstrap': False}\n",
      "0.873 (+/-0.016) for {'n_estimators': 67, 'min_samples_split': 18, 'min_samples_leaf': 14, 'max_depth': 10, 'bootstrap': True}\n",
      "0.778 (+/-0.039) for {'n_estimators': 112, 'min_samples_split': 18, 'min_samples_leaf': 22, 'max_depth': 75, 'bootstrap': False}\n",
      "0.778 (+/-0.039) for {'n_estimators': 37, 'min_samples_split': 18, 'min_samples_leaf': 22, 'max_depth': 75, 'bootstrap': False}\n",
      "0.729 (+/-0.041) for {'n_estimators': 132, 'min_samples_split': 15, 'min_samples_leaf': 16, 'max_depth': 25, 'bootstrap': False}\n",
      "0.722 (+/-0.045) for {'n_estimators': 82, 'min_samples_split': 27, 'min_samples_leaf': 8, 'max_depth': 50, 'bootstrap': False}\n",
      "0.713 (+/-0.041) for {'n_estimators': 197, 'min_samples_split': 15, 'min_samples_leaf': 12, 'max_depth': 30, 'bootstrap': False}\n",
      "0.870 (+/-0.018) for {'n_estimators': 127, 'min_samples_split': 21, 'min_samples_leaf': 12, 'max_depth': 35, 'bootstrap': True}\n",
      "# Tuning hyper-parameters for recall\n",
      "\n",
      "Best parameters set found on development set:\n",
      "\n",
      "{'n_estimators': 182, 'min_samples_split': 6, 'min_samples_leaf': 28, 'max_depth': 90, 'bootstrap': True}\n",
      "\n",
      "Grid scores on development set:\n",
      "\n",
      "0.662 (+/-0.045) for {'n_estimators': 112, 'min_samples_split': 12, 'min_samples_leaf': 10, 'max_depth': 15, 'bootstrap': False}\n",
      "0.669 (+/-0.029) for {'n_estimators': 172, 'min_samples_split': 9, 'min_samples_leaf': 8, 'max_depth': 15, 'bootstrap': False}\n",
      "0.660 (+/-0.020) for {'n_estimators': 47, 'min_samples_split': 3, 'min_samples_leaf': 4, 'max_depth': 35, 'bootstrap': False}\n",
      "0.766 (+/-0.032) for {'n_estimators': 22, 'min_samples_split': 18, 'min_samples_leaf': 18, 'max_depth': 95, 'bootstrap': False}\n",
      "0.837 (+/-0.033) for {'n_estimators': 42, 'min_samples_split': 6, 'min_samples_leaf': 16, 'max_depth': 5, 'bootstrap': False}\n",
      "0.870 (+/-0.016) for {'n_estimators': 42, 'min_samples_split': 12, 'min_samples_leaf': 18, 'max_depth': 60, 'bootstrap': True}\n",
      "0.709 (+/-0.043) for {'n_estimators': 147, 'min_samples_split': 12, 'min_samples_leaf': 10, 'max_depth': 55, 'bootstrap': False}\n",
      "0.871 (+/-0.017) for {'n_estimators': 182, 'min_samples_split': 27, 'min_samples_leaf': 10, 'max_depth': 15, 'bootstrap': True}\n",
      "0.696 (+/-0.050) for {'n_estimators': 112, 'min_samples_split': 21, 'min_samples_leaf': 10, 'max_depth': 25, 'bootstrap': False}\n",
      "0.875 (+/-0.014) for {'n_estimators': 182, 'min_samples_split': 6, 'min_samples_leaf': 28, 'max_depth': 90, 'bootstrap': True}\n"
     ]
    }
   ],
   "source": [
    "for score in scores:\n",
    "    print(\"# Tuning hyper-parameters for %s\" % score)\n",
    "    print()\n",
    "\n",
    "    clf = RandomizedSearchCV(regr, param_dist,scoring='roc_auc' , n_jobs=-1 ,)\n",
    "    clf.fit(data, target)\n",
    "\n",
    "    print(\"Best parameters set found on development set:\")\n",
    "    print()\n",
    "    print(clf.best_params_)\n",
    "    print()\n",
    "    print(\"Grid scores on development set:\")\n",
    "    print()\n",
    "    means = clf.cv_results_['mean_test_score']\n",
    "    stds = clf.cv_results_['std_test_score']\n",
    "    for mean, std, params in zip(means, stds, clf.cv_results_['params']):\n",
    "        print(\"%0.3f (+/-%0.03f) for %r\" % (mean, std * 2, params))"
   ]
  },
  {
   "cell_type": "code",
   "execution_count": 4,
   "metadata": {},
   "outputs": [
    {
     "name": "stdout",
     "output_type": "stream",
     "text": [
      "score: 0.8747708883646019\n"
     ]
    },
    {
     "data": {
      "text/plain": [
       "{'n_estimators': 182,\n",
       " 'min_samples_split': 6,\n",
       " 'min_samples_leaf': 28,\n",
       " 'max_depth': 90,\n",
       " 'bootstrap': True}"
      ]
     },
     "execution_count": 4,
     "metadata": {},
     "output_type": "execute_result"
    }
   ],
   "source": [
    "print('score: {}'.format(clf.best_score_))\n",
    "clf.best_params_"
   ]
  }
 ],
 "metadata": {
  "kernelspec": {
   "display_name": "Python 3",
   "language": "python",
   "name": "python3"
  },
  "language_info": {
   "codemirror_mode": {
    "name": "ipython",
    "version": 3
   },
   "file_extension": ".py",
   "mimetype": "text/x-python",
   "name": "python",
   "nbconvert_exporter": "python",
   "pygments_lexer": "ipython3",
   "version": "3.6.9"
  }
 },
 "nbformat": 4,
 "nbformat_minor": 2
}
