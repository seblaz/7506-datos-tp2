{
 "cells": [
  {
   "cell_type": "code",
   "execution_count": null,
   "metadata": {},
   "outputs": [],
   "source": [
    "from sklearn import preprocessing\n",
    "from sklearn.neighbors import KNeighborsClassifier\n",
    "import pandas as pd\n"
   ]
  },
  {
   "cell_type": "code",
   "execution_count": null,
   "metadata": {},
   "outputs": [],
   "source": [
    "df = pd.read_csv('NOMBRE DEL CSV')\n",
    "le = preprocessing.LabelEncoder()"
   ]
  },
  {
   "cell_type": "markdown",
   "metadata": {},
   "source": [
    "# ENCODEO CADA COLUMNA"
   ]
  },
  {
   "cell_type": "code",
   "execution_count": null,
   "metadata": {},
   "outputs": [],
   "source": [
    "for col in test.columns:\n",
    "    df[col] = df[col].fillna('na')\n",
    "    le.fit(df[col])\n",
    "    df[col] = le.transform(df[col])"
   ]
  },
  {
   "cell_type": "markdown",
   "metadata": {},
   "source": [
    "# HAGO EL SPLIT DE ENTRENAMIENTO Y TEST\n",
    "\n",
    "## CUIDADO\n",
    "\n",
    "### DEJE df[0],df[0] PORQUE TODAVIA NO SE CUALES COLUMNAS SON FEATURES Y CUALES TARGETS O LABELS.\n",
    "\n",
    "##### ELEGIR EL RANDOM STATE MAS FELIZ QUE SE LES OCURRA, MEJRO QUE SEA NUMERO PRIMO"
   ]
  },
  {
   "cell_type": "code",
   "execution_count": null,
   "metadata": {},
   "outputs": [],
   "source": [
    "from sklearn.model_selection import train_test_split\n",
    "\n",
    "X_train, X_test, y_train, y_test = train_test_split(df[0], df[0], test_size=0.2, random_state=43)"
   ]
  },
  {
   "cell_type": "markdown",
   "metadata": {},
   "source": [
    "# APLICO KNN EN BUSCA DEL MEJOR K\n",
    "\n",
    "## OJO ESTO TARDA MUCHO.\n",
    "\n",
    "### SE PUEDE  JUGAR CON LOS HIPER PARAMETROS"
   ]
  },
  {
   "cell_type": "code",
   "execution_count": null,
   "metadata": {},
   "outputs": [],
   "source": [
    "result = []\n",
    "\n",
    "for i in range(5,100,10):\n",
    "    neigh = KNeighborsClassifier(n_neighbors=i ,n_jobs=-1, algorithm='kd_tree',metric=\"euclidean\")\n",
    "    neigh.fit(X_train, y_train)\n",
    "    scoree = neigh.score(X_test, y_test, sample_weight=None)\n",
    "    print(i,\" neighboors \",scoree)\n",
    "    result.append([i,scoree])"
   ]
  },
  {
   "cell_type": "code",
   "execution_count": null,
   "metadata": {},
   "outputs": [],
   "source": [
    "K"
   ]
  }
 ],
 "metadata": {
  "kernelspec": {
   "display_name": "Python 3",
   "language": "python",
   "name": "python3"
  },
  "language_info": {
   "codemirror_mode": {
    "name": "ipython",
    "version": 3
   },
   "file_extension": ".py",
   "mimetype": "text/x-python",
   "name": "python",
   "nbconvert_exporter": "python",
   "pygments_lexer": "ipython3",
   "version": "3.6.4"
  }
 },
 "nbformat": 4,
 "nbformat_minor": 2
}
