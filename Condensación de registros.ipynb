{
 "cells": [
  {
   "cell_type": "markdown",
   "metadata": {},
   "source": [
    "# Condensación de registros\n",
    "\n",
    "La idea de esta notebook es condensar los registros de manera tal que quede un registro por usuario.\n",
    "\n",
    " - [screen_resolution](#screen_resolution)"
   ]
  },
  {
   "cell_type": "code",
   "execution_count": 107,
   "metadata": {},
   "outputs": [],
   "source": [
    "%run limpieza.ipynb\n",
    "df = get_clean_df()"
   ]
  },
  {
   "cell_type": "markdown",
   "metadata": {},
   "source": [
    "Creo el nuevo dataframe que va a tener una fila por usuario:"
   ]
  },
  {
   "cell_type": "code",
   "execution_count": 108,
   "metadata": {},
   "outputs": [],
   "source": [
    "c_df = pd.DataFrame(index=df['person'].unique())"
   ]
  },
  {
   "cell_type": "markdown",
   "metadata": {},
   "source": [
    "<h4 id=\"screen_resolution\">screen_resolution</h4>\n",
    "\n",
    "Para este atributos se utilizó el promedio entre los distintos valores, sin tener en cuenta los nulos."
   ]
  },
  {
   "cell_type": "code",
   "execution_count": 130,
   "metadata": {},
   "outputs": [],
   "source": [
    "c_df['screen_resolution_height'] = df.groupby('person')['screen_resolution_height'].mean()\n",
    "c_df['screen_resolution_width'] = df.groupby('person')['screen_resolution_width'].mean()"
   ]
  }
 ],
 "metadata": {
  "kernelspec": {
   "display_name": "Python 3",
   "language": "python",
   "name": "python3"
  },
  "language_info": {
   "codemirror_mode": {
    "name": "ipython",
    "version": 3
   },
   "file_extension": ".py",
   "mimetype": "text/x-python",
   "name": "python",
   "nbconvert_exporter": "python",
   "pygments_lexer": "ipython3",
   "version": "3.6.5"
  }
 },
 "nbformat": 4,
 "nbformat_minor": 2
}
