{
 "cells": [
  {
   "cell_type": "code",
   "execution_count": 1,
   "metadata": {},
   "outputs": [],
   "source": [
    "import os\n",
    "if '__file__' in locals():\n",
    "    current_folder = os.path.dirname(os.path.abspath(__file__))\n",
    "else:\n",
    "    current_folder = os.getcwd()\n",
    "\n",
    "limpieza_path = '\"{}\"'.format(os.path.join(current_folder, '..', 'Limpieza.ipynb'))\n",
    "%run $limpieza_path\n",
    "df = get_clean_df()"
   ]
  },
  {
   "cell_type": "markdown",
   "metadata": {},
   "source": [
    "for _, row in df.iterrows():\n",
    "    \n",
    "    if row.person in dict_event:\n",
    "        list_dict = dict_event[row.person]\n",
    "        if row.event != 'checkout':\n",
    "            if row.event in list_dict[-1]:\n",
    "                list_dict[-1][row.event] += 1\n",
    "            else:\n",
    "                list_dict[-1][row.event] = 1\n",
    "        else:\n",
    "            list_dict.append({})\n",
    "    else:\n",
    "        dict_event[row.person] = [{}]"
   ]
  },
  {
   "cell_type": "markdown",
   "metadata": {},
   "source": [
    "dict_event = {}\n",
    "counter = 0\n",
    "d={}\n",
    "df.sort_values(by=['timestamp'], inplace=True)\n",
    "df.reset_index(drop=True, inplace=True)\n",
    "\n",
    "for index, row in df.iterrows():\n",
    "    #no cuenta al evento 1, si queres que lo cuente, cuando guardas\n",
    "    #en el dict, haces counter + 1\n",
    "    if row.event != 'checkout': # row.<col_name_con_condicion> ? condicion\n",
    "        if row.event in d:\n",
    "            d[row.event] += 1\n",
    "        else:\n",
    "            d[row.event] = 1\n",
    "    else:\n",
    "        d={}\n",
    "        dict_event[row.person] = d\n",
    "        "
   ]
  },
  {
   "cell_type": "markdown",
   "metadata": {},
   "source": [
    "dict_event = {}\n",
    "counter = 0\n",
    "d={}\n",
    "df.sort_values(by=['person','timestamp'], inplace=True)\n",
    "df.reset_index(drop=True, inplace=True)\n",
    "\n",
    "for index, row in df.iterrows():\n",
    "    #no cuenta al evento 1, si queres que lo cuente, cuando guardas\n",
    "    #en el dict, haces counter + 1\n",
    "    if row.event != 'checkout': # row.<col_name_con_condicion> ? condicion\n",
    "        if row.event in d:\n",
    "            d[row.event] += 1\n",
    "        else:\n",
    "            d[row.event] = 1\n",
    "    else:\n",
    "        dict_event[row.person] = d\n",
    "        d={}"
   ]
  },
  {
   "cell_type": "markdown",
   "metadata": {},
   "source": [
    "dict_event"
   ]
  },
  {
   "cell_type": "markdown",
   "metadata": {},
   "source": [
    "l = []\n",
    "df2 = pd.DataFrame()\n",
    "for key in dict_event:\n",
    "    for value in dict_event[key]:\n",
    "        l.append({key: value})\n",
    "    \n",
    "df2 = pd.DataFrame.from_records(l)\n",
    "    "
   ]
  },
  {
   "cell_type": "code",
   "execution_count": null,
   "metadata": {},
   "outputs": [],
   "source": []
  },
  {
   "cell_type": "markdown",
   "metadata": {},
   "source": [
    "df = pd.get_dummies(df['event'])"
   ]
  },
  {
   "cell_type": "markdown",
   "metadata": {},
   "source": [
    "lista = df.columns"
   ]
  },
  {
   "cell_type": "markdown",
   "metadata": {},
   "source": [
    "df2.fillna(0,inplace=True)\n",
    "df2"
   ]
  },
  {
   "cell_type": "markdown",
   "metadata": {},
   "source": [
    "df2.reset_index(inplace=True)"
   ]
  },
  {
   "cell_type": "markdown",
   "metadata": {},
   "source": [
    "df2['index'].unique().size"
   ]
  },
  {
   "cell_type": "markdown",
   "metadata": {},
   "source": [
    "df = df2"
   ]
  },
  {
   "cell_type": "markdown",
   "metadata": {},
   "source": [
    "df"
   ]
  },
  {
   "cell_type": "code",
   "execution_count": null,
   "metadata": {},
   "outputs": [],
   "source": [
    "df"
   ]
  },
  {
   "cell_type": "code",
   "execution_count": null,
   "metadata": {},
   "outputs": [],
   "source": []
  }
 ],
 "metadata": {
  "kernelspec": {
   "display_name": "Python 3",
   "language": "python",
   "name": "python3"
  },
  "language_info": {
   "codemirror_mode": {
    "name": "ipython",
    "version": 3
   },
   "file_extension": ".py",
   "mimetype": "text/x-python",
   "name": "python",
   "nbconvert_exporter": "python",
   "pygments_lexer": "ipython3",
   "version": "3.6.4"
  }
 },
 "nbformat": 4,
 "nbformat_minor": 2
}
