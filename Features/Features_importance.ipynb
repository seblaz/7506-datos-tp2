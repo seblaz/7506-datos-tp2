{
 "cells": [
  {
   "cell_type": "code",
   "execution_count": 1,
   "metadata": {},
   "outputs": [],
   "source": [
    "import pandas as pd\n",
    "import numpy as np"
   ]
  },
  {
   "cell_type": "markdown",
   "metadata": {},
   "source": [
    "# Leer antes de usar.\n",
    "\n",
    "##### tenemos que poner un nombre al csv que le vamos a pasar, o directamente modificar la linea para que levante un dataframe\n",
    "##### ademas, estoy dando por supuesto que la columna a predecir se llama \"target\" por favor respetar esto en los otros notebooks. \n",
    "\n",
    "# disclaimer of future problems:\n",
    "### this problably take a while to run :)"
   ]
  },
  {
   "cell_type": "code",
   "execution_count": null,
   "metadata": {},
   "outputs": [],
   "source": [
    "df = pd.read_csv(\"ACA VA EL CSV (DEBERIA LLMARSE SIEMPRE IGUAL EL CSV A TESTEAR)\")"
   ]
  },
  {
   "cell_type": "code",
   "execution_count": null,
   "metadata": {},
   "outputs": [],
   "source": [
    "feat_labels = df.columns\n",
    "X = df.loc[:, df.columns != 'target']\n",
    "y = df[['target']]\n",
    "X_train, X_test, y_train, y_test = train_test_split(X, y, test_size=0.2, random_state=0)\n",
    "\n",
    "clf = RandomForestClassifier(n_estimators=10000, random_state=0, n_jobs=-1)\n",
    "clf.fit(X_train, y_train)"
   ]
  },
  {
   "cell_type": "code",
   "execution_count": null,
   "metadata": {},
   "outputs": [],
   "source": [
    "lista_features = []\n",
    "for feature in zip(feat_labels, clf.feature_importances_):\n",
    "    lista_features.append(feat_labels)\n",
    "    print(feature)"
   ]
  },
  {
   "cell_type": "code",
   "execution_count": null,
   "metadata": {},
   "outputs": [],
   "source": [
    "labels = ['feature', 'weight']\n",
    "df1 = pd.DataFrame.from_records(lista_features, columns=labels)"
   ]
  }
 ],
 "metadata": {
  "kernelspec": {
   "display_name": "Python 3",
   "language": "python",
   "name": "python3"
  },
  "language_info": {
   "codemirror_mode": {
    "name": "ipython",
    "version": 3
   },
   "file_extension": ".py",
   "mimetype": "text/x-python",
   "name": "python",
   "nbconvert_exporter": "python",
   "pygments_lexer": "ipython3",
   "version": "3.6.4"
  }
 },
 "nbformat": 4,
 "nbformat_minor": 2
}
