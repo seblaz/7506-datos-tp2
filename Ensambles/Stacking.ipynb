{
 "cells": [
  {
   "cell_type": "markdown",
   "metadata": {},
   "source": [
    "# Stacking ensembling\n",
    "\n",
    "Vamos a crear un ensamble de tipo stacking. Para ello se utilizaron las siguientes fuentes:\n",
    " - https://mlwave.com/kaggle-ensembling-guide/\n",
    " - http://blog.kaggle.com/2016/12/27/a-kagglers-guide-to-model-stacking-in-practice/\n",
    " - https://github.com/emanuele/kaggle_pbr/blob/master/blend.py\n",
    "\n",
    "Para ello se desarrollaron las siguientes secciones:\n",
    " - [Predictores base](#Predictores-base)\n",
    "     - [Xgboost](#Xgboost)\n",
    "     - [Random Forest](#Random-Forest)\n",
    "     - [AdaBoost](#AdaBoost)\n",
    " - [Metafeatures](#Metafeatures)\n",
    " - [Predictor Stacking](#Predictor-Stacking)"
   ]
  },
  {
   "cell_type": "code",
   "execution_count": 105,
   "metadata": {},
   "outputs": [],
   "source": [
    "from sklearn.model_selection import cross_val_score, RandomizedSearchCV\n",
    "from sklearn.ensemble import RandomForestRegressor, AdaBoostRegressor\n",
    "from sklearn.linear_model import LogisticRegression\n",
    "from sklearn.tree import DecisionTreeRegressor\n",
    "from sklearn.model_selection import KFold\n",
    "from xgboost import XGBRegressor\n",
    "from time import time\n",
    "import pandas as pd\n",
    "import os"
   ]
  },
  {
   "cell_type": "code",
   "execution_count": 6,
   "metadata": {},
   "outputs": [],
   "source": [
    "if '__file__' in locals():\n",
    "    current_folder = os.path.dirname(os.path.abspath(__file__))\n",
    "else:\n",
    "    current_folder = os.getcwd()\n",
    "\n",
    "set_de_entrenamiento_testing_y_prediccion = '\"{}\"'.format(os.path.join(\n",
    "    current_folder,\n",
    "    '..',\n",
    "    'Set de entrenamiento, testing y predicción.ipynb'\n",
    "))\n",
    "merge_features = '\"{}\"'.format(os.path.join(current_folder, '..', 'Features', 'Merge features.ipynb'))"
   ]
  },
  {
   "cell_type": "markdown",
   "metadata": {},
   "source": [
    "Cargo el df con los features."
   ]
  },
  {
   "cell_type": "code",
   "execution_count": 7,
   "metadata": {},
   "outputs": [
    {
     "ename": "KeyboardInterrupt",
     "evalue": "La limpieza ya corrió en este Kernel",
     "output_type": "error",
     "traceback": [
      "\u001b[0;31m---------------------------------------------------------------------------\u001b[0m",
      "\u001b[0;31mKeyboardInterrupt\u001b[0m                         Traceback (most recent call last)",
      "\u001b[0;32m~/DATOS/UBA/Organizacion de Datos/tp2/Features/../Limpieza.ipynb\u001b[0m in \u001b[0;36m<module>\u001b[0;34m()\u001b[0m\n\u001b[1;32m      1\u001b[0m \u001b[0;32mif\u001b[0m \u001b[0;34m'limpieza_runned'\u001b[0m \u001b[0;32min\u001b[0m \u001b[0mlocals\u001b[0m\u001b[0;34m(\u001b[0m\u001b[0;34m)\u001b[0m\u001b[0;34m:\u001b[0m\u001b[0;34m\u001b[0m\u001b[0m\n\u001b[0;32m----> 2\u001b[0;31m     \u001b[0;32mraise\u001b[0m \u001b[0mKeyboardInterrupt\u001b[0m\u001b[0;34m(\u001b[0m\u001b[0;34m'La limpieza ya corrió en este Kernel'\u001b[0m\u001b[0;34m)\u001b[0m\u001b[0;34m\u001b[0m\u001b[0m\n\u001b[0m\u001b[1;32m      3\u001b[0m \u001b[0mlimpieza_runned\u001b[0m \u001b[0;34m=\u001b[0m \u001b[0;32mTrue\u001b[0m\u001b[0;34m\u001b[0m\u001b[0m\n",
      "\u001b[0;31mKeyboardInterrupt\u001b[0m: La limpieza ya corrió en este Kernel"
     ]
    },
    {
     "ename": "KeyboardInterrupt",
     "evalue": "La limpieza ya corrió en este Kernel",
     "output_type": "error",
     "traceback": [
      "\u001b[0;31m---------------------------------------------------------------------------\u001b[0m",
      "\u001b[0;31mKeyboardInterrupt\u001b[0m                         Traceback (most recent call last)",
      "\u001b[0;32m~/DATOS/UBA/Organizacion de Datos/tp2/Features/../Limpieza.ipynb\u001b[0m in \u001b[0;36m<module>\u001b[0;34m()\u001b[0m\n\u001b[1;32m      1\u001b[0m \u001b[0;32mif\u001b[0m \u001b[0;34m'limpieza_runned'\u001b[0m \u001b[0;32min\u001b[0m \u001b[0mlocals\u001b[0m\u001b[0;34m(\u001b[0m\u001b[0;34m)\u001b[0m\u001b[0;34m:\u001b[0m\u001b[0;34m\u001b[0m\u001b[0m\n\u001b[0;32m----> 2\u001b[0;31m     \u001b[0;32mraise\u001b[0m \u001b[0mKeyboardInterrupt\u001b[0m\u001b[0;34m(\u001b[0m\u001b[0;34m'La limpieza ya corrió en este Kernel'\u001b[0m\u001b[0;34m)\u001b[0m\u001b[0;34m\u001b[0m\u001b[0m\n\u001b[0m\u001b[1;32m      3\u001b[0m \u001b[0mlimpieza_runned\u001b[0m \u001b[0;34m=\u001b[0m \u001b[0;32mTrue\u001b[0m\u001b[0;34m\u001b[0m\u001b[0m\n",
      "\u001b[0;31mKeyboardInterrupt\u001b[0m: La limpieza ya corrió en este Kernel"
     ]
    },
    {
     "ename": "KeyboardInterrupt",
     "evalue": "La limpieza ya corrió en este Kernel",
     "output_type": "error",
     "traceback": [
      "\u001b[0;31m---------------------------------------------------------------------------\u001b[0m",
      "\u001b[0;31mKeyboardInterrupt\u001b[0m                         Traceback (most recent call last)",
      "\u001b[0;32m~/DATOS/UBA/Organizacion de Datos/tp2/Features/../Limpieza.ipynb\u001b[0m in \u001b[0;36m<module>\u001b[0;34m()\u001b[0m\n\u001b[1;32m      1\u001b[0m \u001b[0;32mif\u001b[0m \u001b[0;34m'limpieza_runned'\u001b[0m \u001b[0;32min\u001b[0m \u001b[0mlocals\u001b[0m\u001b[0;34m(\u001b[0m\u001b[0;34m)\u001b[0m\u001b[0;34m:\u001b[0m\u001b[0;34m\u001b[0m\u001b[0m\n\u001b[0;32m----> 2\u001b[0;31m     \u001b[0;32mraise\u001b[0m \u001b[0mKeyboardInterrupt\u001b[0m\u001b[0;34m(\u001b[0m\u001b[0;34m'La limpieza ya corrió en este Kernel'\u001b[0m\u001b[0;34m)\u001b[0m\u001b[0;34m\u001b[0m\u001b[0m\n\u001b[0m\u001b[1;32m      3\u001b[0m \u001b[0mlimpieza_runned\u001b[0m \u001b[0;34m=\u001b[0m \u001b[0;32mTrue\u001b[0m\u001b[0;34m\u001b[0m\u001b[0m\n",
      "\u001b[0;31mKeyboardInterrupt\u001b[0m: La limpieza ya corrió en este Kernel"
     ]
    }
   ],
   "source": [
    "pd.options.mode.chained_assignment = None\n",
    "%run $merge_features"
   ]
  },
  {
   "cell_type": "code",
   "execution_count": 9,
   "metadata": {},
   "outputs": [],
   "source": [
    "assert(df_features.shape[0] == get_clean_df()['person'].unique().shape[0])"
   ]
  },
  {
   "cell_type": "markdown",
   "metadata": {},
   "source": [
    "Cargo el set de entrenamiento."
   ]
  },
  {
   "cell_type": "code",
   "execution_count": 35,
   "metadata": {},
   "outputs": [],
   "source": [
    "%run $set_de_entrenamiento_testing_y_prediccion\n",
    "\n",
    "labels_with_features = labels.merge(df_features, how='inner', on='person')\n",
    "train = labels_with_features.drop('label', axis=1)\n",
    "train_target = labels_with_features['label']"
   ]
  },
  {
   "cell_type": "markdown",
   "metadata": {},
   "source": [
    "### Predictores base\n",
    "\n",
    "En esta sección vamos a preparar los predictores base a utilizar. Estos son los mismos que se encuentran en la carpeta *Algoritmos de ML*."
   ]
  },
  {
   "cell_type": "code",
   "execution_count": 11,
   "metadata": {},
   "outputs": [],
   "source": [
    "base_predictors = []"
   ]
  },
  {
   "cell_type": "markdown",
   "metadata": {},
   "source": [
    "#### Xgboost\n",
    "\n",
    "Nota: vamos a usar XGBRegressor para tener la misma interfaz con el resto de los predictores. Los hiperparámetros tienen distinto nombre, pero producen los mismos resultados. Se puede consultar la documentación de xgboost para encontrar los nombres de los parámetros: https://xgboost.readthedocs.io/en/latest/python/python_api.html#xgboost.XGBRegressor. "
   ]
  },
  {
   "cell_type": "code",
   "execution_count": 21,
   "metadata": {},
   "outputs": [],
   "source": [
    "param = {\n",
    "    'objective': 'reg:logistic',\n",
    "    'colsamble_bylevel': 1,\n",
    "    'colsamble_bytree': 1,\n",
    "    'min_child_weight': 1,\n",
    "    'learning_rate': 0.3,\n",
    "    'max_delta_step': 5,\n",
    "    'n_estimators': 25,\n",
    "    'reg_lambda': 3,\n",
    "    'max_depth': 9,\n",
    "    'silent': True,\n",
    "    'subsample': 1,\n",
    "    'reg_alpha': 2,\n",
    "    'gamma': 10\n",
    "}\n",
    "\n",
    "base_predictors.append(XGBRegressor(**param))"
   ]
  },
  {
   "cell_type": "markdown",
   "metadata": {},
   "source": [
    "#### Random Forest"
   ]
  },
  {
   "cell_type": "code",
   "execution_count": 14,
   "metadata": {},
   "outputs": [],
   "source": [
    "param = {\n",
    "    'bootstrap': True,\n",
    "    'max_depth': 9,\n",
    "    'max_features': 37,\n",
    "    'min_samples_leaf': 30,\n",
    "    'min_samples_split': 7,\n",
    "    'n_estimators': 784\n",
    "}\n",
    "\n",
    "base_predictors.append(RandomForestRegressor(**param))"
   ]
  },
  {
   "cell_type": "markdown",
   "metadata": {},
   "source": [
    "#### AdaBoost"
   ]
  },
  {
   "cell_type": "code",
   "execution_count": 19,
   "metadata": {},
   "outputs": [],
   "source": [
    "param = {\n",
    "    'n_estimators': 124,\n",
    "    'loss': 'linear',\n",
    "    'learning_rate': 0.07,\n",
    "    'base_estimator': DecisionTreeRegressor(criterion='mse', max_depth=4, max_features=None,\n",
    "            max_leaf_nodes=None, min_impurity_decrease=0.0,\n",
    "            min_impurity_split=None, min_samples_leaf=1,\n",
    "            min_samples_split=2, min_weight_fraction_leaf=0.0,\n",
    "            presort=False, random_state=None, splitter='best')\n",
    "}\n",
    "\n",
    "base_predictors.append(AdaBoostRegressor(**param))"
   ]
  },
  {
   "cell_type": "markdown",
   "metadata": {},
   "source": [
    "### Metafeatures\n",
    "\n",
    "Ahora vamos a realizar una predicción por cada predictor base, y las vamos a agregar a una copia del set de entrenamiento (*train_meta*)."
   ]
  },
  {
   "cell_type": "code",
   "execution_count": 76,
   "metadata": {},
   "outputs": [],
   "source": [
    "train_meta = train.copy()\n",
    "for predictor in base_predictors:\n",
    "    train_meta[predictor.__class__.__name__] = np.nan"
   ]
  },
  {
   "cell_type": "markdown",
   "metadata": {},
   "source": [
    "Para realizar las predicciones utilizar cross validation."
   ]
  },
  {
   "cell_type": "code",
   "execution_count": 77,
   "metadata": {},
   "outputs": [
    {
     "name": "stdout",
     "output_type": "stream",
     "text": [
      "CPU times: user 7min 39s, sys: 96 ms, total: 7min 39s\n",
      "Wall time: 7min 39s\n"
     ]
    }
   ],
   "source": [
    "%%time\n",
    "kf = KFold(n_splits=10, shuffle=False)\n",
    "for train_i, validation_i in kf.split(train):    \n",
    "    for predictor in base_predictors:\n",
    "        # como warm_start=False cada vez que llamo fit, el modelo se reinicia\n",
    "        predictor.fit(train.iloc[train_i], target.iloc[train_i]) # train\n",
    "        train_meta[predictor.__class__.__name__].iloc[validation_i] = predictor.predict(train.iloc[validation_i]) # predict"
   ]
  },
  {
   "cell_type": "code",
   "execution_count": 79,
   "metadata": {},
   "outputs": [
    {
     "data": {
      "text/html": [
       "<div>\n",
       "<style scoped>\n",
       "    .dataframe tbody tr th:only-of-type {\n",
       "        vertical-align: middle;\n",
       "    }\n",
       "\n",
       "    .dataframe tbody tr th {\n",
       "        vertical-align: top;\n",
       "    }\n",
       "\n",
       "    .dataframe thead th {\n",
       "        text-align: right;\n",
       "    }\n",
       "</style>\n",
       "<table border=\"1\" class=\"dataframe\">\n",
       "  <thead>\n",
       "    <tr style=\"text-align: right;\">\n",
       "      <th></th>\n",
       "      <th>screen_resolution_height mean</th>\n",
       "      <th>screen_resolution_width mean</th>\n",
       "      <th>screen_resolution_height std</th>\n",
       "      <th>screen_resolution_width std</th>\n",
       "      <th>ad campaign hit</th>\n",
       "      <th>brand listing</th>\n",
       "      <th>checkout</th>\n",
       "      <th>conversion</th>\n",
       "      <th>generic listing</th>\n",
       "      <th>lead</th>\n",
       "      <th>search engine hit</th>\n",
       "      <th>searched products</th>\n",
       "      <th>...</th>\n",
       "      <th>Saturday</th>\n",
       "      <th>Sunday</th>\n",
       "      <th>Thursday</th>\n",
       "      <th>Tuesday</th>\n",
       "      <th>Wednesday</th>\n",
       "      <th>madrugada</th>\n",
       "      <th>tarde</th>\n",
       "      <th>noche</th>\n",
       "      <th>maniana</th>\n",
       "      <th>RandomForestRegressor</th>\n",
       "      <th>AdaBoostRegressor</th>\n",
       "      <th>XGBRegressor</th>\n",
       "    </tr>\n",
       "    <tr>\n",
       "      <th>person</th>\n",
       "      <th></th>\n",
       "      <th></th>\n",
       "      <th></th>\n",
       "      <th></th>\n",
       "      <th></th>\n",
       "      <th></th>\n",
       "      <th></th>\n",
       "      <th></th>\n",
       "      <th></th>\n",
       "      <th></th>\n",
       "      <th></th>\n",
       "      <th></th>\n",
       "      <th></th>\n",
       "      <th></th>\n",
       "      <th></th>\n",
       "      <th></th>\n",
       "      <th></th>\n",
       "      <th></th>\n",
       "      <th></th>\n",
       "      <th></th>\n",
       "      <th></th>\n",
       "      <th></th>\n",
       "      <th></th>\n",
       "      <th></th>\n",
       "      <th></th>\n",
       "    </tr>\n",
       "  </thead>\n",
       "  <tbody>\n",
       "    <tr>\n",
       "      <th>0566e9c1</th>\n",
       "      <td>568.0</td>\n",
       "      <td>320.0</td>\n",
       "      <td>0.0</td>\n",
       "      <td>0.0</td>\n",
       "      <td>6.0</td>\n",
       "      <td>3.0</td>\n",
       "      <td>1.0</td>\n",
       "      <td>1.0</td>\n",
       "      <td>15.0</td>\n",
       "      <td>0.0</td>\n",
       "      <td>1.0</td>\n",
       "      <td>0.0</td>\n",
       "      <td>...</td>\n",
       "      <td>0.0</td>\n",
       "      <td>0.0</td>\n",
       "      <td>0.0</td>\n",
       "      <td>0.0</td>\n",
       "      <td>1.0</td>\n",
       "      <td>0</td>\n",
       "      <td>1</td>\n",
       "      <td>0</td>\n",
       "      <td>0</td>\n",
       "      <td>0.021530</td>\n",
       "      <td>0.134871</td>\n",
       "      <td>0.019391</td>\n",
       "    </tr>\n",
       "    <tr>\n",
       "      <th>6ec7ee77</th>\n",
       "      <td>640.0</td>\n",
       "      <td>360.0</td>\n",
       "      <td>0.0</td>\n",
       "      <td>0.0</td>\n",
       "      <td>1.0</td>\n",
       "      <td>0.0</td>\n",
       "      <td>0.0</td>\n",
       "      <td>0.0</td>\n",
       "      <td>0.0</td>\n",
       "      <td>0.0</td>\n",
       "      <td>0.0</td>\n",
       "      <td>0.0</td>\n",
       "      <td>...</td>\n",
       "      <td>0.0</td>\n",
       "      <td>0.0</td>\n",
       "      <td>0.0</td>\n",
       "      <td>0.0</td>\n",
       "      <td>0.0</td>\n",
       "      <td>0</td>\n",
       "      <td>0</td>\n",
       "      <td>0</td>\n",
       "      <td>0</td>\n",
       "      <td>0.065669</td>\n",
       "      <td>0.312528</td>\n",
       "      <td>0.111775</td>\n",
       "    </tr>\n",
       "    <tr>\n",
       "      <th>abe7a2fb</th>\n",
       "      <td>640.0</td>\n",
       "      <td>360.0</td>\n",
       "      <td>0.0</td>\n",
       "      <td>0.0</td>\n",
       "      <td>9.0</td>\n",
       "      <td>14.0</td>\n",
       "      <td>1.0</td>\n",
       "      <td>0.0</td>\n",
       "      <td>9.0</td>\n",
       "      <td>0.0</td>\n",
       "      <td>4.0</td>\n",
       "      <td>6.0</td>\n",
       "      <td>...</td>\n",
       "      <td>0.0</td>\n",
       "      <td>0.0</td>\n",
       "      <td>0.0</td>\n",
       "      <td>0.0</td>\n",
       "      <td>0.0</td>\n",
       "      <td>0</td>\n",
       "      <td>0</td>\n",
       "      <td>0</td>\n",
       "      <td>0</td>\n",
       "      <td>0.024404</td>\n",
       "      <td>0.134112</td>\n",
       "      <td>0.014011</td>\n",
       "    </tr>\n",
       "  </tbody>\n",
       "</table>\n",
       "<p>3 rows × 108 columns</p>\n",
       "</div>"
      ],
      "text/plain": [
       "          screen_resolution_height mean  screen_resolution_width mean  \\\n",
       "person                                                                  \n",
       "0566e9c1                          568.0                         320.0   \n",
       "6ec7ee77                          640.0                         360.0   \n",
       "abe7a2fb                          640.0                         360.0   \n",
       "\n",
       "          screen_resolution_height std  screen_resolution_width std  \\\n",
       "person                                                                \n",
       "0566e9c1                           0.0                          0.0   \n",
       "6ec7ee77                           0.0                          0.0   \n",
       "abe7a2fb                           0.0                          0.0   \n",
       "\n",
       "          ad campaign hit  brand listing  checkout  conversion  \\\n",
       "person                                                           \n",
       "0566e9c1              6.0            3.0       1.0         1.0   \n",
       "6ec7ee77              1.0            0.0       0.0         0.0   \n",
       "abe7a2fb              9.0           14.0       1.0         0.0   \n",
       "\n",
       "          generic listing  lead  search engine hit  searched products  \\\n",
       "person                                                                  \n",
       "0566e9c1             15.0   0.0                1.0                0.0   \n",
       "6ec7ee77              0.0   0.0                0.0                0.0   \n",
       "abe7a2fb              9.0   0.0                4.0                6.0   \n",
       "\n",
       "              ...       Saturday  Sunday  Thursday  Tuesday  Wednesday  \\\n",
       "person        ...                                                        \n",
       "0566e9c1      ...            0.0     0.0       0.0      0.0        1.0   \n",
       "6ec7ee77      ...            0.0     0.0       0.0      0.0        0.0   \n",
       "abe7a2fb      ...            0.0     0.0       0.0      0.0        0.0   \n",
       "\n",
       "          madrugada  tarde  noche  maniana  RandomForestRegressor  \\\n",
       "person                                                              \n",
       "0566e9c1          0      1      0        0               0.021530   \n",
       "6ec7ee77          0      0      0        0               0.065669   \n",
       "abe7a2fb          0      0      0        0               0.024404   \n",
       "\n",
       "          AdaBoostRegressor  XGBRegressor  \n",
       "person                                     \n",
       "0566e9c1           0.134871      0.019391  \n",
       "6ec7ee77           0.312528      0.111775  \n",
       "abe7a2fb           0.134112      0.014011  \n",
       "\n",
       "[3 rows x 108 columns]"
      ]
     },
     "execution_count": 79,
     "metadata": {},
     "output_type": "execute_result"
    }
   ],
   "source": [
    "train_meta.head(3)"
   ]
  },
  {
   "cell_type": "markdown",
   "metadata": {},
   "source": [
    "### Predictor Stacking\n",
    "\n",
    "Ahora vamos a entrenar un nuevo modelo utilizando como features las predicciones anteriores (metafeatures). También podemos agregar algunos de los features originales."
   ]
  },
  {
   "cell_type": "markdown",
   "metadata": {},
   "source": [
    "Para esto realizamos un Random Search. TODO "
   ]
  },
  {
   "cell_type": "code",
   "execution_count": 141,
   "metadata": {},
   "outputs": [],
   "source": [
    "param = {\n",
    "    'solver': 'liblinear'\n",
    "}\n",
    "regr = LogisticRegression(**param)\n",
    "stack_train = train_meta[[predictor.__class__.__name__ for predictor in base_predictors]]"
   ]
  },
  {
   "cell_type": "code",
   "execution_count": 143,
   "metadata": {},
   "outputs": [
    {
     "name": "stdout",
     "output_type": "stream",
     "text": [
      "Accuracy: 0.875144 (+/- 0.024633)\n",
      "CPU times: user 212 ms, sys: 4 ms, total: 216 ms\n",
      "Wall time: 217 ms\n"
     ]
    }
   ],
   "source": [
    "%%time\n",
    "scores = cross_val_score(regr, stack_train, train_target, cv=10, scoring='roc_auc')\n",
    "print(\"Accuracy: %0.6f (+/- %0.6f)\" % (scores.mean(), scores.std() * 2))"
   ]
  },
  {
   "cell_type": "code",
   "execution_count": null,
   "metadata": {},
   "outputs": [],
   "source": []
  },
  {
   "cell_type": "markdown",
   "metadata": {},
   "source": [
    "### Bayesian Optimization"
   ]
  },
  {
   "cell_type": "code",
   "execution_count": 151,
   "metadata": {},
   "outputs": [],
   "source": [
    "pbounds = {\n",
    "    'max_depth': (2, 20),\n",
    "    'eta': (0, 0.3),\n",
    "    'gamma': (0, 10),\n",
    "#     'min_child_weight': (1, 5),\n",
    "#     'max_delta_step': (1, 5),\n",
    "#     'subsample': (0, 1),\n",
    "#     'colsample_bytree': (0, 1),\n",
    "#     'colsample_bylevel': (0, 1),\n",
    "#     'lambda': (1, 3),\n",
    "#     'alpha': (0, 2)\n",
    "}\n",
    "\n",
    "discrete = ['max_depth'] # parámetros discretos\n",
    "cv_splits = 10 # cantidad de splits en el cv\n",
    "num_round = 100 # cantidad máxima de boosts"
   ]
  },
  {
   "cell_type": "code",
   "execution_count": 152,
   "metadata": {},
   "outputs": [],
   "source": [
    "dtrain = xgb.DMatrix(stack_train, label=train_target)\n",
    "def cv_score_xgb(**param):\n",
    "    param['silent'] = 1\n",
    "    param['objective'] = 'reg:logistic'\n",
    "    \n",
    "    # transformo los valores que deben ser discretos\n",
    "    for d in discrete:\n",
    "        param[d] = int(param[d])\n",
    "    \n",
    "    # hago el cv\n",
    "    scores = xgb.cv(param, dtrain, nfold=cv_splits, metrics='auc', verbose_eval=False, shuffle=False, stratified=False, num_boost_round=num_round)\n",
    "    return scores['test-auc-mean'].max()"
   ]
  },
  {
   "cell_type": "code",
   "execution_count": 155,
   "metadata": {},
   "outputs": [
    {
     "name": "stdout",
     "output_type": "stream",
     "text": [
      "|   iter    |  target   |    eta    |   gamma   | max_depth |\n",
      "-------------------------------------------------------------\n",
      "| \u001b[0m 1       \u001b[0m | \u001b[0m 0.8775  \u001b[0m | \u001b[0m 0.1599  \u001b[0m | \u001b[0m 9.376   \u001b[0m | \u001b[0m 3.968   \u001b[0m |\n",
      "| \u001b[95m 2       \u001b[0m | \u001b[95m 0.8775  \u001b[0m | \u001b[95m 0.2449  \u001b[0m | \u001b[95m 6.801   \u001b[0m | \u001b[95m 2.428   \u001b[0m |\n",
      "| \u001b[0m 3       \u001b[0m | \u001b[0m 0.8713  \u001b[0m | \u001b[0m 0.09288 \u001b[0m | \u001b[0m 3.098   \u001b[0m | \u001b[0m 13.05   \u001b[0m |\n",
      "| \u001b[0m 4       \u001b[0m | \u001b[0m 0.868   \u001b[0m | \u001b[0m 0.276   \u001b[0m | \u001b[0m 1.789   \u001b[0m | \u001b[0m 11.12   \u001b[0m |\n",
      "| \u001b[0m 5       \u001b[0m | \u001b[0m 0.8692  \u001b[0m | \u001b[0m 0.2701  \u001b[0m | \u001b[0m 3.239   \u001b[0m | \u001b[0m 14.14   \u001b[0m |\n",
      "| \u001b[0m 6       \u001b[0m | \u001b[0m 0.8696  \u001b[0m | \u001b[0m 0.02418 \u001b[0m | \u001b[0m 9.984   \u001b[0m | \u001b[0m 2.067   \u001b[0m |\n",
      "| \u001b[0m 7       \u001b[0m | \u001b[0m 0.8292  \u001b[0m | \u001b[0m 2.45e-09\u001b[0m | \u001b[0m 10.0    \u001b[0m | \u001b[0m 20.0    \u001b[0m |\n",
      "| \u001b[0m 8       \u001b[0m | \u001b[0m 0.8762  \u001b[0m | \u001b[0m 0.2969  \u001b[0m | \u001b[0m 8.086   \u001b[0m | \u001b[0m 10.51   \u001b[0m |\n",
      "| \u001b[0m 9       \u001b[0m | \u001b[0m 0.5     \u001b[0m | \u001b[0m 0.0     \u001b[0m | \u001b[0m 3.632e-0\u001b[0m | \u001b[0m 20.0    \u001b[0m |\n",
      "| \u001b[95m 10      \u001b[0m | \u001b[95m 0.8778  \u001b[0m | \u001b[95m 0.3     \u001b[0m | \u001b[95m 0.0     \u001b[0m | \u001b[95m 2.0     \u001b[0m |\n",
      "| \u001b[0m 11      \u001b[0m | \u001b[0m 0.8771  \u001b[0m | \u001b[0m 0.3     \u001b[0m | \u001b[0m 10.0    \u001b[0m | \u001b[0m 15.2    \u001b[0m |\n",
      "| \u001b[0m 12      \u001b[0m | \u001b[0m 0.8759  \u001b[0m | \u001b[0m 0.3     \u001b[0m | \u001b[0m 2.646   \u001b[0m | \u001b[0m 5.627   \u001b[0m |\n",
      "| \u001b[0m 13      \u001b[0m | \u001b[0m 0.8754  \u001b[0m | \u001b[0m 0.3     \u001b[0m | \u001b[0m 6.83    \u001b[0m | \u001b[0m 14.95   \u001b[0m |\n",
      "| \u001b[0m 14      \u001b[0m | \u001b[0m 0.8738  \u001b[0m | \u001b[0m 0.3     \u001b[0m | \u001b[0m 4.682   \u001b[0m | \u001b[0m 10.87   \u001b[0m |\n",
      "| \u001b[0m 15      \u001b[0m | \u001b[0m 0.5     \u001b[0m | \u001b[0m 0.0     \u001b[0m | \u001b[0m 2.638   \u001b[0m | \u001b[0m 2.0     \u001b[0m |\n",
      "| \u001b[0m 16      \u001b[0m | \u001b[0m 0.8735  \u001b[0m | \u001b[0m 0.3     \u001b[0m | \u001b[0m 0.0     \u001b[0m | \u001b[0m 6.682   \u001b[0m |\n",
      "| \u001b[0m 17      \u001b[0m | \u001b[0m 0.8733  \u001b[0m | \u001b[0m 0.3     \u001b[0m | \u001b[0m 5.524   \u001b[0m | \u001b[0m 20.0    \u001b[0m |\n",
      "| \u001b[0m 18      \u001b[0m | \u001b[0m 0.8769  \u001b[0m | \u001b[0m 0.3     \u001b[0m | \u001b[0m 6.328   \u001b[0m | \u001b[0m 6.707   \u001b[0m |\n",
      "| \u001b[0m 19      \u001b[0m | \u001b[0m 0.8625  \u001b[0m | \u001b[0m 0.3     \u001b[0m | \u001b[0m 0.0     \u001b[0m | \u001b[0m 14.16   \u001b[0m |\n",
      "| \u001b[0m 20      \u001b[0m | \u001b[0m 0.8768  \u001b[0m | \u001b[0m 0.3     \u001b[0m | \u001b[0m 10.0    \u001b[0m | \u001b[0m 8.58    \u001b[0m |\n",
      "| \u001b[0m 21      \u001b[0m | \u001b[0m 0.5     \u001b[0m | \u001b[0m 0.0     \u001b[0m | \u001b[0m 7.493   \u001b[0m | \u001b[0m 18.05   \u001b[0m |\n",
      "| \u001b[0m 22      \u001b[0m | \u001b[0m 0.8766  \u001b[0m | \u001b[0m 0.3     \u001b[0m | \u001b[0m 10.0    \u001b[0m | \u001b[0m 12.37   \u001b[0m |\n",
      "| \u001b[0m 23      \u001b[0m | \u001b[0m 0.8762  \u001b[0m | \u001b[0m 0.3     \u001b[0m | \u001b[0m 0.0     \u001b[0m | \u001b[0m 4.176   \u001b[0m |\n",
      "| \u001b[0m 24      \u001b[0m | \u001b[0m 0.8674  \u001b[0m | \u001b[0m 0.3     \u001b[0m | \u001b[0m 3.269   \u001b[0m | \u001b[0m 20.0    \u001b[0m |\n",
      "| \u001b[0m 25      \u001b[0m | \u001b[0m 0.5     \u001b[0m | \u001b[0m 0.0     \u001b[0m | \u001b[0m 0.0     \u001b[0m | \u001b[0m 10.93   \u001b[0m |\n",
      "| \u001b[0m 26      \u001b[0m | \u001b[0m 0.8742  \u001b[0m | \u001b[0m 0.3     \u001b[0m | \u001b[0m 2.994   \u001b[0m | \u001b[0m 8.214   \u001b[0m |\n",
      "| \u001b[0m 27      \u001b[0m | \u001b[0m 0.8624  \u001b[0m | \u001b[0m 0.3     \u001b[0m | \u001b[0m 0.9486  \u001b[0m | \u001b[0m 16.67   \u001b[0m |\n",
      "| \u001b[0m 28      \u001b[0m | \u001b[0m 0.8759  \u001b[0m | \u001b[0m 0.3     \u001b[0m | \u001b[0m 7.498   \u001b[0m | \u001b[0m 13.03   \u001b[0m |\n",
      "| \u001b[0m 29      \u001b[0m | \u001b[0m 0.8776  \u001b[0m | \u001b[0m 0.3     \u001b[0m | \u001b[0m 8.467   \u001b[0m | \u001b[0m 2.0     \u001b[0m |\n",
      "| \u001b[0m 30      \u001b[0m | \u001b[0m 0.8773  \u001b[0m | \u001b[0m 0.3     \u001b[0m | \u001b[0m 6.737   \u001b[0m | \u001b[0m 4.435   \u001b[0m |\n",
      "| \u001b[0m 31      \u001b[0m | \u001b[0m 0.8772  \u001b[0m | \u001b[0m 0.3     \u001b[0m | \u001b[0m 10.0    \u001b[0m | \u001b[0m 6.107   \u001b[0m |\n",
      "| \u001b[0m 32      \u001b[0m | \u001b[0m 0.5     \u001b[0m | \u001b[0m 0.0     \u001b[0m | \u001b[0m 8.414   \u001b[0m | \u001b[0m 7.301   \u001b[0m |\n",
      "| \u001b[0m 33      \u001b[0m | \u001b[0m 0.8773  \u001b[0m | \u001b[0m 0.3     \u001b[0m | \u001b[0m 4.675   \u001b[0m | \u001b[0m 5.979   \u001b[0m |\n",
      "| \u001b[0m 34      \u001b[0m | \u001b[0m 0.8697  \u001b[0m | \u001b[0m 0.3     \u001b[0m | \u001b[0m 3.835   \u001b[0m | \u001b[0m 17.58   \u001b[0m |\n",
      "| \u001b[0m 35      \u001b[0m | \u001b[0m 0.8771  \u001b[0m | \u001b[0m 0.3     \u001b[0m | \u001b[0m 10.0    \u001b[0m | \u001b[0m 3.342   \u001b[0m |\n",
      "| \u001b[0m 36      \u001b[0m | \u001b[0m 0.8766  \u001b[0m | \u001b[0m 0.3     \u001b[0m | \u001b[0m 10.0    \u001b[0m | \u001b[0m 10.43   \u001b[0m |\n",
      "| \u001b[0m 37      \u001b[0m | \u001b[0m 0.876   \u001b[0m | \u001b[0m 0.3     \u001b[0m | \u001b[0m 5.319   \u001b[0m | \u001b[0m 8.574   \u001b[0m |\n",
      "| \u001b[0m 38      \u001b[0m | \u001b[0m 0.8653  \u001b[0m | \u001b[0m 0.3     \u001b[0m | \u001b[0m 1.501   \u001b[0m | \u001b[0m 14.11   \u001b[0m |\n",
      "| \u001b[0m 39      \u001b[0m | \u001b[0m 0.8734  \u001b[0m | \u001b[0m 0.3     \u001b[0m | \u001b[0m 5.358   \u001b[0m | \u001b[0m 13.42   \u001b[0m |\n",
      "| \u001b[0m 40      \u001b[0m | \u001b[0m 0.5     \u001b[0m | \u001b[0m 0.0     \u001b[0m | \u001b[0m 0.0     \u001b[0m | \u001b[0m 15.77   \u001b[0m |\n",
      "| \u001b[0m 41      \u001b[0m | \u001b[0m 0.8654  \u001b[0m | \u001b[0m 0.3     \u001b[0m | \u001b[0m 1.96    \u001b[0m | \u001b[0m 18.25   \u001b[0m |\n",
      "| \u001b[0m 42      \u001b[0m | \u001b[0m 0.8768  \u001b[0m | \u001b[0m 0.3     \u001b[0m | \u001b[0m 10.0    \u001b[0m | \u001b[0m 17.78   \u001b[0m |\n",
      "| \u001b[0m 43      \u001b[0m | \u001b[0m 0.8665  \u001b[0m | \u001b[0m 0.3     \u001b[0m | \u001b[0m 2.493   \u001b[0m | \u001b[0m 16.46   \u001b[0m |\n",
      "| \u001b[0m 44      \u001b[0m | \u001b[0m 0.8697  \u001b[0m | \u001b[0m 0.3     \u001b[0m | \u001b[0m 3.146   \u001b[0m | \u001b[0m 12.04   \u001b[0m |\n",
      "| \u001b[0m 45      \u001b[0m | \u001b[0m 0.5     \u001b[0m | \u001b[0m 0.0     \u001b[0m | \u001b[0m 1.289   \u001b[0m | \u001b[0m 6.315   \u001b[0m |\n",
      "| \u001b[0m 46      \u001b[0m | \u001b[0m 0.8774  \u001b[0m | \u001b[0m 0.3     \u001b[0m | \u001b[0m 4.164   \u001b[0m | \u001b[0m 3.912   \u001b[0m |\n",
      "| \u001b[0m 47      \u001b[0m | \u001b[0m 0.8646  \u001b[0m | \u001b[0m 0.3     \u001b[0m | \u001b[0m 0.8332  \u001b[0m | \u001b[0m 12.7    \u001b[0m |\n",
      "| \u001b[0m 48      \u001b[0m | \u001b[0m 0.87    \u001b[0m | \u001b[0m 0.3     \u001b[0m | \u001b[0m 0.0     \u001b[0m | \u001b[0m 8.4     \u001b[0m |\n",
      "| \u001b[0m 49      \u001b[0m | \u001b[0m 0.8752  \u001b[0m | \u001b[0m 0.3     \u001b[0m | \u001b[0m 6.486   \u001b[0m | \u001b[0m 11.11   \u001b[0m |\n",
      "| \u001b[0m 50      \u001b[0m | \u001b[0m 0.8728  \u001b[0m | \u001b[0m 0.3     \u001b[0m | \u001b[0m 5.072   \u001b[0m | \u001b[0m 15.71   \u001b[0m |\n",
      "| \u001b[0m 51      \u001b[0m | \u001b[0m 0.8723  \u001b[0m | \u001b[0m 0.3     \u001b[0m | \u001b[0m 3.075   \u001b[0m | \u001b[0m 9.787   \u001b[0m |\n",
      "| \u001b[0m 52      \u001b[0m | \u001b[0m 0.8752  \u001b[0m | \u001b[0m 0.3     \u001b[0m | \u001b[0m 8.383   \u001b[0m | \u001b[0m 20.0    \u001b[0m |\n",
      "| \u001b[95m 53      \u001b[0m | \u001b[95m 0.8779  \u001b[0m | \u001b[95m 0.3     \u001b[0m | \u001b[95m 5.264   \u001b[0m | \u001b[95m 2.0     \u001b[0m |\n",
      "| \u001b[0m 54      \u001b[0m | \u001b[0m 0.8764  \u001b[0m | \u001b[0m 0.3     \u001b[0m | \u001b[0m 8.821   \u001b[0m | \u001b[0m 14.13   \u001b[0m |\n",
      "| \u001b[0m 55      \u001b[0m | \u001b[0m 0.8766  \u001b[0m | \u001b[0m 0.3     \u001b[0m | \u001b[0m 10.0    \u001b[0m | \u001b[0m 20.0    \u001b[0m |\n",
      "| \u001b[0m 56      \u001b[0m | \u001b[0m 0.8771  \u001b[0m | \u001b[0m 0.3     \u001b[0m | \u001b[0m 10.0    \u001b[0m | \u001b[0m 4.799   \u001b[0m |\n",
      "| \u001b[0m 57      \u001b[0m | \u001b[0m 0.5     \u001b[0m | \u001b[0m 0.0     \u001b[0m | \u001b[0m 8.683   \u001b[0m | \u001b[0m 11.93   \u001b[0m |\n",
      "| \u001b[0m 58      \u001b[0m | \u001b[0m 0.8752  \u001b[0m | \u001b[0m 0.3     \u001b[0m | \u001b[0m 6.96    \u001b[0m | \u001b[0m 9.367   \u001b[0m |\n",
      "| \u001b[0m 59      \u001b[0m | \u001b[0m 0.8767  \u001b[0m | \u001b[0m 0.3     \u001b[0m | \u001b[0m 10.0    \u001b[0m | \u001b[0m 13.79   \u001b[0m |\n",
      "| \u001b[0m 60      \u001b[0m | \u001b[0m 0.8774  \u001b[0m | \u001b[0m 0.3     \u001b[0m | \u001b[0m 8.324   \u001b[0m | \u001b[0m 4.804   \u001b[0m |\n",
      "| \u001b[0m 61      \u001b[0m | \u001b[0m 0.8703  \u001b[0m | \u001b[0m 0.3     \u001b[0m | \u001b[0m 1.552   \u001b[0m | \u001b[0m 9.152   \u001b[0m |\n",
      "| \u001b[0m 62      \u001b[0m | \u001b[0m 0.8771  \u001b[0m | \u001b[0m 0.3     \u001b[0m | \u001b[0m 8.097   \u001b[0m | \u001b[0m 3.384   \u001b[0m |\n",
      "| \u001b[0m 63      \u001b[0m | \u001b[0m 0.8766  \u001b[0m | \u001b[0m 0.3     \u001b[0m | \u001b[0m 2.308   \u001b[0m | \u001b[0m 4.135   \u001b[0m |\n",
      "| \u001b[0m 64      \u001b[0m | \u001b[0m 0.8702  \u001b[0m | \u001b[0m 0.3     \u001b[0m | \u001b[0m 4.254   \u001b[0m | \u001b[0m 19.16   \u001b[0m |\n",
      "| \u001b[0m 65      \u001b[0m | \u001b[0m 0.8683  \u001b[0m | \u001b[0m 0.3     \u001b[0m | \u001b[0m 2.353   \u001b[0m | \u001b[0m 13.0    \u001b[0m |\n",
      "| \u001b[0m 66      \u001b[0m | \u001b[0m 0.8764  \u001b[0m | \u001b[0m 0.3     \u001b[0m | \u001b[0m 0.0     \u001b[0m | \u001b[0m 3.005   \u001b[0m |\n",
      "| \u001b[0m 67      \u001b[0m | \u001b[0m 0.8774  \u001b[0m | \u001b[0m 0.3     \u001b[0m | \u001b[0m 5.633   \u001b[0m | \u001b[0m 3.218   \u001b[0m |\n",
      "| \u001b[0m 68      \u001b[0m | \u001b[0m 0.5     \u001b[0m | \u001b[0m 0.0     \u001b[0m | \u001b[0m 4.373   \u001b[0m | \u001b[0m 20.0    \u001b[0m |\n",
      "| \u001b[0m 69      \u001b[0m | \u001b[0m 0.8626  \u001b[0m | \u001b[0m 0.3     \u001b[0m | \u001b[0m 1.702   \u001b[0m | \u001b[0m 20.0    \u001b[0m |\n",
      "| \u001b[0m 70      \u001b[0m | \u001b[0m 0.874   \u001b[0m | \u001b[0m 0.3     \u001b[0m | \u001b[0m 6.892   \u001b[0m | \u001b[0m 20.0    \u001b[0m |\n",
      "| \u001b[0m 71      \u001b[0m | \u001b[0m 0.8723  \u001b[0m | \u001b[0m 0.3     \u001b[0m | \u001b[0m 5.423   \u001b[0m | \u001b[0m 17.93   \u001b[0m |\n",
      "| \u001b[0m 72      \u001b[0m | \u001b[0m 0.8701  \u001b[0m | \u001b[0m 0.3     \u001b[0m | \u001b[0m 3.993   \u001b[0m | \u001b[0m 13.05   \u001b[0m |\n",
      "| \u001b[0m 73      \u001b[0m | \u001b[0m 0.8749  \u001b[0m | \u001b[0m 0.3     \u001b[0m | \u001b[0m 4.353   \u001b[0m | \u001b[0m 7.365   \u001b[0m |\n",
      "| \u001b[0m 74      \u001b[0m | \u001b[0m 0.8766  \u001b[0m | \u001b[0m 0.3     \u001b[0m | \u001b[0m 3.432   \u001b[0m | \u001b[0m 4.91    \u001b[0m |\n",
      "| \u001b[0m 75      \u001b[0m | \u001b[0m 0.8763  \u001b[0m | \u001b[0m 0.3     \u001b[0m | \u001b[0m 8.806   \u001b[0m | \u001b[0m 16.04   \u001b[0m |\n",
      "| \u001b[0m 76      \u001b[0m | \u001b[0m 0.8771  \u001b[0m | \u001b[0m 0.3     \u001b[0m | \u001b[0m 10.0    \u001b[0m | \u001b[0m 16.57   \u001b[0m |\n",
      "| \u001b[0m 77      \u001b[0m | \u001b[0m 0.8625  \u001b[0m | \u001b[0m 0.3     \u001b[0m | \u001b[0m 0.2528  \u001b[0m | \u001b[0m 18.2    \u001b[0m |\n",
      "| \u001b[0m 78      \u001b[0m | \u001b[0m 0.876   \u001b[0m | \u001b[0m 0.3     \u001b[0m | \u001b[0m 6.759   \u001b[0m | \u001b[0m 13.79   \u001b[0m |\n",
      "| \u001b[0m 79      \u001b[0m | \u001b[0m 0.8772  \u001b[0m | \u001b[0m 0.3     \u001b[0m | \u001b[0m 5.906   \u001b[0m | \u001b[0m 5.451   \u001b[0m |\n"
     ]
    },
    {
     "name": "stdout",
     "output_type": "stream",
     "text": [
      "| \u001b[0m 80      \u001b[0m | \u001b[0m 0.8776  \u001b[0m | \u001b[0m 0.3     \u001b[0m | \u001b[0m 10.0    \u001b[0m | \u001b[0m 2.0     \u001b[0m |\n",
      "| \u001b[0m 81      \u001b[0m | \u001b[0m 0.8766  \u001b[0m | \u001b[0m 0.3     \u001b[0m | \u001b[0m 8.782   \u001b[0m | \u001b[0m 9.501   \u001b[0m |\n",
      "| \u001b[0m 82      \u001b[0m | \u001b[0m 0.8746  \u001b[0m | \u001b[0m 0.3     \u001b[0m | \u001b[0m 5.824   \u001b[0m | \u001b[0m 12.26   \u001b[0m |\n",
      "| \u001b[0m 83      \u001b[0m | \u001b[0m 0.8744  \u001b[0m | \u001b[0m 0.3     \u001b[0m | \u001b[0m 8.044   \u001b[0m | \u001b[0m 14.98   \u001b[0m |\n",
      "| \u001b[0m 84      \u001b[0m | \u001b[0m 0.8756  \u001b[0m | \u001b[0m 0.3     \u001b[0m | \u001b[0m 5.608   \u001b[0m | \u001b[0m 9.915   \u001b[0m |\n",
      "| \u001b[0m 85      \u001b[0m | \u001b[0m 0.8767  \u001b[0m | \u001b[0m 0.3     \u001b[0m | \u001b[0m 10.0    \u001b[0m | \u001b[0m 19.04   \u001b[0m |\n",
      "| \u001b[0m 86      \u001b[0m | \u001b[0m 0.8738  \u001b[0m | \u001b[0m 0.3     \u001b[0m | \u001b[0m 6.196   \u001b[0m | \u001b[0m 16.37   \u001b[0m |\n",
      "| \u001b[0m 87      \u001b[0m | \u001b[0m 0.8659  \u001b[0m | \u001b[0m 0.3     \u001b[0m | \u001b[0m 2.691   \u001b[0m | \u001b[0m 19.27   \u001b[0m |\n",
      "| \u001b[0m 88      \u001b[0m | \u001b[0m 0.8778  \u001b[0m | \u001b[0m 0.3     \u001b[0m | \u001b[0m 6.32    \u001b[0m | \u001b[0m 2.0     \u001b[0m |\n",
      "| \u001b[0m 89      \u001b[0m | \u001b[0m 0.8659  \u001b[0m | \u001b[0m 0.3     \u001b[0m | \u001b[0m 0.0     \u001b[0m | \u001b[0m 13.22   \u001b[0m |\n",
      "| \u001b[0m 90      \u001b[0m | \u001b[0m 0.8766  \u001b[0m | \u001b[0m 0.3     \u001b[0m | \u001b[0m 5.459   \u001b[0m | \u001b[0m 7.084   \u001b[0m |\n",
      "| \u001b[0m 91      \u001b[0m | \u001b[0m 0.8762  \u001b[0m | \u001b[0m 0.3     \u001b[0m | \u001b[0m 3.334   \u001b[0m | \u001b[0m 6.617   \u001b[0m |\n",
      "| \u001b[0m 92      \u001b[0m | \u001b[0m 0.8748  \u001b[0m | \u001b[0m 0.3     \u001b[0m | \u001b[0m 4.236   \u001b[0m | \u001b[0m 9.164   \u001b[0m |\n",
      "| \u001b[0m 93      \u001b[0m | \u001b[0m 0.8638  \u001b[0m | \u001b[0m 0.3     \u001b[0m | \u001b[0m 1.086   \u001b[0m | \u001b[0m 17.68   \u001b[0m |\n",
      "| \u001b[0m 94      \u001b[0m | \u001b[0m 0.8773  \u001b[0m | \u001b[0m 0.3     \u001b[0m | \u001b[0m 9.246   \u001b[0m | \u001b[0m 2.717   \u001b[0m |\n",
      "| \u001b[0m 95      \u001b[0m | \u001b[0m 0.864   \u001b[0m | \u001b[0m 0.3     \u001b[0m | \u001b[0m 1.702   \u001b[0m | \u001b[0m 15.53   \u001b[0m |\n",
      "| \u001b[0m 96      \u001b[0m | \u001b[0m 0.8768  \u001b[0m | \u001b[0m 0.3     \u001b[0m | \u001b[0m 10.0    \u001b[0m | \u001b[0m 9.49    \u001b[0m |\n",
      "| \u001b[0m 97      \u001b[0m | \u001b[0m 0.8734  \u001b[0m | \u001b[0m 0.3     \u001b[0m | \u001b[0m 0.0     \u001b[0m | \u001b[0m 7.575   \u001b[0m |\n",
      "| \u001b[0m 98      \u001b[0m | \u001b[0m 0.8751  \u001b[0m | \u001b[0m 0.3     \u001b[0m | \u001b[0m 0.0     \u001b[0m | \u001b[0m 5.377   \u001b[0m |\n",
      "| \u001b[0m 99      \u001b[0m | \u001b[0m 0.8719  \u001b[0m | \u001b[0m 0.3     \u001b[0m | \u001b[0m 4.929   \u001b[0m | \u001b[0m 16.9    \u001b[0m |\n",
      "| \u001b[0m 100     \u001b[0m | \u001b[0m 0.8778  \u001b[0m | \u001b[0m 0.3     \u001b[0m | \u001b[0m 4.311   \u001b[0m | \u001b[0m 2.816   \u001b[0m |\n",
      "| \u001b[0m 101     \u001b[0m | \u001b[0m 0.862   \u001b[0m | \u001b[0m 0.3     \u001b[0m | \u001b[0m 0.9248  \u001b[0m | \u001b[0m 19.04   \u001b[0m |\n",
      "| \u001b[0m 102     \u001b[0m | \u001b[0m 0.8723  \u001b[0m | \u001b[0m 0.3     \u001b[0m | \u001b[0m 5.72    \u001b[0m | \u001b[0m 19.18   \u001b[0m |\n",
      "| \u001b[0m 103     \u001b[0m | \u001b[0m 0.8758  \u001b[0m | \u001b[0m 0.3     \u001b[0m | \u001b[0m 1.083   \u001b[0m | \u001b[0m 4.132   \u001b[0m |\n",
      "| \u001b[0m 104     \u001b[0m | \u001b[0m 0.877   \u001b[0m | \u001b[0m 0.3     \u001b[0m | \u001b[0m 10.0    \u001b[0m | \u001b[0m 7.287   \u001b[0m |\n",
      "| \u001b[0m 105     \u001b[0m | \u001b[0m 0.8763  \u001b[0m | \u001b[0m 0.3     \u001b[0m | \u001b[0m 7.684   \u001b[0m | \u001b[0m 9.904   \u001b[0m |\n",
      "=============================================================\n",
      "CPU times: user 28min 31s, sys: 3min 1s, total: 31min 33s\n",
      "Wall time: 27min 12s\n"
     ]
    }
   ],
   "source": [
    "%%time\n",
    "optimizer = BayesianOptimization(f=cv_score_xgb, pbounds=pbounds)\n",
    "optimizer.maximize(\n",
    "    init_points=5,\n",
    "    n_iter=100,\n",
    ")"
   ]
  },
  {
   "cell_type": "code",
   "execution_count": 154,
   "metadata": {},
   "outputs": [
    {
     "data": {
      "text/plain": [
       "{'params': {'eta': 0.2990783546409911,\n",
       "  'gamma': 3.1805084110474757,\n",
       "  'max_depth': 2.0045991562435495},\n",
       " 'target': 0.8780648000000001}"
      ]
     },
     "execution_count": 154,
     "metadata": {},
     "output_type": "execute_result"
    }
   ],
   "source": [
    "optimizer.max"
   ]
  },
  {
   "cell_type": "code",
   "execution_count": 157,
   "metadata": {},
   "outputs": [
    {
     "data": {
      "text/plain": [
       "{'params': {'eta': 0.3, 'gamma': 5.263545124083896, 'max_depth': 2.0},\n",
       " 'target': 0.8779366999999999}"
      ]
     },
     "execution_count": 157,
     "metadata": {},
     "output_type": "execute_result"
    }
   ],
   "source": [
    "optimizer.max"
   ]
  }
 ],
 "metadata": {
  "kernelspec": {
   "display_name": "Python 3",
   "language": "python",
   "name": "python3"
  },
  "language_info": {
   "codemirror_mode": {
    "name": "ipython",
    "version": 3
   },
   "file_extension": ".py",
   "mimetype": "text/x-python",
   "name": "python",
   "nbconvert_exporter": "python",
   "pygments_lexer": "ipython3",
   "version": "3.5.3"
  }
 },
 "nbformat": 4,
 "nbformat_minor": 2
}
