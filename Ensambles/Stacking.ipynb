{
 "cells": [
  {
   "cell_type": "markdown",
   "metadata": {},
   "source": [
    "# Stacking ensembling\n",
    "\n",
    "Vamos a crear un ensamble de tipo stacking. Para ello se utilizaron las siguientes fuentes:\n",
    " - https://mlwave.com/kaggle-ensembling-guide/\n",
    " - http://blog.kaggle.com/2016/12/27/a-kagglers-guide-to-model-stacking-in-practice/\n",
    " - https://github.com/emanuele/kaggle_pbr/blob/master/blend.py\n",
    "\n",
    "Y se desarrollaron las siguientes secciones:\n",
    " - [Predictores base](#Predictores-base)\n",
    "     - [Xgboost](#Xgboost)\n",
    "     - [Random Forest](#Random-Forest)\n",
    "     - [AdaBoost](#AdaBoost)\n",
    " - [Metafeatures](#Metafeatures)\n",
    " - [Predictor Stacking](#Predictor-Stacking)"
   ]
  },
  {
   "cell_type": "code",
   "execution_count": 1,
   "metadata": {},
   "outputs": [],
   "source": [
    "from sklearn.model_selection import cross_val_score, RandomizedSearchCV\n",
    "from sklearn.ensemble import RandomForestRegressor, AdaBoostRegressor\n",
    "from sklearn.linear_model import LogisticRegression\n",
    "from sklearn.tree import DecisionTreeRegressor\n",
    "from bayes_opt import BayesianOptimization\n",
    "from sklearn.model_selection import KFold\n",
    "from xgboost import XGBRegressor\n",
    "from time import time\n",
    "import xgboost as xgb\n",
    "import pandas as pd\n",
    "import os"
   ]
  },
  {
   "cell_type": "code",
   "execution_count": 2,
   "metadata": {},
   "outputs": [],
   "source": [
    "if '__file__' in locals():\n",
    "    current_folder = os.path.dirname(os.path.abspath(__file__))\n",
    "else:\n",
    "    current_folder = os.getcwd()\n",
    "\n",
    "set_de_entrenamiento_testing_y_prediccion = '\"{}\"'.format(os.path.join(\n",
    "    current_folder,\n",
    "    '..',\n",
    "    'Set de entrenamiento, testing y predicción.ipynb'\n",
    "))\n",
    "merge_features = '\"{}\"'.format(os.path.join(current_folder, '..', 'Features', 'Merge features.ipynb'))\n",
    "predicciones_csv = os.path.join(current_folder, '..', 'predictions.csv')"
   ]
  },
  {
   "cell_type": "markdown",
   "metadata": {},
   "source": [
    "Cargo el df con los features."
   ]
  },
  {
   "cell_type": "code",
   "execution_count": 3,
   "metadata": {},
   "outputs": [
    {
     "ename": "KeyboardInterrupt",
     "evalue": "La limpieza ya corrió en este Kernel",
     "output_type": "error",
     "traceback": [
      "\u001b[0;31m---------------------------------------------------------------------------\u001b[0m",
      "\u001b[0;31mKeyboardInterrupt\u001b[0m                         Traceback (most recent call last)",
      "\u001b[0;32m~/Descargas/Predicting-user-conversions/Features/../Limpieza.ipynb\u001b[0m in \u001b[0;36m<module>\u001b[0;34m\u001b[0m\n\u001b[1;32m      1\u001b[0m \u001b[0;32mif\u001b[0m \u001b[0;34m'limpieza_runned'\u001b[0m \u001b[0;32min\u001b[0m \u001b[0mlocals\u001b[0m\u001b[0;34m(\u001b[0m\u001b[0;34m)\u001b[0m\u001b[0;34m:\u001b[0m\u001b[0;34m\u001b[0m\u001b[0;34m\u001b[0m\u001b[0m\n\u001b[0;32m----> 2\u001b[0;31m     \u001b[0;32mraise\u001b[0m \u001b[0mKeyboardInterrupt\u001b[0m\u001b[0;34m(\u001b[0m\u001b[0;34m'La limpieza ya corrió en este Kernel'\u001b[0m\u001b[0;34m)\u001b[0m\u001b[0;34m\u001b[0m\u001b[0;34m\u001b[0m\u001b[0m\n\u001b[0m\u001b[1;32m      3\u001b[0m \u001b[0mlimpieza_runned\u001b[0m \u001b[0;34m=\u001b[0m \u001b[0;32mTrue\u001b[0m\u001b[0;34m\u001b[0m\u001b[0;34m\u001b[0m\u001b[0m\n",
      "\u001b[0;31mKeyboardInterrupt\u001b[0m: La limpieza ya corrió en este Kernel"
     ]
    },
    {
     "ename": "KeyboardInterrupt",
     "evalue": "La limpieza ya corrió en este Kernel",
     "output_type": "error",
     "traceback": [
      "\u001b[0;31m---------------------------------------------------------------------------\u001b[0m",
      "\u001b[0;31mKeyboardInterrupt\u001b[0m                         Traceback (most recent call last)",
      "\u001b[0;32m~/Descargas/Predicting-user-conversions/Features/../Limpieza.ipynb\u001b[0m in \u001b[0;36m<module>\u001b[0;34m\u001b[0m\n\u001b[1;32m      1\u001b[0m \u001b[0;32mif\u001b[0m \u001b[0;34m'limpieza_runned'\u001b[0m \u001b[0;32min\u001b[0m \u001b[0mlocals\u001b[0m\u001b[0;34m(\u001b[0m\u001b[0;34m)\u001b[0m\u001b[0;34m:\u001b[0m\u001b[0;34m\u001b[0m\u001b[0;34m\u001b[0m\u001b[0m\n\u001b[0;32m----> 2\u001b[0;31m     \u001b[0;32mraise\u001b[0m \u001b[0mKeyboardInterrupt\u001b[0m\u001b[0;34m(\u001b[0m\u001b[0;34m'La limpieza ya corrió en este Kernel'\u001b[0m\u001b[0;34m)\u001b[0m\u001b[0;34m\u001b[0m\u001b[0;34m\u001b[0m\u001b[0m\n\u001b[0m\u001b[1;32m      3\u001b[0m \u001b[0mlimpieza_runned\u001b[0m \u001b[0;34m=\u001b[0m \u001b[0;32mTrue\u001b[0m\u001b[0;34m\u001b[0m\u001b[0;34m\u001b[0m\u001b[0m\n",
      "\u001b[0;31mKeyboardInterrupt\u001b[0m: La limpieza ya corrió en este Kernel"
     ]
    },
    {
     "ename": "KeyboardInterrupt",
     "evalue": "La limpieza ya corrió en este Kernel",
     "output_type": "error",
     "traceback": [
      "\u001b[0;31m---------------------------------------------------------------------------\u001b[0m",
      "\u001b[0;31mKeyboardInterrupt\u001b[0m                         Traceback (most recent call last)",
      "\u001b[0;32m~/Descargas/Predicting-user-conversions/Features/../Limpieza.ipynb\u001b[0m in \u001b[0;36m<module>\u001b[0;34m\u001b[0m\n\u001b[1;32m      1\u001b[0m \u001b[0;32mif\u001b[0m \u001b[0;34m'limpieza_runned'\u001b[0m \u001b[0;32min\u001b[0m \u001b[0mlocals\u001b[0m\u001b[0;34m(\u001b[0m\u001b[0;34m)\u001b[0m\u001b[0;34m:\u001b[0m\u001b[0;34m\u001b[0m\u001b[0;34m\u001b[0m\u001b[0m\n\u001b[0;32m----> 2\u001b[0;31m     \u001b[0;32mraise\u001b[0m \u001b[0mKeyboardInterrupt\u001b[0m\u001b[0;34m(\u001b[0m\u001b[0;34m'La limpieza ya corrió en este Kernel'\u001b[0m\u001b[0;34m)\u001b[0m\u001b[0;34m\u001b[0m\u001b[0;34m\u001b[0m\u001b[0m\n\u001b[0m\u001b[1;32m      3\u001b[0m \u001b[0mlimpieza_runned\u001b[0m \u001b[0;34m=\u001b[0m \u001b[0;32mTrue\u001b[0m\u001b[0;34m\u001b[0m\u001b[0;34m\u001b[0m\u001b[0m\n",
      "\u001b[0;31mKeyboardInterrupt\u001b[0m: La limpieza ya corrió en este Kernel"
     ]
    }
   ],
   "source": [
    "pd.options.mode.chained_assignment = None\n",
    "%run $merge_features"
   ]
  },
  {
   "cell_type": "code",
   "execution_count": 4,
   "metadata": {},
   "outputs": [],
   "source": [
    "assert(df_features.shape[0] == get_clean_df()['person'].unique().shape[0])"
   ]
  },
  {
   "cell_type": "markdown",
   "metadata": {},
   "source": [
    "Cargo el set de entrenamiento."
   ]
  },
  {
   "cell_type": "code",
   "execution_count": 5,
   "metadata": {},
   "outputs": [],
   "source": [
    "%run $set_de_entrenamiento_testing_y_prediccion\n",
    "\n",
    "labels_with_features = labels.merge(df_features, how='inner', on='person')\n",
    "train = labels_with_features.drop('label', axis=1)\n",
    "train_target = labels_with_features['label']"
   ]
  },
  {
   "cell_type": "markdown",
   "metadata": {},
   "source": [
    "### Predictores base\n",
    "\n",
    "En esta sección vamos a preparar los predictores base a utilizar. Estos son los mismos que se encuentran en la carpeta *Algoritmos de ML*."
   ]
  },
  {
   "cell_type": "code",
   "execution_count": 6,
   "metadata": {},
   "outputs": [],
   "source": [
    "base_predictors = []"
   ]
  },
  {
   "cell_type": "markdown",
   "metadata": {},
   "source": [
    "#### Xgboost\n",
    "\n",
    "Nota: vamos a usar XGBRegressor para tener la misma interfaz con el resto de los predictores. Los hiperparámetros tienen distinto nombre, pero producen los mismos resultados. Se puede consultar la documentación de xgboost para encontrar los nombres de los parámetros: https://xgboost.readthedocs.io/en/latest/python/python_api.html#xgboost.XGBRegressor. "
   ]
  },
  {
   "cell_type": "code",
   "execution_count": 7,
   "metadata": {},
   "outputs": [],
   "source": [
    "param = {\n",
    "    'objective': 'reg:logistic',\n",
    "    'colsample_bylevel': 0.6605668347627213,\n",
    "    'colsample_bytree': 0.5279014819087092,\n",
    "    'min_child_weight': 4.302125582335056,\n",
    "    'learning_rate': 0.15803667962605694,\n",
    "    'max_delta_step': 7.592652591386328,\n",
    "    'n_estimators': 65,\n",
    "    'reg_lambda': 1.1181195507921775,\n",
    "    'max_depth': 9,\n",
    "    'silent': True,\n",
    "    'subsample': 0.43744176565530823,\n",
    "    'reg_alpha': 3.845311207046479,\n",
    "    'gamma': 6.219264874528072\n",
    "}\n",
    "\n",
    "base_predictors.append(XGBRegressor(**param))"
   ]
  },
  {
   "cell_type": "markdown",
   "metadata": {},
   "source": [
    "#### Random Forest"
   ]
  },
  {
   "cell_type": "code",
   "execution_count": 8,
   "metadata": {},
   "outputs": [],
   "source": [
    "param = {\n",
    "    'bootstrap': True,\n",
    "    'max_depth': 10,\n",
    "    'max_features': 81,\n",
    "    'min_samples_leaf': 49,\n",
    "    'min_samples_split': 8,\n",
    "    'n_estimators': 56\n",
    "}\n",
    "\n",
    "base_predictors.append(RandomForestRegressor(**param))"
   ]
  },
  {
   "cell_type": "markdown",
   "metadata": {},
   "source": [
    "#### AdaBoost"
   ]
  },
  {
   "cell_type": "code",
   "execution_count": 9,
   "metadata": {},
   "outputs": [],
   "source": [
    "param = {\n",
    "    'n_estimators': 128,\n",
    "    'loss': 'linear',\n",
    "    'learning_rate': 0.07,\n",
    "    'base_estimator': DecisionTreeRegressor(criterion='mse', max_depth=4, max_features=None,\n",
    "            max_leaf_nodes=None, min_impurity_decrease=0.0,\n",
    "            min_impurity_split=None, min_samples_leaf=1,\n",
    "            min_samples_split=2, min_weight_fraction_leaf=0.0,\n",
    "            random_state=None, splitter='best')\n",
    "}\n",
    "\n",
    "base_predictors.append(AdaBoostRegressor(**param))"
   ]
  },
  {
   "cell_type": "markdown",
   "metadata": {},
   "source": [
    "#### DecisionTree"
   ]
  },
  {
   "cell_type": "code",
   "execution_count": 10,
   "metadata": {},
   "outputs": [],
   "source": [
    "base_predictors.append(DecisionTreeRegressor(criterion='mse', max_depth=4, max_features=None,\n",
    "            max_leaf_nodes=None, min_impurity_decrease=0.0,\n",
    "            min_impurity_split=None, min_samples_leaf=1,\n",
    "            min_samples_split=2, min_weight_fraction_leaf=0.0,\n",
    "            random_state=None, splitter='best'))"
   ]
  },
  {
   "cell_type": "markdown",
   "metadata": {},
   "source": [
    "### Metafeatures\n",
    "\n",
    "Ahora vamos a realizar una predicción por cada predictor base, y las vamos a agregar a una copia del set de entrenamiento (*train_meta*)."
   ]
  },
  {
   "cell_type": "code",
   "execution_count": 11,
   "metadata": {},
   "outputs": [],
   "source": [
    "train_meta = train.copy()\n",
    "for predictor in base_predictors:\n",
    "    train_meta[predictor.__class__.__name__] = np.nan"
   ]
  },
  {
   "cell_type": "markdown",
   "metadata": {},
   "source": [
    "Para realizar las predicciones utilizar cross validation."
   ]
  },
  {
   "cell_type": "code",
   "execution_count": 12,
   "metadata": {},
   "outputs": [
    {
     "name": "stderr",
     "output_type": "stream",
     "text": [
      "/home/sebas/.envs/trocafone/lib/python3.6/site-packages/xgboost/core.py:587: FutureWarning: Series.base is deprecated and will be removed in a future version\n",
      "  if getattr(data, 'base', None) is not None and \\\n",
      "/home/sebas/.envs/trocafone/lib/python3.6/site-packages/xgboost/core.py:587: FutureWarning: Series.base is deprecated and will be removed in a future version\n",
      "  if getattr(data, 'base', None) is not None and \\\n",
      "/home/sebas/.envs/trocafone/lib/python3.6/site-packages/xgboost/core.py:587: FutureWarning: Series.base is deprecated and will be removed in a future version\n",
      "  if getattr(data, 'base', None) is not None and \\\n",
      "/home/sebas/.envs/trocafone/lib/python3.6/site-packages/xgboost/core.py:587: FutureWarning: Series.base is deprecated and will be removed in a future version\n",
      "  if getattr(data, 'base', None) is not None and \\\n",
      "/home/sebas/.envs/trocafone/lib/python3.6/site-packages/xgboost/core.py:587: FutureWarning: Series.base is deprecated and will be removed in a future version\n",
      "  if getattr(data, 'base', None) is not None and \\\n",
      "/home/sebas/.envs/trocafone/lib/python3.6/site-packages/xgboost/core.py:587: FutureWarning: Series.base is deprecated and will be removed in a future version\n",
      "  if getattr(data, 'base', None) is not None and \\\n",
      "/home/sebas/.envs/trocafone/lib/python3.6/site-packages/xgboost/core.py:587: FutureWarning: Series.base is deprecated and will be removed in a future version\n",
      "  if getattr(data, 'base', None) is not None and \\\n",
      "/home/sebas/.envs/trocafone/lib/python3.6/site-packages/xgboost/core.py:587: FutureWarning: Series.base is deprecated and will be removed in a future version\n",
      "  if getattr(data, 'base', None) is not None and \\\n",
      "/home/sebas/.envs/trocafone/lib/python3.6/site-packages/xgboost/core.py:587: FutureWarning: Series.base is deprecated and will be removed in a future version\n",
      "  if getattr(data, 'base', None) is not None and \\\n",
      "/home/sebas/.envs/trocafone/lib/python3.6/site-packages/xgboost/core.py:587: FutureWarning: Series.base is deprecated and will be removed in a future version\n",
      "  if getattr(data, 'base', None) is not None and \\\n"
     ]
    },
    {
     "name": "stdout",
     "output_type": "stream",
     "text": [
      "CPU times: user 8min 45s, sys: 198 ms, total: 8min 46s\n",
      "Wall time: 8min 46s\n"
     ]
    }
   ],
   "source": [
    "%%time\n",
    "kf = KFold(n_splits=10, shuffle=False)\n",
    "for train_i, validation_i in kf.split(train):    \n",
    "    for predictor in base_predictors:\n",
    "        # como warm_start=False cada vez que llamo fit, el modelo se reinicia\n",
    "        predictor.fit(train.iloc[train_i], train_target.iloc[train_i]) # train\n",
    "        train_meta[predictor.__class__.__name__].iloc[validation_i] = predictor.predict(train.iloc[validation_i]) # predict"
   ]
  },
  {
   "cell_type": "code",
   "execution_count": 13,
   "metadata": {},
   "outputs": [
    {
     "data": {
      "text/html": [
       "<div>\n",
       "<style scoped>\n",
       "    .dataframe tbody tr th:only-of-type {\n",
       "        vertical-align: middle;\n",
       "    }\n",
       "\n",
       "    .dataframe tbody tr th {\n",
       "        vertical-align: top;\n",
       "    }\n",
       "\n",
       "    .dataframe thead th {\n",
       "        text-align: right;\n",
       "    }\n",
       "</style>\n",
       "<table border=\"1\" class=\"dataframe\">\n",
       "  <thead>\n",
       "    <tr style=\"text-align: right;\">\n",
       "      <th></th>\n",
       "      <th>screen_resolution_height mean</th>\n",
       "      <th>screen_resolution_width mean</th>\n",
       "      <th>screen_resolution_height std</th>\n",
       "      <th>screen_resolution_width std</th>\n",
       "      <th>ad campaign hit</th>\n",
       "      <th>brand listing</th>\n",
       "      <th>checkout</th>\n",
       "      <th>conversion</th>\n",
       "      <th>generic listing</th>\n",
       "      <th>lead</th>\n",
       "      <th>search engine hit</th>\n",
       "      <th>searched products</th>\n",
       "      <th>...</th>\n",
       "      <th>Sunday</th>\n",
       "      <th>Thursday</th>\n",
       "      <th>Tuesday</th>\n",
       "      <th>Wednesday</th>\n",
       "      <th>madrugada</th>\n",
       "      <th>maniana</th>\n",
       "      <th>tarde</th>\n",
       "      <th>noche</th>\n",
       "      <th>XGBRegressor</th>\n",
       "      <th>RandomForestRegressor</th>\n",
       "      <th>AdaBoostRegressor</th>\n",
       "      <th>DecisionTreeRegressor</th>\n",
       "    </tr>\n",
       "    <tr>\n",
       "      <th>person</th>\n",
       "      <th></th>\n",
       "      <th></th>\n",
       "      <th></th>\n",
       "      <th></th>\n",
       "      <th></th>\n",
       "      <th></th>\n",
       "      <th></th>\n",
       "      <th></th>\n",
       "      <th></th>\n",
       "      <th></th>\n",
       "      <th></th>\n",
       "      <th></th>\n",
       "      <th></th>\n",
       "      <th></th>\n",
       "      <th></th>\n",
       "      <th></th>\n",
       "      <th></th>\n",
       "      <th></th>\n",
       "      <th></th>\n",
       "      <th></th>\n",
       "      <th></th>\n",
       "      <th></th>\n",
       "      <th></th>\n",
       "      <th></th>\n",
       "      <th></th>\n",
       "    </tr>\n",
       "  </thead>\n",
       "  <tbody>\n",
       "    <tr>\n",
       "      <th>0566e9c1</th>\n",
       "      <td>568.0</td>\n",
       "      <td>320.0</td>\n",
       "      <td>0.0</td>\n",
       "      <td>0.0</td>\n",
       "      <td>6.0</td>\n",
       "      <td>3.0</td>\n",
       "      <td>1.0</td>\n",
       "      <td>1.0</td>\n",
       "      <td>15.0</td>\n",
       "      <td>0.0</td>\n",
       "      <td>1.0</td>\n",
       "      <td>0.0</td>\n",
       "      <td>...</td>\n",
       "      <td>0.0</td>\n",
       "      <td>0.0</td>\n",
       "      <td>0.0</td>\n",
       "      <td>1.0</td>\n",
       "      <td>0</td>\n",
       "      <td>0</td>\n",
       "      <td>1</td>\n",
       "      <td>0</td>\n",
       "      <td>0.018380</td>\n",
       "      <td>0.021013</td>\n",
       "      <td>0.127402</td>\n",
       "      <td>0.007599</td>\n",
       "    </tr>\n",
       "    <tr>\n",
       "      <th>6ec7ee77</th>\n",
       "      <td>640.0</td>\n",
       "      <td>360.0</td>\n",
       "      <td>0.0</td>\n",
       "      <td>0.0</td>\n",
       "      <td>1.0</td>\n",
       "      <td>0.0</td>\n",
       "      <td>0.0</td>\n",
       "      <td>0.0</td>\n",
       "      <td>0.0</td>\n",
       "      <td>0.0</td>\n",
       "      <td>0.0</td>\n",
       "      <td>0.0</td>\n",
       "      <td>...</td>\n",
       "      <td>0.0</td>\n",
       "      <td>0.0</td>\n",
       "      <td>0.0</td>\n",
       "      <td>0.0</td>\n",
       "      <td>0</td>\n",
       "      <td>0</td>\n",
       "      <td>0</td>\n",
       "      <td>0</td>\n",
       "      <td>0.079287</td>\n",
       "      <td>0.090634</td>\n",
       "      <td>0.308829</td>\n",
       "      <td>0.117647</td>\n",
       "    </tr>\n",
       "    <tr>\n",
       "      <th>abe7a2fb</th>\n",
       "      <td>640.0</td>\n",
       "      <td>360.0</td>\n",
       "      <td>0.0</td>\n",
       "      <td>0.0</td>\n",
       "      <td>9.0</td>\n",
       "      <td>14.0</td>\n",
       "      <td>1.0</td>\n",
       "      <td>0.0</td>\n",
       "      <td>9.0</td>\n",
       "      <td>0.0</td>\n",
       "      <td>4.0</td>\n",
       "      <td>6.0</td>\n",
       "      <td>...</td>\n",
       "      <td>0.0</td>\n",
       "      <td>0.0</td>\n",
       "      <td>0.0</td>\n",
       "      <td>0.0</td>\n",
       "      <td>0</td>\n",
       "      <td>0</td>\n",
       "      <td>0</td>\n",
       "      <td>0</td>\n",
       "      <td>0.017295</td>\n",
       "      <td>0.030771</td>\n",
       "      <td>0.195528</td>\n",
       "      <td>0.007599</td>\n",
       "    </tr>\n",
       "  </tbody>\n",
       "</table>\n",
       "<p>3 rows × 142 columns</p>\n",
       "</div>"
      ],
      "text/plain": [
       "          screen_resolution_height mean  screen_resolution_width mean  \\\n",
       "person                                                                  \n",
       "0566e9c1                          568.0                         320.0   \n",
       "6ec7ee77                          640.0                         360.0   \n",
       "abe7a2fb                          640.0                         360.0   \n",
       "\n",
       "          screen_resolution_height std  screen_resolution_width std  \\\n",
       "person                                                                \n",
       "0566e9c1                           0.0                          0.0   \n",
       "6ec7ee77                           0.0                          0.0   \n",
       "abe7a2fb                           0.0                          0.0   \n",
       "\n",
       "          ad campaign hit  brand listing  checkout  conversion  \\\n",
       "person                                                           \n",
       "0566e9c1              6.0            3.0       1.0         1.0   \n",
       "6ec7ee77              1.0            0.0       0.0         0.0   \n",
       "abe7a2fb              9.0           14.0       1.0         0.0   \n",
       "\n",
       "          generic listing  lead  search engine hit  searched products  ...  \\\n",
       "person                                                                 ...   \n",
       "0566e9c1             15.0   0.0                1.0                0.0  ...   \n",
       "6ec7ee77              0.0   0.0                0.0                0.0  ...   \n",
       "abe7a2fb              9.0   0.0                4.0                6.0  ...   \n",
       "\n",
       "          Sunday  Thursday  Tuesday  Wednesday  madrugada  maniana  tarde  \\\n",
       "person                                                                      \n",
       "0566e9c1     0.0       0.0      0.0        1.0          0        0      1   \n",
       "6ec7ee77     0.0       0.0      0.0        0.0          0        0      0   \n",
       "abe7a2fb     0.0       0.0      0.0        0.0          0        0      0   \n",
       "\n",
       "          noche  XGBRegressor  RandomForestRegressor  AdaBoostRegressor  \\\n",
       "person                                                                    \n",
       "0566e9c1      0      0.018380               0.021013           0.127402   \n",
       "6ec7ee77      0      0.079287               0.090634           0.308829   \n",
       "abe7a2fb      0      0.017295               0.030771           0.195528   \n",
       "\n",
       "          DecisionTreeRegressor  \n",
       "person                           \n",
       "0566e9c1               0.007599  \n",
       "6ec7ee77               0.117647  \n",
       "abe7a2fb               0.007599  \n",
       "\n",
       "[3 rows x 142 columns]"
      ]
     },
     "execution_count": 13,
     "metadata": {},
     "output_type": "execute_result"
    }
   ],
   "source": [
    "train_meta.head(3)"
   ]
  },
  {
   "cell_type": "markdown",
   "metadata": {},
   "source": [
    "### Predictor Stacking\n",
    "\n",
    "Ahora vamos a entrenar un nuevo modelo utilizando como features las predicciones anteriores (metafeatures). También podemos agregar algunos de los features originales."
   ]
  },
  {
   "cell_type": "markdown",
   "metadata": {},
   "source": [
    "Para esto realizamos un Random Search. TODO "
   ]
  },
  {
   "cell_type": "code",
   "execution_count": 14,
   "metadata": {},
   "outputs": [],
   "source": [
    "param = {\n",
    "    'learning_rate': 0.3,\n",
    "    'gamma': 1.6317896840572566,\n",
    "    'max_depth': 2,\n",
    "    'objective': 'reg:logistic',\n",
    "    'n_estimators': 25\n",
    "}\n",
    "\n",
    "stacking = XGBRegressor(**param)\n",
    "stack_train = train_meta[[predictor.__class__.__name__ for predictor in base_predictors]]"
   ]
  },
  {
   "cell_type": "code",
   "execution_count": 15,
   "metadata": {},
   "outputs": [
    {
     "name": "stderr",
     "output_type": "stream",
     "text": [
      "/home/sebas/.envs/trocafone/lib/python3.6/site-packages/xgboost/core.py:587: FutureWarning: Series.base is deprecated and will be removed in a future version\n",
      "  if getattr(data, 'base', None) is not None and \\\n",
      "/home/sebas/.envs/trocafone/lib/python3.6/site-packages/xgboost/core.py:587: FutureWarning: Series.base is deprecated and will be removed in a future version\n",
      "  if getattr(data, 'base', None) is not None and \\\n",
      "/home/sebas/.envs/trocafone/lib/python3.6/site-packages/xgboost/core.py:587: FutureWarning: Series.base is deprecated and will be removed in a future version\n",
      "  if getattr(data, 'base', None) is not None and \\\n",
      "/home/sebas/.envs/trocafone/lib/python3.6/site-packages/xgboost/core.py:587: FutureWarning: Series.base is deprecated and will be removed in a future version\n",
      "  if getattr(data, 'base', None) is not None and \\\n",
      "/home/sebas/.envs/trocafone/lib/python3.6/site-packages/xgboost/core.py:587: FutureWarning: Series.base is deprecated and will be removed in a future version\n",
      "  if getattr(data, 'base', None) is not None and \\\n",
      "/home/sebas/.envs/trocafone/lib/python3.6/site-packages/xgboost/core.py:587: FutureWarning: Series.base is deprecated and will be removed in a future version\n",
      "  if getattr(data, 'base', None) is not None and \\\n",
      "/home/sebas/.envs/trocafone/lib/python3.6/site-packages/xgboost/core.py:587: FutureWarning: Series.base is deprecated and will be removed in a future version\n",
      "  if getattr(data, 'base', None) is not None and \\\n",
      "/home/sebas/.envs/trocafone/lib/python3.6/site-packages/xgboost/core.py:587: FutureWarning: Series.base is deprecated and will be removed in a future version\n",
      "  if getattr(data, 'base', None) is not None and \\\n",
      "/home/sebas/.envs/trocafone/lib/python3.6/site-packages/xgboost/core.py:587: FutureWarning: Series.base is deprecated and will be removed in a future version\n",
      "  if getattr(data, 'base', None) is not None and \\\n",
      "/home/sebas/.envs/trocafone/lib/python3.6/site-packages/xgboost/core.py:587: FutureWarning: Series.base is deprecated and will be removed in a future version\n",
      "  if getattr(data, 'base', None) is not None and \\\n"
     ]
    },
    {
     "name": "stdout",
     "output_type": "stream",
     "text": [
      "Accuracy: 0.876813 (+/- 0.019586)\n",
      "CPU times: user 1.76 s, sys: 3.97 ms, total: 1.77 s\n",
      "Wall time: 1.77 s\n"
     ]
    }
   ],
   "source": [
    "%%time\n",
    "scores = cross_val_score(stacking, stack_train, train_target, cv=10, scoring='roc_auc')\n",
    "print(\"Accuracy: %0.6f (+/- %0.6f)\" % (scores.mean(), scores.std() * 2))"
   ]
  },
  {
   "cell_type": "code",
   "execution_count": 16,
   "metadata": {},
   "outputs": [
    {
     "name": "stderr",
     "output_type": "stream",
     "text": [
      "/home/sebas/.envs/trocafone/lib/python3.6/site-packages/xgboost/core.py:587: FutureWarning: Series.base is deprecated and will be removed in a future version\n",
      "  if getattr(data, 'base', None) is not None and \\\n",
      "/home/sebas/.envs/trocafone/lib/python3.6/site-packages/xgboost/core.py:588: FutureWarning: Series.base is deprecated and will be removed in a future version\n",
      "  data.base is not None and isinstance(data, np.ndarray) \\\n"
     ]
    },
    {
     "data": {
      "text/plain": [
       "XGBRegressor(base_score=0.5, booster='gbtree', colsample_bylevel=1,\n",
       "             colsample_bynode=1, colsample_bytree=1, gamma=1.6317896840572566,\n",
       "             importance_type='gain', learning_rate=0.3, max_delta_step=0,\n",
       "             max_depth=2, min_child_weight=1, missing=None, n_estimators=25,\n",
       "             n_jobs=1, nthread=None, objective='reg:logistic', random_state=0,\n",
       "             reg_alpha=0, reg_lambda=1, scale_pos_weight=1, seed=None,\n",
       "             silent=None, subsample=1, verbosity=1)"
      ]
     },
     "execution_count": 16,
     "metadata": {},
     "output_type": "execute_result"
    }
   ],
   "source": [
    "stacking.fit(stack_train, train_target)"
   ]
  },
  {
   "cell_type": "markdown",
   "metadata": {},
   "source": [
    "### Bayesian Optimization\n",
    "\n",
    "Búsque de hiperparámetros para el stacking."
   ]
  },
  {
   "cell_type": "code",
   "execution_count": 17,
   "metadata": {},
   "outputs": [],
   "source": [
    "pbounds = {\n",
    "    'max_depth': (2, 30),\n",
    "    'eta': (0, 1),\n",
    "    'gamma': (0, 20),\n",
    "    'min_child_weight': (1, 8),\n",
    "    'max_delta_step': (1, 8),\n",
    "    'subsample': (0, 1),\n",
    "    'colsample_bytree': (0, 1),\n",
    "    'colsample_bylevel': (0, 1),\n",
    "    'lambda': (1, 10),\n",
    "    'alpha': (0, 8)\n",
    "}\n",
    "\n",
    "discrete = ['max_depth'] # parámetros discretos\n",
    "cv_splits = 10 # cantidad de splits en el cv\n",
    "num_round = 100 # cantidad máxima de boosts"
   ]
  },
  {
   "cell_type": "code",
   "execution_count": 18,
   "metadata": {},
   "outputs": [],
   "source": [
    "dtrain = xgb.DMatrix(stack_train, label=train_target)\n",
    "def cv_score_xgb(**param):\n",
    "    param['silent'] = 1\n",
    "    param['objective'] = 'reg:logistic'\n",
    "    \n",
    "    # transformo los valores que deben ser discretos\n",
    "    for d in discrete:\n",
    "        param[d] = int(param[d])\n",
    "    \n",
    "    # hago el cv\n",
    "    scores = xgb.cv(param, dtrain, nfold=cv_splits, metrics='auc', verbose_eval=False, shuffle=False, stratified=False, num_boost_round=num_round, early_stopping_rounds=20)\n",
    "    return scores['test-auc-mean'].max()"
   ]
  },
  {
   "cell_type": "code",
   "execution_count": 19,
   "metadata": {
    "scrolled": true
   },
   "outputs": [
    {
     "name": "stdout",
     "output_type": "stream",
     "text": [
      "|   iter    |  target   |   alpha   | colsam... | colsam... |    eta    |   gamma   |  lambda   | max_de... | max_depth | min_ch... | subsample |\n",
      "-------------------------------------------------------------------------------------------------------------------------------------------------\n",
      "| \u001b[0m 1       \u001b[0m | \u001b[0m 0.8765  \u001b[0m | \u001b[0m 6.385   \u001b[0m | \u001b[0m 0.7464  \u001b[0m | \u001b[0m 0.8593  \u001b[0m | \u001b[0m 0.2693  \u001b[0m | \u001b[0m 7.562   \u001b[0m | \u001b[0m 7.709   \u001b[0m | \u001b[0m 1.445   \u001b[0m | \u001b[0m 7.232   \u001b[0m | \u001b[0m 5.316   \u001b[0m | \u001b[0m 0.6595  \u001b[0m |\n",
      "| \u001b[0m 2       \u001b[0m | \u001b[0m 0.875   \u001b[0m | \u001b[0m 7.262   \u001b[0m | \u001b[0m 0.2786  \u001b[0m | \u001b[0m 0.6384  \u001b[0m | \u001b[0m 0.6078  \u001b[0m | \u001b[0m 6.138   \u001b[0m | \u001b[0m 4.342   \u001b[0m | \u001b[0m 1.4     \u001b[0m | \u001b[0m 28.56   \u001b[0m | \u001b[0m 5.768   \u001b[0m | \u001b[0m 0.6861  \u001b[0m |\n",
      "| \u001b[0m 3       \u001b[0m | \u001b[0m 0.8702  \u001b[0m | \u001b[0m 4.797   \u001b[0m | \u001b[0m 0.2917  \u001b[0m | \u001b[0m 0.5098  \u001b[0m | \u001b[0m 0.9009  \u001b[0m | \u001b[0m 10.39   \u001b[0m | \u001b[0m 9.394   \u001b[0m | \u001b[0m 4.886   \u001b[0m | \u001b[0m 2.86    \u001b[0m | \u001b[0m 4.015   \u001b[0m | \u001b[0m 0.6473  \u001b[0m |\n",
      "| \u001b[0m 4       \u001b[0m | \u001b[0m 0.8694  \u001b[0m | \u001b[0m 3.512   \u001b[0m | \u001b[0m 0.5126  \u001b[0m | \u001b[0m 0.35    \u001b[0m | \u001b[0m 0.4883  \u001b[0m | \u001b[0m 15.98   \u001b[0m | \u001b[0m 2.699   \u001b[0m | \u001b[0m 3.516   \u001b[0m | \u001b[0m 19.13   \u001b[0m | \u001b[0m 1.381   \u001b[0m | \u001b[0m 0.2142  \u001b[0m |\n",
      "| \u001b[0m 5       \u001b[0m | \u001b[0m 0.8733  \u001b[0m | \u001b[0m 1.071   \u001b[0m | \u001b[0m 0.2793  \u001b[0m | \u001b[0m 0.783   \u001b[0m | \u001b[0m 0.8484  \u001b[0m | \u001b[0m 14.38   \u001b[0m | \u001b[0m 9.868   \u001b[0m | \u001b[0m 3.853   \u001b[0m | \u001b[0m 17.82   \u001b[0m | \u001b[0m 5.03    \u001b[0m | \u001b[0m 0.9931  \u001b[0m |\n",
      "| \u001b[0m 6       \u001b[0m | \u001b[0m 0.8683  \u001b[0m | \u001b[0m 4.611   \u001b[0m | \u001b[0m 0.37    \u001b[0m | \u001b[0m 0.9266  \u001b[0m | \u001b[0m 0.9476  \u001b[0m | \u001b[0m 15.44   \u001b[0m | \u001b[0m 1.763   \u001b[0m | \u001b[0m 6.614   \u001b[0m | \u001b[0m 26.74   \u001b[0m | \u001b[0m 7.255   \u001b[0m | \u001b[0m 0.3966  \u001b[0m |\n",
      "| \u001b[0m 7       \u001b[0m | \u001b[0m 0.871   \u001b[0m | \u001b[0m 5.233   \u001b[0m | \u001b[0m 0.3431  \u001b[0m | \u001b[0m 0.479   \u001b[0m | \u001b[0m 0.5533  \u001b[0m | \u001b[0m 18.08   \u001b[0m | \u001b[0m 6.889   \u001b[0m | \u001b[0m 7.934   \u001b[0m | \u001b[0m 2.6     \u001b[0m | \u001b[0m 6.925   \u001b[0m | \u001b[0m 0.6665  \u001b[0m |\n",
      "| \u001b[0m 8       \u001b[0m | \u001b[0m 0.8463  \u001b[0m | \u001b[0m 4.021   \u001b[0m | \u001b[0m 0.3064  \u001b[0m | \u001b[0m 0.07696 \u001b[0m | \u001b[0m 0.2345  \u001b[0m | \u001b[0m 16.13   \u001b[0m | \u001b[0m 7.524   \u001b[0m | \u001b[0m 2.793   \u001b[0m | \u001b[0m 14.63   \u001b[0m | \u001b[0m 7.372   \u001b[0m | \u001b[0m 0.03454 \u001b[0m |\n",
      "| \u001b[0m 9       \u001b[0m | \u001b[0m 0.8753  \u001b[0m | \u001b[0m 1.532   \u001b[0m | \u001b[0m 0.8731  \u001b[0m | \u001b[0m 0.5245  \u001b[0m | \u001b[0m 0.3407  \u001b[0m | \u001b[0m 13.4    \u001b[0m | \u001b[0m 3.939   \u001b[0m | \u001b[0m 5.164   \u001b[0m | \u001b[0m 4.827   \u001b[0m | \u001b[0m 4.136   \u001b[0m | \u001b[0m 0.9054  \u001b[0m |\n",
      "| \u001b[0m 10      \u001b[0m | \u001b[0m 0.868   \u001b[0m | \u001b[0m 2.117   \u001b[0m | \u001b[0m 0.5135  \u001b[0m | \u001b[0m 0.2389  \u001b[0m | \u001b[0m 0.7696  \u001b[0m | \u001b[0m 16.42   \u001b[0m | \u001b[0m 5.729   \u001b[0m | \u001b[0m 1.265   \u001b[0m | \u001b[0m 8.549   \u001b[0m | \u001b[0m 5.237   \u001b[0m | \u001b[0m 0.3102  \u001b[0m |\n",
      "| \u001b[0m 11      \u001b[0m | \u001b[0m 0.8712  \u001b[0m | \u001b[0m 1.797   \u001b[0m | \u001b[0m 0.4572  \u001b[0m | \u001b[0m 0.08353 \u001b[0m | \u001b[0m 0.8789  \u001b[0m | \u001b[0m 7.859   \u001b[0m | \u001b[0m 5.19    \u001b[0m | \u001b[0m 6.602   \u001b[0m | \u001b[0m 20.68   \u001b[0m | \u001b[0m 6.334   \u001b[0m | \u001b[0m 0.5798  \u001b[0m |\n",
      "| \u001b[95m 12      \u001b[0m | \u001b[95m 0.877   \u001b[0m | \u001b[95m 0.7234  \u001b[0m | \u001b[95m 0.331   \u001b[0m | \u001b[95m 0.8641  \u001b[0m | \u001b[95m 0.105   \u001b[0m | \u001b[95m 11.09   \u001b[0m | \u001b[95m 3.331   \u001b[0m | \u001b[95m 2.682   \u001b[0m | \u001b[95m 4.968   \u001b[0m | \u001b[95m 2.071   \u001b[0m | \u001b[95m 0.7963  \u001b[0m |\n",
      "| \u001b[0m 13      \u001b[0m | \u001b[0m 0.8725  \u001b[0m | \u001b[0m 0.6842  \u001b[0m | \u001b[0m 0.9011  \u001b[0m | \u001b[0m 0.9542  \u001b[0m | \u001b[0m 0.2482  \u001b[0m | \u001b[0m 19.03   \u001b[0m | \u001b[0m 5.646   \u001b[0m | \u001b[0m 1.21    \u001b[0m | \u001b[0m 16.79   \u001b[0m | \u001b[0m 4.982   \u001b[0m | \u001b[0m 0.188   \u001b[0m |\n",
      "| \u001b[0m 14      \u001b[0m | \u001b[0m 0.8707  \u001b[0m | \u001b[0m 1.211   \u001b[0m | \u001b[0m 0.1034  \u001b[0m | \u001b[0m 0.05604 \u001b[0m | \u001b[0m 0.6609  \u001b[0m | \u001b[0m 19.86   \u001b[0m | \u001b[0m 6.92    \u001b[0m | \u001b[0m 7.799   \u001b[0m | \u001b[0m 8.852   \u001b[0m | \u001b[0m 2.981   \u001b[0m | \u001b[0m 0.7722  \u001b[0m |\n",
      "| \u001b[0m 15      \u001b[0m | \u001b[0m 0.8685  \u001b[0m | \u001b[0m 6.817   \u001b[0m | \u001b[0m 0.9451  \u001b[0m | \u001b[0m 0.311   \u001b[0m | \u001b[0m 0.9016  \u001b[0m | \u001b[0m 16.34   \u001b[0m | \u001b[0m 5.459   \u001b[0m | \u001b[0m 5.874   \u001b[0m | \u001b[0m 12.83   \u001b[0m | \u001b[0m 1.265   \u001b[0m | \u001b[0m 0.8332  \u001b[0m |\n",
      "| \u001b[0m 16      \u001b[0m | \u001b[0m 0.8742  \u001b[0m | \u001b[0m 5.102   \u001b[0m | \u001b[0m 0.4733  \u001b[0m | \u001b[0m 0.4895  \u001b[0m | \u001b[0m 0.5427  \u001b[0m | \u001b[0m 5.309   \u001b[0m | \u001b[0m 7.603   \u001b[0m | \u001b[0m 4.33    \u001b[0m | \u001b[0m 27.93   \u001b[0m | \u001b[0m 6.839   \u001b[0m | \u001b[0m 0.7381  \u001b[0m |\n",
      "| \u001b[0m 17      \u001b[0m | \u001b[0m 0.8738  \u001b[0m | \u001b[0m 6.284   \u001b[0m | \u001b[0m 0.3084  \u001b[0m | \u001b[0m 0.8935  \u001b[0m | \u001b[0m 0.09148 \u001b[0m | \u001b[0m 11.31   \u001b[0m | \u001b[0m 2.449   \u001b[0m | \u001b[0m 2.266   \u001b[0m | \u001b[0m 2.036   \u001b[0m | \u001b[0m 4.435   \u001b[0m | \u001b[0m 0.3309  \u001b[0m |\n",
      "| \u001b[0m 18      \u001b[0m | \u001b[0m 0.872   \u001b[0m | \u001b[0m 0.5525  \u001b[0m | \u001b[0m 0.9884  \u001b[0m | \u001b[0m 0.6273  \u001b[0m | \u001b[0m 0.6828  \u001b[0m | \u001b[0m 5.474   \u001b[0m | \u001b[0m 7.462   \u001b[0m | \u001b[0m 1.201   \u001b[0m | \u001b[0m 19.3    \u001b[0m | \u001b[0m 2.437   \u001b[0m | \u001b[0m 0.3057  \u001b[0m |\n",
      "| \u001b[0m 19      \u001b[0m | \u001b[0m 0.8758  \u001b[0m | \u001b[0m 0.903   \u001b[0m | \u001b[0m 0.477   \u001b[0m | \u001b[0m 0.9082  \u001b[0m | \u001b[0m 0.4631  \u001b[0m | \u001b[0m 8.331   \u001b[0m | \u001b[0m 6.293   \u001b[0m | \u001b[0m 4.922   \u001b[0m | \u001b[0m 10.37   \u001b[0m | \u001b[0m 2.696   \u001b[0m | \u001b[0m 0.8739  \u001b[0m |\n",
      "| \u001b[0m 20      \u001b[0m | \u001b[0m 0.8697  \u001b[0m | \u001b[0m 4.393   \u001b[0m | \u001b[0m 0.6338  \u001b[0m | \u001b[0m 0.8854  \u001b[0m | \u001b[0m 0.05803 \u001b[0m | \u001b[0m 7.404   \u001b[0m | \u001b[0m 4.078   \u001b[0m | \u001b[0m 5.94    \u001b[0m | \u001b[0m 21.76   \u001b[0m | \u001b[0m 4.642   \u001b[0m | \u001b[0m 0.05025 \u001b[0m |\n",
      "| \u001b[0m 21      \u001b[0m | \u001b[0m 0.8617  \u001b[0m | \u001b[0m 0.1044  \u001b[0m | \u001b[0m 0.4372  \u001b[0m | \u001b[0m 0.154   \u001b[0m | \u001b[0m 0.8582  \u001b[0m | \u001b[0m 0.3845  \u001b[0m | \u001b[0m 1.136   \u001b[0m | \u001b[0m 7.69    \u001b[0m | \u001b[0m 29.95   \u001b[0m | \u001b[0m 3.965   \u001b[0m | \u001b[0m 0.7024  \u001b[0m |\n",
      "| \u001b[0m 22      \u001b[0m | \u001b[0m 0.8724  \u001b[0m | \u001b[0m 7.296   \u001b[0m | \u001b[0m 0.2109  \u001b[0m | \u001b[0m 0.4423  \u001b[0m | \u001b[0m 0.9885  \u001b[0m | \u001b[0m 0.07506 \u001b[0m | \u001b[0m 1.872   \u001b[0m | \u001b[0m 7.355   \u001b[0m | \u001b[0m 4.33    \u001b[0m | \u001b[0m 7.546   \u001b[0m | \u001b[0m 0.9156  \u001b[0m |\n",
      "| \u001b[0m 23      \u001b[0m | \u001b[0m 0.8753  \u001b[0m | \u001b[0m 7.989   \u001b[0m | \u001b[0m 0.338   \u001b[0m | \u001b[0m 0.5392  \u001b[0m | \u001b[0m 0.8827  \u001b[0m | \u001b[0m 0.07021 \u001b[0m | \u001b[0m 9.969   \u001b[0m | \u001b[0m 3.23    \u001b[0m | \u001b[0m 25.21   \u001b[0m | \u001b[0m 1.007   \u001b[0m | \u001b[0m 0.8594  \u001b[0m |\n",
      "| \u001b[0m 24      \u001b[0m | \u001b[0m 0.8703  \u001b[0m | \u001b[0m 4.584   \u001b[0m | \u001b[0m 0.05834 \u001b[0m | \u001b[0m 0.8893  \u001b[0m | \u001b[0m 0.9752  \u001b[0m | \u001b[0m 19.85   \u001b[0m | \u001b[0m 1.658   \u001b[0m | \u001b[0m 2.319   \u001b[0m | \u001b[0m 2.597   \u001b[0m | \u001b[0m 2.58    \u001b[0m | \u001b[0m 0.9395  \u001b[0m |\n",
      "| \u001b[0m 25      \u001b[0m | \u001b[0m 0.8682  \u001b[0m | \u001b[0m 8.0     \u001b[0m | \u001b[0m 1.0     \u001b[0m | \u001b[0m 1.0     \u001b[0m | \u001b[0m 1.0     \u001b[0m | \u001b[0m 20.0    \u001b[0m | \u001b[0m 7.088   \u001b[0m | \u001b[0m 8.0     \u001b[0m | \u001b[0m 30.0    \u001b[0m | \u001b[0m 1.0     \u001b[0m | \u001b[0m 1.0     \u001b[0m |\n",
      "| \u001b[0m 26      \u001b[0m | \u001b[0m 0.8754  \u001b[0m | \u001b[0m 0.2514  \u001b[0m | \u001b[0m 0.8096  \u001b[0m | \u001b[0m 0.8649  \u001b[0m | \u001b[0m 0.7132  \u001b[0m | \u001b[0m 15.76   \u001b[0m | \u001b[0m 1.443   \u001b[0m | \u001b[0m 5.061   \u001b[0m | \u001b[0m 28.5    \u001b[0m | \u001b[0m 1.537   \u001b[0m | \u001b[0m 0.9505  \u001b[0m |\n",
      "| \u001b[95m 27      \u001b[0m | \u001b[95m 0.8771  \u001b[0m | \u001b[95m 3.589   \u001b[0m | \u001b[95m 0.9744  \u001b[0m | \u001b[95m 0.9793  \u001b[0m | \u001b[95m 0.7654  \u001b[0m | \u001b[95m 0.2172  \u001b[0m | \u001b[95m 8.476   \u001b[0m | \u001b[95m 1.12    \u001b[0m | \u001b[95m 2.39    \u001b[0m | \u001b[95m 7.218   \u001b[0m | \u001b[95m 0.9169  \u001b[0m |\n",
      "| \u001b[0m 28      \u001b[0m | \u001b[0m 0.874   \u001b[0m | \u001b[0m 7.289   \u001b[0m | \u001b[0m 0.6559  \u001b[0m | \u001b[0m 0.6779  \u001b[0m | \u001b[0m 0.9491  \u001b[0m | \u001b[0m 2.051   \u001b[0m | \u001b[0m 1.091   \u001b[0m | \u001b[0m 1.856   \u001b[0m | \u001b[0m 17.71   \u001b[0m | \u001b[0m 7.944   \u001b[0m | \u001b[0m 0.6869  \u001b[0m |\n",
      "| \u001b[0m 29      \u001b[0m | \u001b[0m 0.8694  \u001b[0m | \u001b[0m 1.785   \u001b[0m | \u001b[0m 0.4307  \u001b[0m | \u001b[0m 0.8664  \u001b[0m | \u001b[0m 0.9778  \u001b[0m | \u001b[0m 0.5029  \u001b[0m | \u001b[0m 8.523   \u001b[0m | \u001b[0m 1.44    \u001b[0m | \u001b[0m 29.72   \u001b[0m | \u001b[0m 7.702   \u001b[0m | \u001b[0m 0.5779  \u001b[0m |\n",
      "| \u001b[0m 30      \u001b[0m | \u001b[0m 0.8748  \u001b[0m | \u001b[0m 7.849   \u001b[0m | \u001b[0m 0.3726  \u001b[0m | \u001b[0m 0.713   \u001b[0m | \u001b[0m 0.8185  \u001b[0m | \u001b[0m 0.7005  \u001b[0m | \u001b[0m 9.133   \u001b[0m | \u001b[0m 7.591   \u001b[0m | \u001b[0m 28.41   \u001b[0m | \u001b[0m 7.62    \u001b[0m | \u001b[0m 0.4966  \u001b[0m |\n",
      "| \u001b[0m 31      \u001b[0m | \u001b[0m 0.8714  \u001b[0m | \u001b[0m 7.128   \u001b[0m | \u001b[0m 0.9324  \u001b[0m | \u001b[0m 0.961   \u001b[0m | \u001b[0m 0.9279  \u001b[0m | \u001b[0m 0.03081 \u001b[0m | \u001b[0m 5.617   \u001b[0m | \u001b[0m 1.207   \u001b[0m | \u001b[0m 7.093   \u001b[0m | \u001b[0m 1.24    \u001b[0m | \u001b[0m 0.6582  \u001b[0m |\n",
      "| \u001b[0m 32      \u001b[0m | \u001b[0m 0.8758  \u001b[0m | \u001b[0m 0.003382\u001b[0m | \u001b[0m 0.9051  \u001b[0m | \u001b[0m 0.8277  \u001b[0m | \u001b[0m 0.4643  \u001b[0m | \u001b[0m 17.97   \u001b[0m | \u001b[0m 8.117   \u001b[0m | \u001b[0m 2.079   \u001b[0m | \u001b[0m 3.928   \u001b[0m | \u001b[0m 1.478   \u001b[0m | \u001b[0m 0.9938  \u001b[0m |\n",
      "| \u001b[0m 33      \u001b[0m | \u001b[0m 0.8752  \u001b[0m | \u001b[0m 2.053   \u001b[0m | \u001b[0m 0.5917  \u001b[0m | \u001b[0m 0.9236  \u001b[0m | \u001b[0m 0.8151  \u001b[0m | \u001b[0m 4.82    \u001b[0m | \u001b[0m 1.732   \u001b[0m | \u001b[0m 2.029   \u001b[0m | \u001b[0m 3.264   \u001b[0m | \u001b[0m 7.915   \u001b[0m | \u001b[0m 0.9824  \u001b[0m |\n"
     ]
    },
    {
     "name": "stdout",
     "output_type": "stream",
     "text": [
      "| \u001b[0m 34      \u001b[0m | \u001b[0m 0.8755  \u001b[0m | \u001b[0m 7.881   \u001b[0m | \u001b[0m 0.9296  \u001b[0m | \u001b[0m 0.4309  \u001b[0m | \u001b[0m 0.4312  \u001b[0m | \u001b[0m 1.829   \u001b[0m | \u001b[0m 9.516   \u001b[0m | \u001b[0m 7.219   \u001b[0m | \u001b[0m 2.102   \u001b[0m | \u001b[0m 7.89    \u001b[0m | \u001b[0m 0.9927  \u001b[0m |\n",
      "| \u001b[0m 35      \u001b[0m | \u001b[0m 0.8754  \u001b[0m | \u001b[0m 0.2149  \u001b[0m | \u001b[0m 0.4656  \u001b[0m | \u001b[0m 0.9507  \u001b[0m | \u001b[0m 0.5994  \u001b[0m | \u001b[0m 8.229   \u001b[0m | \u001b[0m 9.973   \u001b[0m | \u001b[0m 7.79    \u001b[0m | \u001b[0m 28.68   \u001b[0m | \u001b[0m 1.059   \u001b[0m | \u001b[0m 0.5013  \u001b[0m |\n",
      "| \u001b[0m 36      \u001b[0m | \u001b[0m 0.8744  \u001b[0m | \u001b[0m 0.01863 \u001b[0m | \u001b[0m 0.561   \u001b[0m | \u001b[0m 0.9656  \u001b[0m | \u001b[0m 0.7457  \u001b[0m | \u001b[0m 13.44   \u001b[0m | \u001b[0m 2.29    \u001b[0m | \u001b[0m 7.794   \u001b[0m | \u001b[0m 14.98   \u001b[0m | \u001b[0m 1.154   \u001b[0m | \u001b[0m 0.8877  \u001b[0m |\n",
      "| \u001b[0m 37      \u001b[0m | \u001b[0m 0.8764  \u001b[0m | \u001b[0m 7.576   \u001b[0m | \u001b[0m 0.7308  \u001b[0m | \u001b[0m 0.6384  \u001b[0m | \u001b[0m 0.9376  \u001b[0m | \u001b[0m 3.508   \u001b[0m | \u001b[0m 4.275   \u001b[0m | \u001b[0m 7.965   \u001b[0m | \u001b[0m 29.56   \u001b[0m | \u001b[0m 2.494   \u001b[0m | \u001b[0m 0.8949  \u001b[0m |\n",
      "| \u001b[0m 38      \u001b[0m | \u001b[0m 0.8497  \u001b[0m | \u001b[0m 7.978   \u001b[0m | \u001b[0m 0.0     \u001b[0m | \u001b[0m 1.0     \u001b[0m | \u001b[0m 2.346e-0\u001b[0m | \u001b[0m 6.393   \u001b[0m | \u001b[0m 3.449   \u001b[0m | \u001b[0m 8.0     \u001b[0m | \u001b[0m 30.0    \u001b[0m | \u001b[0m 8.0     \u001b[0m | \u001b[0m 1.0     \u001b[0m |\n",
      "| \u001b[0m 39      \u001b[0m | \u001b[0m 0.871   \u001b[0m | \u001b[0m 0.9893  \u001b[0m | \u001b[0m 0.8958  \u001b[0m | \u001b[0m 0.8072  \u001b[0m | \u001b[0m 0.9902  \u001b[0m | \u001b[0m 17.25   \u001b[0m | \u001b[0m 8.943   \u001b[0m | \u001b[0m 1.588   \u001b[0m | \u001b[0m 28.38   \u001b[0m | \u001b[0m 1.21    \u001b[0m | \u001b[0m 0.5133  \u001b[0m |\n",
      "| \u001b[0m 40      \u001b[0m | \u001b[0m 0.8703  \u001b[0m | \u001b[0m 5.221   \u001b[0m | \u001b[0m 0.861   \u001b[0m | \u001b[0m 0.9053  \u001b[0m | \u001b[0m 0.9827  \u001b[0m | \u001b[0m 0.8967  \u001b[0m | \u001b[0m 9.686   \u001b[0m | \u001b[0m 7.753   \u001b[0m | \u001b[0m 19.19   \u001b[0m | \u001b[0m 3.715   \u001b[0m | \u001b[0m 0.8333  \u001b[0m |\n",
      "=================================================================================================================================================\n",
      "CPU times: user 11min 42s, sys: 7.91 s, total: 11min 50s\n",
      "Wall time: 11min 40s\n"
     ]
    }
   ],
   "source": [
    "%%time\n",
    "optimizer = BayesianOptimization(f=cv_score_xgb, pbounds=pbounds)\n",
    "# optimizer.probe(\n",
    "#     params = {'eta': 0.06027, 'gamma': 8.548, 'max_depth': 16}\n",
    "# )\n",
    "optimizer.maximize(\n",
    "    init_points=20,\n",
    "    n_iter=20,\n",
    ")"
   ]
  },
  {
   "cell_type": "code",
   "execution_count": 20,
   "metadata": {},
   "outputs": [
    {
     "data": {
      "text/plain": [
       "{'target': 0.8770772000000001,\n",
       " 'params': {'alpha': 3.589060371439908,\n",
       "  'colsample_bylevel': 0.9743874410279757,\n",
       "  'colsample_bytree': 0.9792712927886779,\n",
       "  'eta': 0.7653596968199986,\n",
       "  'gamma': 0.21721627657683262,\n",
       "  'lambda': 8.475874378255888,\n",
       "  'max_delta_step': 1.120340073446381,\n",
       "  'max_depth': 2.390290920333375,\n",
       "  'min_child_weight': 7.217759618943042,\n",
       "  'subsample': 0.9168917646461506}}"
      ]
     },
     "execution_count": 20,
     "metadata": {},
     "output_type": "execute_result"
    }
   ],
   "source": [
    "optimizer.max"
   ]
  },
  {
   "cell_type": "markdown",
   "metadata": {},
   "source": [
    "Escribo el mejor resultado en un archivo"
   ]
  },
  {
   "cell_type": "code",
   "execution_count": 21,
   "metadata": {},
   "outputs": [],
   "source": [
    "hyperparameter_data = {\n",
    "    'algorithm': 'stacking',\n",
    "    'hyperparameters': optimizer.max['params'],\n",
    "    'cv_splits': cv_splits,\n",
    "    'auc': optimizer.max['target'],\n",
    "    'features': train.columns\n",
    "}"
   ]
  },
  {
   "cell_type": "code",
   "execution_count": 22,
   "metadata": {},
   "outputs": [],
   "source": [
    "%run -i write_hyperparameters.py"
   ]
  },
  {
   "cell_type": "markdown",
   "metadata": {},
   "source": [
    "### Predicción del set testing con los modelos base\n",
    "\n",
    "Utilizamos los modelos entrenados con el 100% del set de entrenamiento para predecir el set de testing."
   ]
  },
  {
   "cell_type": "code",
   "execution_count": 23,
   "metadata": {},
   "outputs": [],
   "source": [
    "testing = labels_to_predict.merge(df_features, how='inner', on='person')\n",
    "assert(testing.shape[0] == labels_to_predict.shape[0])"
   ]
  },
  {
   "cell_type": "code",
   "execution_count": 24,
   "metadata": {},
   "outputs": [],
   "source": [
    "testing_with_base_predictions = testing.copy()\n",
    "for predictor in base_predictors:\n",
    "    testing_with_base_predictions[predictor.__class__.__name__] = np.nan"
   ]
  },
  {
   "cell_type": "code",
   "execution_count": 25,
   "metadata": {},
   "outputs": [
    {
     "name": "stderr",
     "output_type": "stream",
     "text": [
      "/home/sebas/.envs/trocafone/lib/python3.6/site-packages/xgboost/core.py:587: FutureWarning: Series.base is deprecated and will be removed in a future version\n",
      "  if getattr(data, 'base', None) is not None and \\\n",
      "/home/sebas/.envs/trocafone/lib/python3.6/site-packages/xgboost/core.py:588: FutureWarning: Series.base is deprecated and will be removed in a future version\n",
      "  data.base is not None and isinstance(data, np.ndarray) \\\n"
     ]
    },
    {
     "name": "stdout",
     "output_type": "stream",
     "text": [
      "CPU times: user 1min 12s, sys: 167 ms, total: 1min 12s\n",
      "Wall time: 1min 13s\n"
     ]
    }
   ],
   "source": [
    "%%time\n",
    "for predictor in base_predictors:\n",
    "    # como warm_start=False cada vez que llamo fit, el modelo se reinicia\n",
    "    predictor.fit(train, train_target) # train\n",
    "    testing_with_base_predictions[predictor.__class__.__name__] = predictor.predict(testing) # predict"
   ]
  },
  {
   "cell_type": "markdown",
   "metadata": {},
   "source": [
    "### Predicción del set testing con el stacking\n",
    "\n",
    "Utilizamos las predicciones como features para que el Stacking las combine en una prediccón final."
   ]
  },
  {
   "cell_type": "code",
   "execution_count": 26,
   "metadata": {},
   "outputs": [
    {
     "data": {
      "text/html": [
       "<div>\n",
       "<style scoped>\n",
       "    .dataframe tbody tr th:only-of-type {\n",
       "        vertical-align: middle;\n",
       "    }\n",
       "\n",
       "    .dataframe tbody tr th {\n",
       "        vertical-align: top;\n",
       "    }\n",
       "\n",
       "    .dataframe thead th {\n",
       "        text-align: right;\n",
       "    }\n",
       "</style>\n",
       "<table border=\"1\" class=\"dataframe\">\n",
       "  <thead>\n",
       "    <tr style=\"text-align: right;\">\n",
       "      <th></th>\n",
       "      <th>XGBRegressor</th>\n",
       "      <th>RandomForestRegressor</th>\n",
       "      <th>AdaBoostRegressor</th>\n",
       "      <th>DecisionTreeRegressor</th>\n",
       "    </tr>\n",
       "    <tr>\n",
       "      <th>person</th>\n",
       "      <th></th>\n",
       "      <th></th>\n",
       "      <th></th>\n",
       "      <th></th>\n",
       "    </tr>\n",
       "  </thead>\n",
       "  <tbody>\n",
       "    <tr>\n",
       "      <th>4886f805</th>\n",
       "      <td>0.005293</td>\n",
       "      <td>0.001813</td>\n",
       "      <td>0.037285</td>\n",
       "      <td>0.007434</td>\n",
       "    </tr>\n",
       "    <tr>\n",
       "      <th>0297fc1e</th>\n",
       "      <td>0.017091</td>\n",
       "      <td>0.057994</td>\n",
       "      <td>0.139586</td>\n",
       "      <td>0.039040</td>\n",
       "    </tr>\n",
       "    <tr>\n",
       "      <th>2d681dd8</th>\n",
       "      <td>0.009014</td>\n",
       "      <td>0.002503</td>\n",
       "      <td>0.039510</td>\n",
       "      <td>0.007434</td>\n",
       "    </tr>\n",
       "  </tbody>\n",
       "</table>\n",
       "</div>"
      ],
      "text/plain": [
       "          XGBRegressor  RandomForestRegressor  AdaBoostRegressor  \\\n",
       "person                                                             \n",
       "4886f805      0.005293               0.001813           0.037285   \n",
       "0297fc1e      0.017091               0.057994           0.139586   \n",
       "2d681dd8      0.009014               0.002503           0.039510   \n",
       "\n",
       "          DecisionTreeRegressor  \n",
       "person                           \n",
       "4886f805               0.007434  \n",
       "0297fc1e               0.039040  \n",
       "2d681dd8               0.007434  "
      ]
     },
     "execution_count": 26,
     "metadata": {},
     "output_type": "execute_result"
    }
   ],
   "source": [
    "testing_with_base_predictions_for_stacking = testing_with_base_predictions[[predictor.__class__.__name__ for predictor in base_predictors]]\n",
    "testing_with_base_predictions_for_stacking.head(3)"
   ]
  },
  {
   "cell_type": "code",
   "execution_count": 27,
   "metadata": {},
   "outputs": [],
   "source": [
    "predictions = stacking.predict(testing_with_base_predictions_for_stacking)"
   ]
  },
  {
   "cell_type": "code",
   "execution_count": 28,
   "metadata": {},
   "outputs": [],
   "source": [
    "testing_target = pd.DataFrame(data=stacking.predict(testing_with_base_predictions_for_stacking))\n",
    "testing_target.index = testing_with_base_predictions_for_stacking.index\n",
    "testing_target.index.name = 'person'\n",
    "testing_target.columns = ['label']"
   ]
  },
  {
   "cell_type": "code",
   "execution_count": 29,
   "metadata": {},
   "outputs": [],
   "source": [
    "testing_target.to_csv(predicciones_csv)"
   ]
  }
 ],
 "metadata": {
  "kernelspec": {
   "display_name": "Python 3",
   "language": "python",
   "name": "python3"
  },
  "language_info": {
   "codemirror_mode": {
    "name": "ipython",
    "version": 3
   },
   "file_extension": ".py",
   "mimetype": "text/x-python",
   "name": "python",
   "nbconvert_exporter": "python",
   "pygments_lexer": "ipython3",
   "version": "3.6.9"
  }
 },
 "nbformat": 4,
 "nbformat_minor": 2
}
