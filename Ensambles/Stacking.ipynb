{
 "cells": [
  {
   "cell_type": "markdown",
   "metadata": {},
   "source": [
    "# Stacking ensembling\n",
    "\n",
    "Vamos a crear un ensamble de tipo stacking. Para ello se utilizaron las siguientes fuentes:\n",
    " - https://mlwave.com/kaggle-ensembling-guide/\n",
    " - http://blog.kaggle.com/2016/12/27/a-kagglers-guide-to-model-stacking-in-practice/\n",
    " - https://github.com/emanuele/kaggle_pbr/blob/master/blend.py\n",
    "\n",
    "Para ello se desarrollaron las siguientes secciones:\n",
    " - [Predictores base](#Predictores-base)\n",
    "     - [Xgboost](#Xgboost)\n",
    "     - [Random Forest](#Random-Forest)\n",
    "     - [AdaBoost](#AdaBoost)\n",
    " - [Metafeatures](#Metafeatures)\n",
    " - [Predictor Stacking](#Predictor-Stacking)"
   ]
  },
  {
   "cell_type": "code",
   "execution_count": 6,
   "metadata": {},
   "outputs": [],
   "source": [
    "from sklearn.model_selection import cross_val_score, RandomizedSearchCV\n",
    "from sklearn.ensemble import RandomForestRegressor, AdaBoostRegressor\n",
    "from sklearn.linear_model import LogisticRegression\n",
    "from sklearn.tree import DecisionTreeRegressor\n",
    "from bayes_opt import BayesianOptimization\n",
    "from sklearn.model_selection import KFold\n",
    "from xgboost import XGBRegressor\n",
    "from time import time\n",
    "import xgboost as xgb\n",
    "import pandas as pd\n",
    "import os"
   ]
  },
  {
   "cell_type": "code",
   "execution_count": 2,
   "metadata": {},
   "outputs": [],
   "source": [
    "if '__file__' in locals():\n",
    "    current_folder = os.path.dirname(os.path.abspath(__file__))\n",
    "else:\n",
    "    current_folder = os.getcwd()\n",
    "\n",
    "set_de_entrenamiento_testing_y_prediccion = '\"{}\"'.format(os.path.join(\n",
    "    current_folder,\n",
    "    '..',\n",
    "    'Set de entrenamiento, testing y predicción.ipynb'\n",
    "))\n",
    "merge_features = '\"{}\"'.format(os.path.join(current_folder, '..', 'Features', 'Merge features.ipynb'))\n",
    "predicciones_csv = os.path.join(current_folder, '..', 'predictions.csv')"
   ]
  },
  {
   "cell_type": "markdown",
   "metadata": {},
   "source": [
    "Cargo el df con los features."
   ]
  },
  {
   "cell_type": "code",
   "execution_count": 3,
   "metadata": {},
   "outputs": [
    {
     "ename": "KeyboardInterrupt",
     "evalue": "La limpieza ya corrió en este Kernel",
     "output_type": "error",
     "traceback": [
      "\u001b[0;31m---------------------------------------------------------------------------\u001b[0m",
      "\u001b[0;31mKeyboardInterrupt\u001b[0m                         Traceback (most recent call last)",
      "\u001b[0;32m~/DATOS/UBA/Organizacion de Datos/tp2/Features/../Limpieza.ipynb\u001b[0m in \u001b[0;36m<module>\u001b[0;34m()\u001b[0m\n\u001b[1;32m      1\u001b[0m \u001b[0;32mif\u001b[0m \u001b[0;34m'limpieza_runned'\u001b[0m \u001b[0;32min\u001b[0m \u001b[0mlocals\u001b[0m\u001b[0;34m(\u001b[0m\u001b[0;34m)\u001b[0m\u001b[0;34m:\u001b[0m\u001b[0;34m\u001b[0m\u001b[0m\n\u001b[0;32m----> 2\u001b[0;31m     \u001b[0;32mraise\u001b[0m \u001b[0mKeyboardInterrupt\u001b[0m\u001b[0;34m(\u001b[0m\u001b[0;34m'La limpieza ya corrió en este Kernel'\u001b[0m\u001b[0;34m)\u001b[0m\u001b[0;34m\u001b[0m\u001b[0m\n\u001b[0m\u001b[1;32m      3\u001b[0m \u001b[0mlimpieza_runned\u001b[0m \u001b[0;34m=\u001b[0m \u001b[0;32mTrue\u001b[0m\u001b[0;34m\u001b[0m\u001b[0m\n",
      "\u001b[0;31mKeyboardInterrupt\u001b[0m: La limpieza ya corrió en este Kernel"
     ]
    },
    {
     "ename": "KeyboardInterrupt",
     "evalue": "La limpieza ya corrió en este Kernel",
     "output_type": "error",
     "traceback": [
      "\u001b[0;31m---------------------------------------------------------------------------\u001b[0m",
      "\u001b[0;31mKeyboardInterrupt\u001b[0m                         Traceback (most recent call last)",
      "\u001b[0;32m~/DATOS/UBA/Organizacion de Datos/tp2/Features/../Limpieza.ipynb\u001b[0m in \u001b[0;36m<module>\u001b[0;34m()\u001b[0m\n\u001b[1;32m      1\u001b[0m \u001b[0;32mif\u001b[0m \u001b[0;34m'limpieza_runned'\u001b[0m \u001b[0;32min\u001b[0m \u001b[0mlocals\u001b[0m\u001b[0;34m(\u001b[0m\u001b[0;34m)\u001b[0m\u001b[0;34m:\u001b[0m\u001b[0;34m\u001b[0m\u001b[0m\n\u001b[0;32m----> 2\u001b[0;31m     \u001b[0;32mraise\u001b[0m \u001b[0mKeyboardInterrupt\u001b[0m\u001b[0;34m(\u001b[0m\u001b[0;34m'La limpieza ya corrió en este Kernel'\u001b[0m\u001b[0;34m)\u001b[0m\u001b[0;34m\u001b[0m\u001b[0m\n\u001b[0m\u001b[1;32m      3\u001b[0m \u001b[0mlimpieza_runned\u001b[0m \u001b[0;34m=\u001b[0m \u001b[0;32mTrue\u001b[0m\u001b[0;34m\u001b[0m\u001b[0m\n",
      "\u001b[0;31mKeyboardInterrupt\u001b[0m: La limpieza ya corrió en este Kernel"
     ]
    },
    {
     "ename": "KeyboardInterrupt",
     "evalue": "La limpieza ya corrió en este Kernel",
     "output_type": "error",
     "traceback": [
      "\u001b[0;31m---------------------------------------------------------------------------\u001b[0m",
      "\u001b[0;31mKeyboardInterrupt\u001b[0m                         Traceback (most recent call last)",
      "\u001b[0;32m~/DATOS/UBA/Organizacion de Datos/tp2/Features/../Limpieza.ipynb\u001b[0m in \u001b[0;36m<module>\u001b[0;34m()\u001b[0m\n\u001b[1;32m      1\u001b[0m \u001b[0;32mif\u001b[0m \u001b[0;34m'limpieza_runned'\u001b[0m \u001b[0;32min\u001b[0m \u001b[0mlocals\u001b[0m\u001b[0;34m(\u001b[0m\u001b[0;34m)\u001b[0m\u001b[0;34m:\u001b[0m\u001b[0;34m\u001b[0m\u001b[0m\n\u001b[0;32m----> 2\u001b[0;31m     \u001b[0;32mraise\u001b[0m \u001b[0mKeyboardInterrupt\u001b[0m\u001b[0;34m(\u001b[0m\u001b[0;34m'La limpieza ya corrió en este Kernel'\u001b[0m\u001b[0;34m)\u001b[0m\u001b[0;34m\u001b[0m\u001b[0m\n\u001b[0m\u001b[1;32m      3\u001b[0m \u001b[0mlimpieza_runned\u001b[0m \u001b[0;34m=\u001b[0m \u001b[0;32mTrue\u001b[0m\u001b[0;34m\u001b[0m\u001b[0m\n",
      "\u001b[0;31mKeyboardInterrupt\u001b[0m: La limpieza ya corrió en este Kernel"
     ]
    }
   ],
   "source": [
    "pd.options.mode.chained_assignment = None\n",
    "%run $merge_features"
   ]
  },
  {
   "cell_type": "code",
   "execution_count": 4,
   "metadata": {},
   "outputs": [],
   "source": [
    "assert(df_features.shape[0] == get_clean_df()['person'].unique().shape[0])"
   ]
  },
  {
   "cell_type": "markdown",
   "metadata": {},
   "source": [
    "Cargo el set de entrenamiento."
   ]
  },
  {
   "cell_type": "code",
   "execution_count": 5,
   "metadata": {},
   "outputs": [],
   "source": [
    "%run $set_de_entrenamiento_testing_y_prediccion\n",
    "\n",
    "labels_with_features = labels.merge(df_features, how='inner', on='person')\n",
    "train = labels_with_features.drop('label', axis=1)\n",
    "train_target = labels_with_features['label']"
   ]
  },
  {
   "cell_type": "markdown",
   "metadata": {},
   "source": [
    "### Predictores base\n",
    "\n",
    "En esta sección vamos a preparar los predictores base a utilizar. Estos son los mismos que se encuentran en la carpeta *Algoritmos de ML*."
   ]
  },
  {
   "cell_type": "code",
   "execution_count": 26,
   "metadata": {},
   "outputs": [],
   "source": [
    "base_predictors = []"
   ]
  },
  {
   "cell_type": "markdown",
   "metadata": {},
   "source": [
    "#### Xgboost\n",
    "\n",
    "Nota: vamos a usar XGBRegressor para tener la misma interfaz con el resto de los predictores. Los hiperparámetros tienen distinto nombre, pero producen los mismos resultados. Se puede consultar la documentación de xgboost para encontrar los nombres de los parámetros: https://xgboost.readthedocs.io/en/latest/python/python_api.html#xgboost.XGBRegressor. "
   ]
  },
  {
   "cell_type": "code",
   "execution_count": 27,
   "metadata": {},
   "outputs": [],
   "source": [
    "param = {\n",
    "    'objective': 'reg:logistic',\n",
    "    'colsample_bylevel': 0.6605668347627213,\n",
    "    'colsample_bytree': 0.5279014819087092,\n",
    "    'min_child_weight': 4.302125582335056,\n",
    "    'learning_rate': 0.15803667962605694,\n",
    "    'max_delta_step': 7.592652591386328,\n",
    "    'n_estimators': 65,\n",
    "    'reg_lambda': 1.1181195507921775,\n",
    "    'max_depth': 9,\n",
    "    'silent': True,\n",
    "    'subsample': 0.43744176565530823,\n",
    "    'reg_alpha': 3.845311207046479,\n",
    "    'gamma': 6.219264874528072\n",
    "}\n",
    "\n",
    "base_predictors.append(XGBRegressor(**param))"
   ]
  },
  {
   "cell_type": "markdown",
   "metadata": {},
   "source": [
    "#### Random Forest"
   ]
  },
  {
   "cell_type": "code",
   "execution_count": 28,
   "metadata": {},
   "outputs": [],
   "source": [
    "param = {\n",
    "    'bootstrap': True,\n",
    "    'max_depth': 10,\n",
    "    'max_features': 81,\n",
    "    'min_samples_leaf': 49,\n",
    "    'min_samples_split': 8,\n",
    "    'n_estimators': 56\n",
    "}\n",
    "\n",
    "base_predictors.append(RandomForestRegressor(**param))"
   ]
  },
  {
   "cell_type": "markdown",
   "metadata": {},
   "source": [
    "#### AdaBoost"
   ]
  },
  {
   "cell_type": "code",
   "execution_count": 29,
   "metadata": {},
   "outputs": [],
   "source": [
    "param = {\n",
    "    'n_estimators': 128,\n",
    "    'loss': 'linear',\n",
    "    'learning_rate': 0.07,\n",
    "    'base_estimator': DecisionTreeRegressor(criterion='mse', max_depth=4, max_features=None,\n",
    "            max_leaf_nodes=None, min_impurity_decrease=0.0,\n",
    "            min_impurity_split=None, min_samples_leaf=1,\n",
    "            min_samples_split=2, min_weight_fraction_leaf=0.0,\n",
    "            presort=False, random_state=None, splitter='best')\n",
    "}\n",
    "\n",
    "base_predictors.append(AdaBoostRegressor(**param))"
   ]
  },
  {
   "cell_type": "markdown",
   "metadata": {},
   "source": [
    "#### DecisionTree"
   ]
  },
  {
   "cell_type": "code",
   "execution_count": 30,
   "metadata": {},
   "outputs": [],
   "source": [
    "base_predictors.append(DecisionTreeRegressor(criterion='mse', max_depth=4, max_features=None,\n",
    "            max_leaf_nodes=None, min_impurity_decrease=0.0,\n",
    "            min_impurity_split=None, min_samples_leaf=1,\n",
    "            min_samples_split=2, min_weight_fraction_leaf=0.0,\n",
    "            presort=False, random_state=None, splitter='best'))"
   ]
  },
  {
   "cell_type": "markdown",
   "metadata": {},
   "source": [
    "### Metafeatures\n",
    "\n",
    "Ahora vamos a realizar una predicción por cada predictor base, y las vamos a agregar a una copia del set de entrenamiento (*train_meta*)."
   ]
  },
  {
   "cell_type": "code",
   "execution_count": 31,
   "metadata": {},
   "outputs": [],
   "source": [
    "train_meta = train.copy()\n",
    "for predictor in base_predictors:\n",
    "    train_meta[predictor.__class__.__name__] = np.nan"
   ]
  },
  {
   "cell_type": "markdown",
   "metadata": {},
   "source": [
    "Para realizar las predicciones utilizar cross validation."
   ]
  },
  {
   "cell_type": "code",
   "execution_count": 32,
   "metadata": {},
   "outputs": [
    {
     "name": "stdout",
     "output_type": "stream",
     "text": [
      "CPU times: user 5min 9s, sys: 156 ms, total: 5min 9s\n",
      "Wall time: 5min 9s\n"
     ]
    }
   ],
   "source": [
    "%%time\n",
    "kf = KFold(n_splits=10, shuffle=False)\n",
    "for train_i, validation_i in kf.split(train):    \n",
    "    for predictor in base_predictors:\n",
    "        # como warm_start=False cada vez que llamo fit, el modelo se reinicia\n",
    "        predictor.fit(train.iloc[train_i], train_target.iloc[train_i]) # train\n",
    "        train_meta[predictor.__class__.__name__].iloc[validation_i] = predictor.predict(train.iloc[validation_i]) # predict"
   ]
  },
  {
   "cell_type": "code",
   "execution_count": 33,
   "metadata": {},
   "outputs": [
    {
     "data": {
      "text/html": [
       "<div>\n",
       "<style scoped>\n",
       "    .dataframe tbody tr th:only-of-type {\n",
       "        vertical-align: middle;\n",
       "    }\n",
       "\n",
       "    .dataframe tbody tr th {\n",
       "        vertical-align: top;\n",
       "    }\n",
       "\n",
       "    .dataframe thead th {\n",
       "        text-align: right;\n",
       "    }\n",
       "</style>\n",
       "<table border=\"1\" class=\"dataframe\">\n",
       "  <thead>\n",
       "    <tr style=\"text-align: right;\">\n",
       "      <th></th>\n",
       "      <th>screen_resolution_height mean</th>\n",
       "      <th>screen_resolution_width mean</th>\n",
       "      <th>screen_resolution_height std</th>\n",
       "      <th>screen_resolution_width std</th>\n",
       "      <th>ad campaign hit</th>\n",
       "      <th>brand listing</th>\n",
       "      <th>checkout</th>\n",
       "      <th>conversion</th>\n",
       "      <th>generic listing</th>\n",
       "      <th>lead</th>\n",
       "      <th>search engine hit</th>\n",
       "      <th>searched products</th>\n",
       "      <th>...</th>\n",
       "      <th>Sunday</th>\n",
       "      <th>Thursday</th>\n",
       "      <th>Tuesday</th>\n",
       "      <th>Wednesday</th>\n",
       "      <th>madrugada</th>\n",
       "      <th>maniana</th>\n",
       "      <th>noche</th>\n",
       "      <th>tarde</th>\n",
       "      <th>XGBRegressor</th>\n",
       "      <th>RandomForestRegressor</th>\n",
       "      <th>AdaBoostRegressor</th>\n",
       "      <th>DecisionTreeRegressor</th>\n",
       "    </tr>\n",
       "    <tr>\n",
       "      <th>person</th>\n",
       "      <th></th>\n",
       "      <th></th>\n",
       "      <th></th>\n",
       "      <th></th>\n",
       "      <th></th>\n",
       "      <th></th>\n",
       "      <th></th>\n",
       "      <th></th>\n",
       "      <th></th>\n",
       "      <th></th>\n",
       "      <th></th>\n",
       "      <th></th>\n",
       "      <th></th>\n",
       "      <th></th>\n",
       "      <th></th>\n",
       "      <th></th>\n",
       "      <th></th>\n",
       "      <th></th>\n",
       "      <th></th>\n",
       "      <th></th>\n",
       "      <th></th>\n",
       "      <th></th>\n",
       "      <th></th>\n",
       "      <th></th>\n",
       "      <th></th>\n",
       "    </tr>\n",
       "  </thead>\n",
       "  <tbody>\n",
       "    <tr>\n",
       "      <th>0566e9c1</th>\n",
       "      <td>568.0</td>\n",
       "      <td>320.0</td>\n",
       "      <td>0.0</td>\n",
       "      <td>0.0</td>\n",
       "      <td>6.0</td>\n",
       "      <td>3.0</td>\n",
       "      <td>1.0</td>\n",
       "      <td>1.0</td>\n",
       "      <td>15.0</td>\n",
       "      <td>0.0</td>\n",
       "      <td>1.0</td>\n",
       "      <td>0.0</td>\n",
       "      <td>...</td>\n",
       "      <td>0.0</td>\n",
       "      <td>0.0</td>\n",
       "      <td>0.0</td>\n",
       "      <td>1.0</td>\n",
       "      <td>0</td>\n",
       "      <td>0</td>\n",
       "      <td>0</td>\n",
       "      <td>1</td>\n",
       "      <td>0.014029</td>\n",
       "      <td>0.020092</td>\n",
       "      <td>0.109565</td>\n",
       "      <td>0.007599</td>\n",
       "    </tr>\n",
       "    <tr>\n",
       "      <th>6ec7ee77</th>\n",
       "      <td>640.0</td>\n",
       "      <td>360.0</td>\n",
       "      <td>0.0</td>\n",
       "      <td>0.0</td>\n",
       "      <td>1.0</td>\n",
       "      <td>0.0</td>\n",
       "      <td>0.0</td>\n",
       "      <td>0.0</td>\n",
       "      <td>0.0</td>\n",
       "      <td>0.0</td>\n",
       "      <td>0.0</td>\n",
       "      <td>0.0</td>\n",
       "      <td>...</td>\n",
       "      <td>0.0</td>\n",
       "      <td>0.0</td>\n",
       "      <td>0.0</td>\n",
       "      <td>0.0</td>\n",
       "      <td>0</td>\n",
       "      <td>0</td>\n",
       "      <td>0</td>\n",
       "      <td>0</td>\n",
       "      <td>0.066373</td>\n",
       "      <td>0.074123</td>\n",
       "      <td>0.319654</td>\n",
       "      <td>0.117647</td>\n",
       "    </tr>\n",
       "    <tr>\n",
       "      <th>abe7a2fb</th>\n",
       "      <td>640.0</td>\n",
       "      <td>360.0</td>\n",
       "      <td>0.0</td>\n",
       "      <td>0.0</td>\n",
       "      <td>9.0</td>\n",
       "      <td>14.0</td>\n",
       "      <td>1.0</td>\n",
       "      <td>0.0</td>\n",
       "      <td>9.0</td>\n",
       "      <td>0.0</td>\n",
       "      <td>4.0</td>\n",
       "      <td>6.0</td>\n",
       "      <td>...</td>\n",
       "      <td>0.0</td>\n",
       "      <td>0.0</td>\n",
       "      <td>0.0</td>\n",
       "      <td>0.0</td>\n",
       "      <td>0</td>\n",
       "      <td>0</td>\n",
       "      <td>0</td>\n",
       "      <td>0</td>\n",
       "      <td>0.016325</td>\n",
       "      <td>0.026390</td>\n",
       "      <td>0.171324</td>\n",
       "      <td>0.007599</td>\n",
       "    </tr>\n",
       "  </tbody>\n",
       "</table>\n",
       "<p>3 rows × 132 columns</p>\n",
       "</div>"
      ],
      "text/plain": [
       "          screen_resolution_height mean  screen_resolution_width mean  \\\n",
       "person                                                                  \n",
       "0566e9c1                          568.0                         320.0   \n",
       "6ec7ee77                          640.0                         360.0   \n",
       "abe7a2fb                          640.0                         360.0   \n",
       "\n",
       "          screen_resolution_height std  screen_resolution_width std  \\\n",
       "person                                                                \n",
       "0566e9c1                           0.0                          0.0   \n",
       "6ec7ee77                           0.0                          0.0   \n",
       "abe7a2fb                           0.0                          0.0   \n",
       "\n",
       "          ad campaign hit  brand listing  checkout  conversion  \\\n",
       "person                                                           \n",
       "0566e9c1              6.0            3.0       1.0         1.0   \n",
       "6ec7ee77              1.0            0.0       0.0         0.0   \n",
       "abe7a2fb              9.0           14.0       1.0         0.0   \n",
       "\n",
       "          generic listing  lead  search engine hit  searched products  \\\n",
       "person                                                                  \n",
       "0566e9c1             15.0   0.0                1.0                0.0   \n",
       "6ec7ee77              0.0   0.0                0.0                0.0   \n",
       "abe7a2fb              9.0   0.0                4.0                6.0   \n",
       "\n",
       "                  ...            Sunday  Thursday  Tuesday  Wednesday  \\\n",
       "person            ...                                                   \n",
       "0566e9c1          ...               0.0       0.0      0.0        1.0   \n",
       "6ec7ee77          ...               0.0       0.0      0.0        0.0   \n",
       "abe7a2fb          ...               0.0       0.0      0.0        0.0   \n",
       "\n",
       "          madrugada  maniana  noche  tarde  XGBRegressor  \\\n",
       "person                                                     \n",
       "0566e9c1          0        0      0      1      0.014029   \n",
       "6ec7ee77          0        0      0      0      0.066373   \n",
       "abe7a2fb          0        0      0      0      0.016325   \n",
       "\n",
       "          RandomForestRegressor  AdaBoostRegressor  DecisionTreeRegressor  \n",
       "person                                                                     \n",
       "0566e9c1               0.020092           0.109565               0.007599  \n",
       "6ec7ee77               0.074123           0.319654               0.117647  \n",
       "abe7a2fb               0.026390           0.171324               0.007599  \n",
       "\n",
       "[3 rows x 132 columns]"
      ]
     },
     "execution_count": 33,
     "metadata": {},
     "output_type": "execute_result"
    }
   ],
   "source": [
    "train_meta.head(3)"
   ]
  },
  {
   "cell_type": "markdown",
   "metadata": {},
   "source": [
    "### Predictor Stacking\n",
    "\n",
    "Ahora vamos a entrenar un nuevo modelo utilizando como features las predicciones anteriores (metafeatures). También podemos agregar algunos de los features originales."
   ]
  },
  {
   "cell_type": "markdown",
   "metadata": {},
   "source": [
    "Para esto realizamos un Random Search. TODO "
   ]
  },
  {
   "cell_type": "code",
   "execution_count": 34,
   "metadata": {},
   "outputs": [],
   "source": [
    "param = {\n",
    "    'learning_rate': 0.3,\n",
    "    'gamma': 1.6317896840572566,\n",
    "    'max_depth': 2,\n",
    "    'objective': 'reg:logistic',\n",
    "    'n_estimators': 25\n",
    "}\n",
    "\n",
    "stacking = XGBRegressor(**param)\n",
    "stack_train = train_meta[[predictor.__class__.__name__ for predictor in base_predictors]]"
   ]
  },
  {
   "cell_type": "code",
   "execution_count": 35,
   "metadata": {},
   "outputs": [
    {
     "name": "stdout",
     "output_type": "stream",
     "text": [
      "Accuracy: 0.878476 (+/- 0.022346)\n",
      "CPU times: user 1.09 s, sys: 0 ns, total: 1.09 s\n",
      "Wall time: 1.09 s\n"
     ]
    }
   ],
   "source": [
    "%%time\n",
    "scores = cross_val_score(stacking, stack_train, train_target, cv=10, scoring='roc_auc')\n",
    "print(\"Accuracy: %0.6f (+/- %0.6f)\" % (scores.mean(), scores.std() * 2))"
   ]
  },
  {
   "cell_type": "code",
   "execution_count": 39,
   "metadata": {},
   "outputs": [
    {
     "data": {
      "text/plain": [
       "XGBRegressor(base_score=0.5, booster='gbtree', colsample_bylevel=1,\n",
       "       colsample_bytree=1, gamma=1.6317896840572566, learning_rate=0.3,\n",
       "       max_delta_step=0, max_depth=2, min_child_weight=1, missing=None,\n",
       "       n_estimators=25, n_jobs=1, nthread=None, objective='reg:logistic',\n",
       "       random_state=0, reg_alpha=0, reg_lambda=1, scale_pos_weight=1,\n",
       "       seed=None, silent=True, subsample=1)"
      ]
     },
     "execution_count": 39,
     "metadata": {},
     "output_type": "execute_result"
    }
   ],
   "source": [
    "stacking.fit(stack_train, train_target)"
   ]
  },
  {
   "cell_type": "markdown",
   "metadata": {},
   "source": [
    "### Bayesian Optimization\n",
    "\n",
    "Búsque de hiperparámetros para el stacking."
   ]
  },
  {
   "cell_type": "code",
   "execution_count": 36,
   "metadata": {},
   "outputs": [],
   "source": [
    "pbounds = {\n",
    "    'max_depth': (2, 30),\n",
    "    'eta': (0, 1),\n",
    "    'gamma': (0, 20),\n",
    "    'min_child_weight': (1, 8),\n",
    "    'max_delta_step': (1, 8),\n",
    "    'subsample': (0, 1),\n",
    "    'colsample_bytree': (0, 1),\n",
    "    'colsample_bylevel': (0, 1),\n",
    "    'lambda': (1, 10),\n",
    "    'alpha': (0, 8)\n",
    "}\n",
    "\n",
    "discrete = ['max_depth'] # parámetros discretos\n",
    "cv_splits = 10 # cantidad de splits en el cv\n",
    "num_round = 100 # cantidad máxima de boosts"
   ]
  },
  {
   "cell_type": "code",
   "execution_count": 37,
   "metadata": {},
   "outputs": [],
   "source": [
    "dtrain = xgb.DMatrix(stack_train, label=train_target)\n",
    "def cv_score_xgb(**param):\n",
    "    param['silent'] = 1\n",
    "    param['objective'] = 'reg:logistic'\n",
    "    \n",
    "    # transformo los valores que deben ser discretos\n",
    "    for d in discrete:\n",
    "        param[d] = int(param[d])\n",
    "    \n",
    "    # hago el cv\n",
    "    scores = xgb.cv(param, dtrain, nfold=cv_splits, metrics='auc', verbose_eval=False, shuffle=False, stratified=False, num_boost_round=num_round, early_stopping_rounds=20)\n",
    "    return scores['test-auc-mean'].max()"
   ]
  },
  {
   "cell_type": "code",
   "execution_count": 38,
   "metadata": {
    "scrolled": true
   },
   "outputs": [
    {
     "name": "stdout",
     "output_type": "stream",
     "text": [
      "|   iter    |  target   |   alpha   | colsam... | colsam... |    eta    |   gamma   |  lambda   | max_de... | max_depth | min_ch... | subsample |\n",
      "-------------------------------------------------------------------------------------------------------------------------------------------------\n",
      "| \u001b[0m 1       \u001b[0m | \u001b[0m 0.8697  \u001b[0m | \u001b[0m 7.816   \u001b[0m | \u001b[0m 0.2265  \u001b[0m | \u001b[0m 0.8253  \u001b[0m | \u001b[0m 0.8487  \u001b[0m | \u001b[0m 0.6957  \u001b[0m | \u001b[0m 2.062   \u001b[0m | \u001b[0m 5.605   \u001b[0m | \u001b[0m 29.36   \u001b[0m | \u001b[0m 6.049   \u001b[0m | \u001b[0m 0.09945 \u001b[0m |\n",
      "| \u001b[0m 2       \u001b[0m | \u001b[0m 0.8688  \u001b[0m | \u001b[0m 1.417   \u001b[0m | \u001b[0m 0.8445  \u001b[0m | \u001b[0m 0.3495  \u001b[0m | \u001b[0m 0.7859  \u001b[0m | \u001b[0m 14.48   \u001b[0m | \u001b[0m 8.7     \u001b[0m | \u001b[0m 2.882   \u001b[0m | \u001b[0m 14.25   \u001b[0m | \u001b[0m 1.283   \u001b[0m | \u001b[0m 0.467   \u001b[0m |\n",
      "| \u001b[0m 3       \u001b[0m | \u001b[0m 0.8691  \u001b[0m | \u001b[0m 7.701   \u001b[0m | \u001b[0m 0.209   \u001b[0m | \u001b[0m 0.2717  \u001b[0m | \u001b[0m 0.9198  \u001b[0m | \u001b[0m 2.017   \u001b[0m | \u001b[0m 5.322   \u001b[0m | \u001b[0m 3.005   \u001b[0m | \u001b[0m 25.46   \u001b[0m | \u001b[0m 6.309   \u001b[0m | \u001b[0m 0.1553  \u001b[0m |\n",
      "| \u001b[95m 4       \u001b[0m | \u001b[95m 0.8709  \u001b[0m | \u001b[95m 5.423   \u001b[0m | \u001b[95m 0.7613  \u001b[0m | \u001b[95m 0.354   \u001b[0m | \u001b[95m 0.5982  \u001b[0m | \u001b[95m 17.2    \u001b[0m | \u001b[95m 5.773   \u001b[0m | \u001b[95m 7.845   \u001b[0m | \u001b[95m 9.097   \u001b[0m | \u001b[95m 4.976   \u001b[0m | \u001b[95m 0.625   \u001b[0m |\n",
      "| \u001b[95m 5       \u001b[0m | \u001b[95m 0.8773  \u001b[0m | \u001b[95m 2.301   \u001b[0m | \u001b[95m 0.1542  \u001b[0m | \u001b[95m 0.6756  \u001b[0m | \u001b[95m 0.1777  \u001b[0m | \u001b[95m 2.926   \u001b[0m | \u001b[95m 7.618   \u001b[0m | \u001b[95m 1.878   \u001b[0m | \u001b[95m 17.59   \u001b[0m | \u001b[95m 5.177   \u001b[0m | \u001b[95m 0.2832  \u001b[0m |\n",
      "| \u001b[0m 6       \u001b[0m | \u001b[0m 0.8707  \u001b[0m | \u001b[0m 4.917   \u001b[0m | \u001b[0m 0.05705 \u001b[0m | \u001b[0m 0.4669  \u001b[0m | \u001b[0m 0.942   \u001b[0m | \u001b[0m 5.795   \u001b[0m | \u001b[0m 6.283   \u001b[0m | \u001b[0m 2.415   \u001b[0m | \u001b[0m 25.52   \u001b[0m | \u001b[0m 4.343   \u001b[0m | \u001b[0m 0.4321  \u001b[0m |\n",
      "| \u001b[0m 7       \u001b[0m | \u001b[0m 0.8719  \u001b[0m | \u001b[0m 7.686   \u001b[0m | \u001b[0m 0.3597  \u001b[0m | \u001b[0m 0.7884  \u001b[0m | \u001b[0m 0.926   \u001b[0m | \u001b[0m 4.061   \u001b[0m | \u001b[0m 1.317   \u001b[0m | \u001b[0m 2.531   \u001b[0m | \u001b[0m 7.186   \u001b[0m | \u001b[0m 2.636   \u001b[0m | \u001b[0m 0.7493  \u001b[0m |\n",
      "| \u001b[0m 8       \u001b[0m | \u001b[0m 0.8684  \u001b[0m | \u001b[0m 0.2177  \u001b[0m | \u001b[0m 0.9535  \u001b[0m | \u001b[0m 0.2844  \u001b[0m | \u001b[0m 0.8708  \u001b[0m | \u001b[0m 15.24   \u001b[0m | \u001b[0m 5.82    \u001b[0m | \u001b[0m 6.21    \u001b[0m | \u001b[0m 28.34   \u001b[0m | \u001b[0m 4.023   \u001b[0m | \u001b[0m 0.384   \u001b[0m |\n",
      "| \u001b[0m 9       \u001b[0m | \u001b[0m 0.8556  \u001b[0m | \u001b[0m 0.4589  \u001b[0m | \u001b[0m 0.8033  \u001b[0m | \u001b[0m 0.403   \u001b[0m | \u001b[0m 0.7548  \u001b[0m | \u001b[0m 3.752   \u001b[0m | \u001b[0m 4.802   \u001b[0m | \u001b[0m 1.309   \u001b[0m | \u001b[0m 26.44   \u001b[0m | \u001b[0m 3.395   \u001b[0m | \u001b[0m 0.03759 \u001b[0m |\n",
      "| \u001b[0m 10      \u001b[0m | \u001b[0m 0.8619  \u001b[0m | \u001b[0m 3.511   \u001b[0m | \u001b[0m 0.5826  \u001b[0m | \u001b[0m 0.7605  \u001b[0m | \u001b[0m 0.2497  \u001b[0m | \u001b[0m 15.6    \u001b[0m | \u001b[0m 6.723   \u001b[0m | \u001b[0m 6.304   \u001b[0m | \u001b[0m 24.75   \u001b[0m | \u001b[0m 5.181   \u001b[0m | \u001b[0m 0.0924  \u001b[0m |\n",
      "| \u001b[0m 11      \u001b[0m | \u001b[0m 0.8696  \u001b[0m | \u001b[0m 7.791   \u001b[0m | \u001b[0m 0.2112  \u001b[0m | \u001b[0m 0.4872  \u001b[0m | \u001b[0m 0.539   \u001b[0m | \u001b[0m 15.36   \u001b[0m | \u001b[0m 3.762   \u001b[0m | \u001b[0m 7.371   \u001b[0m | \u001b[0m 6.998   \u001b[0m | \u001b[0m 2.152   \u001b[0m | \u001b[0m 0.552   \u001b[0m |\n",
      "| \u001b[0m 12      \u001b[0m | \u001b[0m 0.8737  \u001b[0m | \u001b[0m 5.058   \u001b[0m | \u001b[0m 0.9545  \u001b[0m | \u001b[0m 0.4704  \u001b[0m | \u001b[0m 0.6126  \u001b[0m | \u001b[0m 1.664   \u001b[0m | \u001b[0m 3.981   \u001b[0m | \u001b[0m 1.419   \u001b[0m | \u001b[0m 19.92   \u001b[0m | \u001b[0m 4.437   \u001b[0m | \u001b[0m 0.2096  \u001b[0m |\n",
      "| \u001b[0m 13      \u001b[0m | \u001b[0m 0.874   \u001b[0m | \u001b[0m 1.604   \u001b[0m | \u001b[0m 0.4457  \u001b[0m | \u001b[0m 0.5346  \u001b[0m | \u001b[0m 0.8322  \u001b[0m | \u001b[0m 15.82   \u001b[0m | \u001b[0m 9.846   \u001b[0m | \u001b[0m 3.432   \u001b[0m | \u001b[0m 29.4    \u001b[0m | \u001b[0m 1.392   \u001b[0m | \u001b[0m 0.7651  \u001b[0m |\n",
      "| \u001b[0m 14      \u001b[0m | \u001b[0m 0.8661  \u001b[0m | \u001b[0m 1.995   \u001b[0m | \u001b[0m 0.3879  \u001b[0m | \u001b[0m 0.03257 \u001b[0m | \u001b[0m 0.5026  \u001b[0m | \u001b[0m 7.549   \u001b[0m | \u001b[0m 1.293   \u001b[0m | \u001b[0m 4.317   \u001b[0m | \u001b[0m 14.23   \u001b[0m | \u001b[0m 5.777   \u001b[0m | \u001b[0m 0.1078  \u001b[0m |\n",
      "| \u001b[0m 15      \u001b[0m | \u001b[0m 0.876   \u001b[0m | \u001b[0m 5.58    \u001b[0m | \u001b[0m 0.7183  \u001b[0m | \u001b[0m 0.734   \u001b[0m | \u001b[0m 0.3314  \u001b[0m | \u001b[0m 13.59   \u001b[0m | \u001b[0m 3.416   \u001b[0m | \u001b[0m 3.314   \u001b[0m | \u001b[0m 24.12   \u001b[0m | \u001b[0m 2.033   \u001b[0m | \u001b[0m 0.8635  \u001b[0m |\n",
      "| \u001b[0m 16      \u001b[0m | \u001b[0m 0.87    \u001b[0m | \u001b[0m 1.187   \u001b[0m | \u001b[0m 0.582   \u001b[0m | \u001b[0m 0.5087  \u001b[0m | \u001b[0m 0.5891  \u001b[0m | \u001b[0m 4.268   \u001b[0m | \u001b[0m 9.87    \u001b[0m | \u001b[0m 1.433   \u001b[0m | \u001b[0m 25.48   \u001b[0m | \u001b[0m 3.181   \u001b[0m | \u001b[0m 0.1089  \u001b[0m |\n",
      "| \u001b[95m 17      \u001b[0m | \u001b[95m 0.8777  \u001b[0m | \u001b[95m 1.674   \u001b[0m | \u001b[95m 0.7158  \u001b[0m | \u001b[95m 0.5574  \u001b[0m | \u001b[95m 0.1804  \u001b[0m | \u001b[95m 10.37   \u001b[0m | \u001b[95m 3.992   \u001b[0m | \u001b[95m 3.159   \u001b[0m | \u001b[95m 6.388   \u001b[0m | \u001b[95m 3.323   \u001b[0m | \u001b[95m 0.9581  \u001b[0m |\n",
      "| \u001b[0m 18      \u001b[0m | \u001b[0m 0.8731  \u001b[0m | \u001b[0m 0.3973  \u001b[0m | \u001b[0m 0.9733  \u001b[0m | \u001b[0m 0.4071  \u001b[0m | \u001b[0m 0.5726  \u001b[0m | \u001b[0m 5.098   \u001b[0m | \u001b[0m 8.389   \u001b[0m | \u001b[0m 6.957   \u001b[0m | \u001b[0m 8.532   \u001b[0m | \u001b[0m 1.5     \u001b[0m | \u001b[0m 0.3841  \u001b[0m |\n",
      "| \u001b[0m 19      \u001b[0m | \u001b[0m 0.8756  \u001b[0m | \u001b[0m 2.36    \u001b[0m | \u001b[0m 0.2349  \u001b[0m | \u001b[0m 0.9818  \u001b[0m | \u001b[0m 0.1938  \u001b[0m | \u001b[0m 12.95   \u001b[0m | \u001b[0m 7.97    \u001b[0m | \u001b[0m 2.755   \u001b[0m | \u001b[0m 5.41    \u001b[0m | \u001b[0m 6.268   \u001b[0m | \u001b[0m 0.4576  \u001b[0m |\n",
      "| \u001b[0m 20      \u001b[0m | \u001b[0m 0.8742  \u001b[0m | \u001b[0m 3.287   \u001b[0m | \u001b[0m 0.2429  \u001b[0m | \u001b[0m 0.9356  \u001b[0m | \u001b[0m 0.5054  \u001b[0m | \u001b[0m 17.18   \u001b[0m | \u001b[0m 7.402   \u001b[0m | \u001b[0m 5.759   \u001b[0m | \u001b[0m 14.38   \u001b[0m | \u001b[0m 7.484   \u001b[0m | \u001b[0m 0.9686  \u001b[0m |\n",
      "| \u001b[0m 21      \u001b[0m | \u001b[0m 0.8775  \u001b[0m | \u001b[0m 7.532   \u001b[0m | \u001b[0m 0.5969  \u001b[0m | \u001b[0m 0.06398 \u001b[0m | \u001b[0m 0.171   \u001b[0m | \u001b[0m 3.123   \u001b[0m | \u001b[0m 8.5     \u001b[0m | \u001b[0m 7.708   \u001b[0m | \u001b[0m 27.88   \u001b[0m | \u001b[0m 2.45    \u001b[0m | \u001b[0m 0.9772  \u001b[0m |\n",
      "| \u001b[0m 22      \u001b[0m | \u001b[0m 0.8739  \u001b[0m | \u001b[0m 0.2669  \u001b[0m | \u001b[0m 0.9461  \u001b[0m | \u001b[0m 0.9597  \u001b[0m | \u001b[0m 0.9148  \u001b[0m | \u001b[0m 19.49   \u001b[0m | \u001b[0m 1.286   \u001b[0m | \u001b[0m 2.115   \u001b[0m | \u001b[0m 2.318   \u001b[0m | \u001b[0m 1.562   \u001b[0m | \u001b[0m 0.762   \u001b[0m |\n",
      "| \u001b[0m 23      \u001b[0m | \u001b[0m 0.8754  \u001b[0m | \u001b[0m 0.8901  \u001b[0m | \u001b[0m 0.7577  \u001b[0m | \u001b[0m 0.3232  \u001b[0m | \u001b[0m 0.9446  \u001b[0m | \u001b[0m 0.02723 \u001b[0m | \u001b[0m 9.867   \u001b[0m | \u001b[0m 3.157   \u001b[0m | \u001b[0m 2.713   \u001b[0m | \u001b[0m 7.473   \u001b[0m | \u001b[0m 0.6899  \u001b[0m |\n",
      "| \u001b[0m 24      \u001b[0m | \u001b[0m 0.8734  \u001b[0m | \u001b[0m 7.399   \u001b[0m | \u001b[0m 0.8168  \u001b[0m | \u001b[0m 0.9923  \u001b[0m | \u001b[0m 0.9845  \u001b[0m | \u001b[0m 0.9268  \u001b[0m | \u001b[0m 6.835   \u001b[0m | \u001b[0m 7.684   \u001b[0m | \u001b[0m 16.53   \u001b[0m | \u001b[0m 7.319   \u001b[0m | \u001b[0m 0.9562  \u001b[0m |\n",
      "| \u001b[0m 25      \u001b[0m | \u001b[0m 0.871   \u001b[0m | \u001b[0m 7.987   \u001b[0m | \u001b[0m 0.4154  \u001b[0m | \u001b[0m 0.2516  \u001b[0m | \u001b[0m 0.732   \u001b[0m | \u001b[0m 19.61   \u001b[0m | \u001b[0m 1.228   \u001b[0m | \u001b[0m 4.873   \u001b[0m | \u001b[0m 28.23   \u001b[0m | \u001b[0m 7.784   \u001b[0m | \u001b[0m 0.8549  \u001b[0m |\n",
      "| \u001b[0m 26      \u001b[0m | \u001b[0m 0.8718  \u001b[0m | \u001b[0m 7.596   \u001b[0m | \u001b[0m 0.05612 \u001b[0m | \u001b[0m 0.2256  \u001b[0m | \u001b[0m 0.03459 \u001b[0m | \u001b[0m 0.013   \u001b[0m | \u001b[0m 9.856   \u001b[0m | \u001b[0m 2.107   \u001b[0m | \u001b[0m 22.74   \u001b[0m | \u001b[0m 1.433   \u001b[0m | \u001b[0m 0.9331  \u001b[0m |\n",
      "| \u001b[0m 27      \u001b[0m | \u001b[0m 0.8765  \u001b[0m | \u001b[0m 7.767   \u001b[0m | \u001b[0m 0.9254  \u001b[0m | \u001b[0m 0.8275  \u001b[0m | \u001b[0m 0.06826 \u001b[0m | \u001b[0m 19.52   \u001b[0m | \u001b[0m 1.652   \u001b[0m | \u001b[0m 3.641   \u001b[0m | \u001b[0m 5.902   \u001b[0m | \u001b[0m 7.98    \u001b[0m | \u001b[0m 0.8587  \u001b[0m |\n",
      "| \u001b[0m 28      \u001b[0m | \u001b[0m 0.8731  \u001b[0m | \u001b[0m 0.4495  \u001b[0m | \u001b[0m 0.7892  \u001b[0m | \u001b[0m 0.8334  \u001b[0m | \u001b[0m 0.6608  \u001b[0m | \u001b[0m 19.83   \u001b[0m | \u001b[0m 8.623   \u001b[0m | \u001b[0m 7.235   \u001b[0m | \u001b[0m 2.227   \u001b[0m | \u001b[0m 3.357   \u001b[0m | \u001b[0m 0.981   \u001b[0m |\n",
      "| \u001b[0m 29      \u001b[0m | \u001b[0m 0.8734  \u001b[0m | \u001b[0m 7.123   \u001b[0m | \u001b[0m 0.9929  \u001b[0m | \u001b[0m 0.898   \u001b[0m | \u001b[0m 0.5763  \u001b[0m | \u001b[0m 18.1    \u001b[0m | \u001b[0m 1.839   \u001b[0m | \u001b[0m 7.372   \u001b[0m | \u001b[0m 29.98   \u001b[0m | \u001b[0m 1.682   \u001b[0m | \u001b[0m 0.5835  \u001b[0m |\n",
      "| \u001b[0m 30      \u001b[0m | \u001b[0m 0.8756  \u001b[0m | \u001b[0m 6.098   \u001b[0m | \u001b[0m 0.9097  \u001b[0m | \u001b[0m 0.1678  \u001b[0m | \u001b[0m 0.2106  \u001b[0m | \u001b[0m 11.92   \u001b[0m | \u001b[0m 9.665   \u001b[0m | \u001b[0m 1.247   \u001b[0m | \u001b[0m 29.98   \u001b[0m | \u001b[0m 7.875   \u001b[0m | \u001b[0m 0.7781  \u001b[0m |\n",
      "| \u001b[0m 31      \u001b[0m | \u001b[0m 0.8723  \u001b[0m | \u001b[0m 0.6153  \u001b[0m | \u001b[0m 0.2605  \u001b[0m | \u001b[0m 0.7575  \u001b[0m | \u001b[0m 0.9608  \u001b[0m | \u001b[0m 2.348   \u001b[0m | \u001b[0m 9.562   \u001b[0m | \u001b[0m 6.6     \u001b[0m | \u001b[0m 29.26   \u001b[0m | \u001b[0m 7.947   \u001b[0m | \u001b[0m 0.8988  \u001b[0m |\n",
      "| \u001b[0m 32      \u001b[0m | \u001b[0m 0.873   \u001b[0m | \u001b[0m 0.005971\u001b[0m | \u001b[0m 0.6881  \u001b[0m | \u001b[0m 0.7952  \u001b[0m | \u001b[0m 0.9751  \u001b[0m | \u001b[0m 5.681   \u001b[0m | \u001b[0m 9.85    \u001b[0m | \u001b[0m 1.082   \u001b[0m | \u001b[0m 12.14   \u001b[0m | \u001b[0m 6.583   \u001b[0m | \u001b[0m 0.9722  \u001b[0m |\n",
      "| \u001b[95m 33      \u001b[0m | \u001b[95m 0.8781  \u001b[0m | \u001b[95m 0.736   \u001b[0m | \u001b[95m 0.4192  \u001b[0m | \u001b[95m 0.3894  \u001b[0m | \u001b[95m 0.1412  \u001b[0m | \u001b[95m 0.8246  \u001b[0m | \u001b[95m 2.263   \u001b[0m | \u001b[95m 7.913   \u001b[0m | \u001b[95m 2.117   \u001b[0m | \u001b[95m 7.954   \u001b[0m | \u001b[95m 0.653   \u001b[0m |\n"
     ]
    },
    {
     "name": "stdout",
     "output_type": "stream",
     "text": [
      "| \u001b[0m 34      \u001b[0m | \u001b[0m 0.8633  \u001b[0m | \u001b[0m 2.977   \u001b[0m | \u001b[0m 0.6204  \u001b[0m | \u001b[0m 0.9958  \u001b[0m | \u001b[0m 0.006989\u001b[0m | \u001b[0m 0.1107  \u001b[0m | \u001b[0m 9.847   \u001b[0m | \u001b[0m 7.891   \u001b[0m | \u001b[0m 2.656   \u001b[0m | \u001b[0m 3.393   \u001b[0m | \u001b[0m 0.7261  \u001b[0m |\n",
      "| \u001b[0m 35      \u001b[0m | \u001b[0m 0.8776  \u001b[0m | \u001b[0m 7.015   \u001b[0m | \u001b[0m 0.171   \u001b[0m | \u001b[0m 0.2265  \u001b[0m | \u001b[0m 0.1914  \u001b[0m | \u001b[0m 2.437   \u001b[0m | \u001b[0m 1.124   \u001b[0m | \u001b[0m 6.635   \u001b[0m | \u001b[0m 18.02   \u001b[0m | \u001b[0m 1.729   \u001b[0m | \u001b[0m 0.9446  \u001b[0m |\n",
      "| \u001b[0m 36      \u001b[0m | \u001b[0m 0.8766  \u001b[0m | \u001b[0m 7.374   \u001b[0m | \u001b[0m 0.1642  \u001b[0m | \u001b[0m 0.09267 \u001b[0m | \u001b[0m 0.3917  \u001b[0m | \u001b[0m 1.443   \u001b[0m | \u001b[0m 1.746   \u001b[0m | \u001b[0m 1.682   \u001b[0m | \u001b[0m 3.248   \u001b[0m | \u001b[0m 7.497   \u001b[0m | \u001b[0m 0.8913  \u001b[0m |\n",
      "| \u001b[0m 37      \u001b[0m | \u001b[0m 0.8719  \u001b[0m | \u001b[0m 0.1461  \u001b[0m | \u001b[0m 0.3697  \u001b[0m | \u001b[0m 0.1508  \u001b[0m | \u001b[0m 0.8425  \u001b[0m | \u001b[0m 19.41   \u001b[0m | \u001b[0m 1.27    \u001b[0m | \u001b[0m 7.949   \u001b[0m | \u001b[0m 3.95    \u001b[0m | \u001b[0m 7.742   \u001b[0m | \u001b[0m 0.83    \u001b[0m |\n",
      "| \u001b[0m 38      \u001b[0m | \u001b[0m 0.8759  \u001b[0m | \u001b[0m 6.148   \u001b[0m | \u001b[0m 0.1779  \u001b[0m | \u001b[0m 0.2187  \u001b[0m | \u001b[0m 0.2581  \u001b[0m | \u001b[0m 19.62   \u001b[0m | \u001b[0m 2.439   \u001b[0m | \u001b[0m 1.365   \u001b[0m | \u001b[0m 10.92   \u001b[0m | \u001b[0m 1.878   \u001b[0m | \u001b[0m 0.9795  \u001b[0m |\n",
      "| \u001b[95m 39      \u001b[0m | \u001b[95m 0.8782  \u001b[0m | \u001b[95m 0.2507  \u001b[0m | \u001b[95m 0.004877\u001b[0m | \u001b[95m 0.5502  \u001b[0m | \u001b[95m 0.4038  \u001b[0m | \u001b[95m 0.0132  \u001b[0m | \u001b[95m 5.148   \u001b[0m | \u001b[95m 2.203   \u001b[0m | \u001b[95m 2.393   \u001b[0m | \u001b[95m 1.054   \u001b[0m | \u001b[95m 0.6628  \u001b[0m |\n",
      "| \u001b[0m 40      \u001b[0m | \u001b[0m 0.8704  \u001b[0m | \u001b[0m 1.107   \u001b[0m | \u001b[0m 0.2672  \u001b[0m | \u001b[0m 0.08195 \u001b[0m | \u001b[0m 0.8155  \u001b[0m | \u001b[0m 19.84   \u001b[0m | \u001b[0m 9.418   \u001b[0m | \u001b[0m 1.254   \u001b[0m | \u001b[0m 2.863   \u001b[0m | \u001b[0m 7.817   \u001b[0m | \u001b[0m 0.8742  \u001b[0m |\n",
      "=================================================================================================================================================\n",
      "CPU times: user 6min 53s, sys: 15.1 s, total: 7min 8s\n",
      "Wall time: 6min 48s\n"
     ]
    }
   ],
   "source": [
    "%%time\n",
    "optimizer = BayesianOptimization(f=cv_score_xgb, pbounds=pbounds)\n",
    "# optimizer.probe(\n",
    "#     params = {'eta': 0.06027, 'gamma': 8.548, 'max_depth': 16}\n",
    "# )\n",
    "optimizer.maximize(\n",
    "    init_points=20,\n",
    "    n_iter=20,\n",
    ")"
   ]
  },
  {
   "cell_type": "code",
   "execution_count": 19,
   "metadata": {},
   "outputs": [
    {
     "data": {
      "text/plain": [
       "{'params': {'eta': 0.05115951793330183,\n",
       "  'gamma': 0.19356475793118721,\n",
       "  'max_depth': 2.8721074126236488},\n",
       " 'target': 0.8767669}"
      ]
     },
     "execution_count": 19,
     "metadata": {},
     "output_type": "execute_result"
    }
   ],
   "source": [
    "optimizer.max"
   ]
  },
  {
   "cell_type": "markdown",
   "metadata": {},
   "source": [
    "Escribo el mejor resultado en un archivo"
   ]
  },
  {
   "cell_type": "code",
   "execution_count": 20,
   "metadata": {},
   "outputs": [],
   "source": [
    "hyperparameter_data = {\n",
    "    'algorithm': 'stacking',\n",
    "    'hyperparameters': optimizer.max['params'],\n",
    "    'cv_splits': cv_splits,\n",
    "    'auc': optimizer.max['target'],\n",
    "    'features': train.columns\n",
    "}"
   ]
  },
  {
   "cell_type": "code",
   "execution_count": 21,
   "metadata": {},
   "outputs": [],
   "source": [
    "%run -i write_hyperparameters.py"
   ]
  },
  {
   "cell_type": "markdown",
   "metadata": {},
   "source": [
    "### Predicción del set testing con los modelos base\n",
    "\n",
    "Utilizamos los modelos entrenados con el 100% del set de entrenamiento para predecir el set de testing."
   ]
  },
  {
   "cell_type": "code",
   "execution_count": 40,
   "metadata": {},
   "outputs": [],
   "source": [
    "testing = labels_to_predict.merge(df_features, how='inner', on='person')\n",
    "assert(testing.shape[0] == labels_to_predict.shape[0])"
   ]
  },
  {
   "cell_type": "code",
   "execution_count": 41,
   "metadata": {},
   "outputs": [],
   "source": [
    "testing_with_base_predictions = testing.copy()\n",
    "for predictor in base_predictors:\n",
    "    testing_with_base_predictions[predictor.__class__.__name__] = np.nan"
   ]
  },
  {
   "cell_type": "code",
   "execution_count": 42,
   "metadata": {},
   "outputs": [
    {
     "name": "stdout",
     "output_type": "stream",
     "text": [
      "CPU times: user 35.5 s, sys: 72 ms, total: 35.5 s\n",
      "Wall time: 35.5 s\n"
     ]
    }
   ],
   "source": [
    "%%time\n",
    "for predictor in base_predictors:\n",
    "    # como warm_start=False cada vez que llamo fit, el modelo se reinicia\n",
    "    predictor.fit(train, train_target) # train\n",
    "    testing_with_base_predictions[predictor.__class__.__name__] = predictor.predict(testing) # predict"
   ]
  },
  {
   "cell_type": "markdown",
   "metadata": {},
   "source": [
    "### Predicción del set testing con el stacking\n",
    "\n",
    "Utilizamos las predicciones como features para que el Stacking las combine en una prediccón final."
   ]
  },
  {
   "cell_type": "code",
   "execution_count": 43,
   "metadata": {},
   "outputs": [
    {
     "data": {
      "text/html": [
       "<div>\n",
       "<style scoped>\n",
       "    .dataframe tbody tr th:only-of-type {\n",
       "        vertical-align: middle;\n",
       "    }\n",
       "\n",
       "    .dataframe tbody tr th {\n",
       "        vertical-align: top;\n",
       "    }\n",
       "\n",
       "    .dataframe thead th {\n",
       "        text-align: right;\n",
       "    }\n",
       "</style>\n",
       "<table border=\"1\" class=\"dataframe\">\n",
       "  <thead>\n",
       "    <tr style=\"text-align: right;\">\n",
       "      <th></th>\n",
       "      <th>XGBRegressor</th>\n",
       "      <th>RandomForestRegressor</th>\n",
       "      <th>AdaBoostRegressor</th>\n",
       "      <th>DecisionTreeRegressor</th>\n",
       "    </tr>\n",
       "    <tr>\n",
       "      <th>person</th>\n",
       "      <th></th>\n",
       "      <th></th>\n",
       "      <th></th>\n",
       "      <th></th>\n",
       "    </tr>\n",
       "  </thead>\n",
       "  <tbody>\n",
       "    <tr>\n",
       "      <th>4886f805</th>\n",
       "      <td>0.004135</td>\n",
       "      <td>0.001780</td>\n",
       "      <td>0.036643</td>\n",
       "      <td>0.007434</td>\n",
       "    </tr>\n",
       "    <tr>\n",
       "      <th>0297fc1e</th>\n",
       "      <td>0.025531</td>\n",
       "      <td>0.058865</td>\n",
       "      <td>0.139090</td>\n",
       "      <td>0.039040</td>\n",
       "    </tr>\n",
       "    <tr>\n",
       "      <th>2d681dd8</th>\n",
       "      <td>0.012194</td>\n",
       "      <td>0.002035</td>\n",
       "      <td>0.037569</td>\n",
       "      <td>0.007434</td>\n",
       "    </tr>\n",
       "  </tbody>\n",
       "</table>\n",
       "</div>"
      ],
      "text/plain": [
       "          XGBRegressor  RandomForestRegressor  AdaBoostRegressor  \\\n",
       "person                                                             \n",
       "4886f805      0.004135               0.001780           0.036643   \n",
       "0297fc1e      0.025531               0.058865           0.139090   \n",
       "2d681dd8      0.012194               0.002035           0.037569   \n",
       "\n",
       "          DecisionTreeRegressor  \n",
       "person                           \n",
       "4886f805               0.007434  \n",
       "0297fc1e               0.039040  \n",
       "2d681dd8               0.007434  "
      ]
     },
     "execution_count": 43,
     "metadata": {},
     "output_type": "execute_result"
    }
   ],
   "source": [
    "testing_with_base_predictions_for_stacking = testing_with_base_predictions[[predictor.__class__.__name__ for predictor in base_predictors]]\n",
    "testing_with_base_predictions_for_stacking.head(3)"
   ]
  },
  {
   "cell_type": "code",
   "execution_count": 44,
   "metadata": {},
   "outputs": [],
   "source": [
    "predictions = stacking.predict(testing_with_base_predictions_for_stacking)"
   ]
  },
  {
   "cell_type": "code",
   "execution_count": 45,
   "metadata": {},
   "outputs": [],
   "source": [
    "testing_target = pd.DataFrame(data=stacking.predict(testing_with_base_predictions_for_stacking))\n",
    "testing_target.index = testing_with_base_predictions_for_stacking.index\n",
    "testing_target.index.name = 'person'\n",
    "testing_target.columns = ['label']"
   ]
  },
  {
   "cell_type": "code",
   "execution_count": 46,
   "metadata": {},
   "outputs": [],
   "source": [
    "testing_target.to_csv(predicciones_csv)"
   ]
  }
 ],
 "metadata": {
  "kernelspec": {
   "display_name": "Python 3",
   "language": "python",
   "name": "python3"
  },
  "language_info": {
   "codemirror_mode": {
    "name": "ipython",
    "version": 3
   },
   "file_extension": ".py",
   "mimetype": "text/x-python",
   "name": "python",
   "nbconvert_exporter": "python",
   "pygments_lexer": "ipython3",
   "version": "3.5.3"
  }
 },
 "nbformat": 4,
 "nbformat_minor": 2
}
