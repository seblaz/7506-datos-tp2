{
 "cells": [
  {
   "cell_type": "markdown",
   "metadata": {},
   "source": [
    "# Predecir y subir los resultados a Kaggle\n",
    "\n",
    "El objetivo de este notebook es predecir la compra de los usuarios en el dataset *trocafone_kaggle_test.csv* y subir los resultados a kaggle."
   ]
  },
  {
   "cell_type": "code",
   "execution_count": 2,
   "metadata": {},
   "outputs": [],
   "source": [
    "import pandas as pd\n",
    "import os.path"
   ]
  },
  {
   "cell_type": "code",
   "execution_count": 6,
   "metadata": {},
   "outputs": [],
   "source": [
    "dataset = 'trocafone_kaggle_test.csv'\n",
    "labels_to_predict = pd.read_csv(os.path.join('fiuba-trocafone-tp2-final-set', dataset), low_memory=False, index_col='person')"
   ]
  },
  {
   "cell_type": "code",
   "execution_count": 10,
   "metadata": {},
   "outputs": [],
   "source": [
    "labels_to_predict.to_csv(path_or_buf='predictions.csv')"
   ]
  },
  {
   "cell_type": "markdown",
   "metadata": {},
   "source": [
    "### Subir los resultados\n",
    "\n",
    "Los resultados se pueden subir a través de https://www.kaggle.com/c/trocafone/ o si se tiene instalada api de Kaggle:"
   ]
  },
  {
   "cell_type": "code",
   "execution_count": 3,
   "metadata": {},
   "outputs": [],
   "source": [
    "import subprocess"
   ]
  },
  {
   "cell_type": "code",
   "execution_count": 4,
   "metadata": {},
   "outputs": [],
   "source": [
    "mensaje_de_submit = 'primera prediccion con xgboost'"
   ]
  },
  {
   "cell_type": "code",
   "execution_count": 5,
   "metadata": {},
   "outputs": [
    {
     "name": "stdout",
     "output_type": "stream",
     "text": [
      "Successfully submitted to Predicting user conversions \n"
     ]
    }
   ],
   "source": [
    "result = subprocess.run(['kaggle', 'competitions', 'submit', 'trocafone',\\\n",
    "                        '-f', 'predictions.csv', '-m', mensaje_de_submit],\\\n",
    "                        stdout=subprocess.PIPE, stderr=subprocess.PIPE)\n",
    "if result.returncode != 0:\n",
    "    raise ValueError(result.stderr.decode('utf-8'))\n",
    "else:\n",
    "    print(result.stdout.decode('utf-8'))"
   ]
  },
  {
   "cell_type": "markdown",
   "metadata": {},
   "source": [
    "Vemos que score obtuvimos:"
   ]
  },
  {
   "cell_type": "code",
   "execution_count": 6,
   "metadata": {},
   "outputs": [
    {
     "name": "stdout",
     "output_type": "stream",
     "text": [
      "fileName         date                 description                     status    publicScore  privateScore  \r\n",
      "---------------  -------------------  ------------------------------  --------  -----------  ------------  \r\n",
      "predictions.csv  2018-11-02 19:34:41  primera prediccion con xgboost  complete  0.82052      None          \r\n",
      "predictions.csv  2018-11-01 02:13:47  test con api de kaggle          complete  0.50000      None          \r\n",
      "predictions.csv  2018-11-01 01:48:58  test con ceros                  complete  0.50000      None          \r\n",
      "\n"
     ]
    }
   ],
   "source": [
    "result = subprocess.run(['kaggle', 'competitions', 'submissions', 'trocafone'],\\\n",
    "                        stdout=subprocess.PIPE, stderr=subprocess.PIPE)\n",
    "if result.returncode != 0:\n",
    "    raise ValueError(result.stderr.decode('utf-8'))\n",
    "else:\n",
    "    print(result.stdout.decode('utf-8'))"
   ]
  },
  {
   "cell_type": "code",
   "execution_count": null,
   "metadata": {},
   "outputs": [],
   "source": []
  }
 ],
 "metadata": {
  "kernelspec": {
   "display_name": "Python 3",
   "language": "python",
   "name": "python3"
  },
  "language_info": {
   "codemirror_mode": {
    "name": "ipython",
    "version": 3
   },
   "file_extension": ".py",
   "mimetype": "text/x-python",
   "name": "python",
   "nbconvert_exporter": "python",
   "pygments_lexer": "ipython3",
   "version": "3.6.5"
  }
 },
 "nbformat": 4,
 "nbformat_minor": 2
}
