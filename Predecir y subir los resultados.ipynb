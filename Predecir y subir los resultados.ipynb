{
 "cells": [
  {
   "cell_type": "markdown",
   "metadata": {},
   "source": [
    "# Predecir y subir los resultados a Kaggle\n",
    "\n",
    "El objetivo de este notebook es predecir la compra de los usuarios en el dataset *trocafone_kaggle_test.csv* y subir los resultados a kaggle."
   ]
  },
  {
   "cell_type": "code",
   "execution_count": 2,
   "metadata": {},
   "outputs": [],
   "source": [
    "import pandas as pd\n",
    "import os.path"
   ]
  },
  {
   "cell_type": "code",
   "execution_count": 6,
   "metadata": {},
   "outputs": [],
   "source": [
    "dataset = 'trocafone_kaggle_test.csv'\n",
    "labels_to_predict = pd.read_csv(os.path.join('fiuba-trocafone-tp2-final-set', dataset), low_memory=False, index_col='person')"
   ]
  },
  {
   "cell_type": "code",
   "execution_count": 10,
   "metadata": {},
   "outputs": [],
   "source": [
    "labels_to_predict.to_csv(path_or_buf='predictions.csv')"
   ]
  },
  {
   "cell_type": "markdown",
   "metadata": {},
   "source": [
    "### Subir los resultados\n",
    "\n",
    "Los resultados se pueden subir a través de https://www.kaggle.com/c/trocafone/ o si se tiene instalada api de Kaggle:"
   ]
  },
  {
   "cell_type": "code",
   "execution_count": 8,
   "metadata": {},
   "outputs": [],
   "source": [
    "import subprocess"
   ]
  },
  {
   "cell_type": "code",
   "execution_count": 9,
   "metadata": {},
   "outputs": [],
   "source": [
    "mensaje_de_submit = 'se agregan los features de fran'"
   ]
  },
  {
   "cell_type": "code",
   "execution_count": 10,
   "metadata": {},
   "outputs": [
    {
     "name": "stdout",
     "output_type": "stream",
     "text": [
      "Successfully submitted to Predicting user conversions \n"
     ]
    }
   ],
   "source": [
    "result = subprocess.run(['kaggle', 'competitions', 'submit', 'trocafone',\\\n",
    "                        '-f', 'predictions.csv', '-m', mensaje_de_submit],\\\n",
    "                        stdout=subprocess.PIPE, stderr=subprocess.PIPE)\n",
    "if result.returncode != 0:\n",
    "    raise ValueError(result.stderr.decode('utf-8'))\n",
    "else:\n",
    "    print(result.stdout.decode('utf-8'))"
   ]
  },
  {
   "cell_type": "markdown",
   "metadata": {},
   "source": [
    "Vemos que score obtuvimos:"
   ]
  },
  {
   "cell_type": "code",
   "execution_count": 11,
   "metadata": {},
   "outputs": [
    {
     "name": "stdout",
     "output_type": "stream",
     "text": [
      "fileName         date                 description                      status    publicScore  privateScore  \r\n",
      "---------------  -------------------  -------------------------------  --------  -----------  ------------  \r\n",
      "predictions.csv  2018-11-05 00:23:39  se agregan los features de fran  complete  0.83719      None          \r\n",
      "predictions.csv  2018-11-05 00:21:07  se agregan los features de fran  error     None         None          \r\n",
      "predictions.csv  2018-11-02 19:34:41  primera prediccion con xgboost   complete  0.82052      None          \r\n",
      "predictions.csv  2018-11-01 02:13:47  test con api de kaggle           complete  0.50000      None          \r\n",
      "predictions.csv  2018-11-01 01:48:58  test con ceros                   complete  0.50000      None          \r\n",
      "\n"
     ]
    }
   ],
   "source": [
    "result = subprocess.run(['kaggle', 'competitions', 'submissions', 'trocafone'],\\\n",
    "                        stdout=subprocess.PIPE, stderr=subprocess.PIPE)\n",
    "if result.returncode != 0:\n",
    "    raise ValueError(result.stderr.decode('utf-8'))\n",
    "else:\n",
    "    print(result.stdout.decode('utf-8'))"
   ]
  },
  {
   "cell_type": "markdown",
   "metadata": {},
   "source": [
    "Leaderboard:"
   ]
  },
  {
   "cell_type": "code",
   "execution_count": 6,
   "metadata": {},
   "outputs": [
    {
     "name": "stdout",
     "output_type": "stream",
     "text": [
      " teamId  teamName          submissionDate       score    \r\n",
      "-------  ----------------  -------------------  -------  \r\n",
      "2162393  Grupo 20          2018-11-01 08:48:59  0.86182  \r\n",
      "2184689  Datazo#25         2018-11-03 04:18:30  0.85563  \r\n",
      "2173330  dataPhone         2018-10-31 06:29:47  0.83716  \r\n",
      "2158013  Reduce Map Fast   2018-10-24 03:17:51  0.82697  \r\n",
      "2321761  #27 - RandomName  2018-11-02 19:34:41  0.82052  \r\n",
      "2160569  Datatouille       2018-10-05 15:50:50  0.77312  \r\n",
      "2168339  Grupo 42          2018-11-01 17:43:01  0.69161  \r\n",
      "2166383  DaTeam            2018-10-30 04:23:08  0.66814  \r\n",
      "2316005  Data wan Kenobi   2018-11-03 03:43:51  0.64168  \r\n",
      "2160612  Mistery Data      2018-10-06 05:01:26  0.49804  \r\n",
      "2207726  G28               2018-10-10 15:13:30  0.49006  \r\n",
      "\n"
     ]
    }
   ],
   "source": [
    "result = subprocess.run(['kaggle', 'competitions', 'leaderboard', 'trocafone', '--show'],\\\n",
    "                        stdout=subprocess.PIPE, stderr=subprocess.PIPE)\n",
    "if result.returncode != 0:\n",
    "    raise ValueError(result.stderr.decode('utf-8'))\n",
    "else:\n",
    "    print(result.stdout.decode('utf-8'))"
   ]
  }
 ],
 "metadata": {
  "kernelspec": {
   "display_name": "Python 3",
   "language": "python",
   "name": "python3"
  },
  "language_info": {
   "codemirror_mode": {
    "name": "ipython",
    "version": 3
   },
   "file_extension": ".py",
   "mimetype": "text/x-python",
   "name": "python",
   "nbconvert_exporter": "python",
   "pygments_lexer": "ipython3",
   "version": "3.6.5"
  }
 },
 "nbformat": 4,
 "nbformat_minor": 2
}
