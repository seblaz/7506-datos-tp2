{
 "cells": [
  {
   "cell_type": "markdown",
   "metadata": {},
   "source": [
    "# Predecir y subir los resultados a Kaggle\n",
    "\n",
    "El objetivo de este notebook es predecir la compra de los usuarios en el dataset *trocafone_kaggle_test.csv* y subir los resultados a kaggle."
   ]
  },
  {
   "cell_type": "code",
   "execution_count": 1,
   "metadata": {},
   "outputs": [],
   "source": [
    "import pandas as pd\n",
    "import os.path"
   ]
  },
  {
   "cell_type": "code",
   "execution_count": 6,
   "metadata": {},
   "outputs": [],
   "source": [
    "dataset = 'trocafone_kaggle_test.csv'\n",
    "labels_to_predict = pd.read_csv(os.path.join('fiuba-trocafone-tp2-final-set', dataset), low_memory=False, index_col='person')"
   ]
  },
  {
   "cell_type": "code",
   "execution_count": 10,
   "metadata": {},
   "outputs": [],
   "source": [
    "labels_to_predict.to_csv(path_or_buf='predictions.csv')"
   ]
  },
  {
   "cell_type": "markdown",
   "metadata": {},
   "source": [
    "### Subir los resultados\n",
    "\n",
    "Los resultados se pueden subir a través de https://www.kaggle.com/c/trocafone/ o si se tiene instalada api de Kaggle:"
   ]
  },
  {
   "cell_type": "code",
   "execution_count": 2,
   "metadata": {},
   "outputs": [],
   "source": [
    "import subprocess"
   ]
  },
  {
   "cell_type": "code",
   "execution_count": 10,
   "metadata": {},
   "outputs": [],
   "source": [
    "mensaje_de_submit = 'se precide con num_round=100'"
   ]
  },
  {
   "cell_type": "code",
   "execution_count": 11,
   "metadata": {},
   "outputs": [
    {
     "name": "stdout",
     "output_type": "stream",
     "text": [
      "Successfully submitted to Predicting user conversions \n"
     ]
    }
   ],
   "source": [
    "result = subprocess.run(['kaggle', 'competitions', 'submit', 'trocafone',\\\n",
    "                        '-f', 'predictions.csv', '-m', mensaje_de_submit],\\\n",
    "                        stdout=subprocess.PIPE, stderr=subprocess.PIPE)\n",
    "if result.returncode != 0:\n",
    "    raise ValueError(result.stderr.decode('utf-8'))\n",
    "else:\n",
    "    print(result.stdout.decode('utf-8'))"
   ]
  },
  {
   "cell_type": "markdown",
   "metadata": {},
   "source": [
    "Vemos que score obtuvimos:"
   ]
  },
  {
   "cell_type": "code",
   "execution_count": 12,
   "metadata": {},
   "outputs": [
    {
     "name": "stdout",
     "output_type": "stream",
     "text": [
      "fileName         date                 description                                                     status    publicScore  privateScore  \r\n",
      "---------------  -------------------  --------------------------------------------------------------  --------  -----------  ------------  \r\n",
      "predictions.csv  2018-11-18 17:00:52  se precide con num_round=100                                    complete  0.86243      None          \r\n",
      "predictions.csv  2018-11-18 17:00:12  se precide con num_round=1000                                   complete  0.86243      None          \r\n",
      "predictions.csv  2018-11-18 16:53:34  se agregan los nuevos features de fran                          complete  0.86340      None          \r\n",
      "predictions.csv  2018-11-11 13:27:11  se suben los resultados de xgboost con mejores hiperparametros  complete  0.84554      None          \r\n",
      "predictions.csv  2018-11-06 17:47:37  se agregan los features de tiempo                               complete  0.84466      None          \r\n",
      "predictions.csv  2018-11-05 00:23:39  se agregan los features de fran                                 complete  0.83719      None          \r\n",
      "predictions.csv  2018-11-05 00:21:07  se agregan los features de fran                                 error     None         None          \r\n",
      "predictions.csv  2018-11-02 19:34:41  primera prediccion con xgboost                                  complete  0.82052      None          \r\n",
      "predictions.csv  2018-11-01 02:13:47  test con api de kaggle                                          complete  0.50000      None          \r\n",
      "predictions.csv  2018-11-01 01:48:58  test con ceros                                                  complete  0.50000      None          \r\n",
      "\n"
     ]
    }
   ],
   "source": [
    "result = subprocess.run(['kaggle', 'competitions', 'submissions', 'trocafone'],\\\n",
    "                        stdout=subprocess.PIPE, stderr=subprocess.PIPE)\n",
    "if result.returncode != 0:\n",
    "    raise ValueError(result.stderr.decode('utf-8'))\n",
    "else:\n",
    "    print(result.stdout.decode('utf-8'))"
   ]
  },
  {
   "cell_type": "markdown",
   "metadata": {},
   "source": [
    "Leaderboard:"
   ]
  },
  {
   "cell_type": "code",
   "execution_count": 6,
   "metadata": {},
   "outputs": [
    {
     "name": "stdout",
     "output_type": "stream",
     "text": [
      " teamId  teamName                  submissionDate       score    \r\n",
      "-------  ------------------------  -------------------  -------  \r\n",
      "2250774  Definitely NOT Trocafone  2018-11-12 14:50:36  0.87912  \r\n",
      "2162393  Grupo 20                  2018-11-18 08:52:29  0.87195  \r\n",
      "2160569  Datatouille               2018-11-18 16:19:38  0.86585  \r\n",
      "2321761  #27 - RandomName          2018-11-18 16:53:34  0.86340  \r\n",
      "2173330  dataPhone                 2018-11-17 20:23:17  0.86104  \r\n",
      "2184689  Datazo#25                 2018-11-18 16:53:50  0.85816  \r\n",
      "2337086  Core Dumped               2018-11-15 01:08:13  0.83558  \r\n",
      "2158013  Reduce Map Fast           2018-11-11 03:48:13  0.83387  \r\n",
      "2168339  Grupo 42                  2018-11-11 00:39:14  0.83137  \r\n",
      "2363956  El secreto de sus datos   2018-11-17 14:51:21  0.82899  \r\n",
      "2333633  Zulma LoDato              2018-11-18 02:39:02  0.81335  \r\n",
      "2166383  DaTeam                    2018-11-17 19:36:31  0.81046  \r\n",
      "2359614  Data wan Kenobi           2018-11-17 15:19:09  0.80040  \r\n",
      "2366701  CriminalData              2018-11-16 04:36:38  0.77060  \r\n",
      "2160612  Mistery Data              2018-11-16 04:27:01  0.73294  \r\n",
      "2305052  Data 21                   2018-11-14 22:33:06  0.52029  \r\n",
      "2187837  Rio de la Data            2018-11-08 02:41:44  0.50862  \r\n",
      "2207726  G28                       2018-10-10 15:13:30  0.49006  \r\n",
      "\n"
     ]
    }
   ],
   "source": [
    "result = subprocess.run(['kaggle', 'competitions', 'leaderboard', 'trocafone', '--show'],\\\n",
    "                        stdout=subprocess.PIPE, stderr=subprocess.PIPE)\n",
    "if result.returncode != 0:\n",
    "    raise ValueError(result.stderr.decode('utf-8'))\n",
    "else:\n",
    "    print(result.stdout.decode('utf-8'))"
   ]
  },
  {
   "cell_type": "code",
   "execution_count": null,
   "metadata": {},
   "outputs": [],
   "source": []
  }
 ],
 "metadata": {
  "kernelspec": {
   "display_name": "Python 3",
   "language": "python",
   "name": "python3"
  },
  "language_info": {
   "codemirror_mode": {
    "name": "ipython",
    "version": 3
   },
   "file_extension": ".py",
   "mimetype": "text/x-python",
   "name": "python",
   "nbconvert_exporter": "python",
   "pygments_lexer": "ipython3",
   "version": "3.6.5"
  }
 },
 "nbformat": 4,
 "nbformat_minor": 2
}
